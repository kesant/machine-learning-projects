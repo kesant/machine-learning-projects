{
 "cells": [
  {
   "cell_type": "code",
   "execution_count": 13,
   "id": "03dbbc91",
   "metadata": {},
   "outputs": [],
   "source": [
    "import numpy as np\n",
    "import pandas as pd\n",
    "import matplotlib.pyplot as plt"
   ]
  },
  {
   "cell_type": "code",
   "execution_count": 8,
   "id": "a08cfada",
   "metadata": {},
   "outputs": [],
   "source": [
    "food_consumption=pd.read_csv(\"food_consumption.csv\")"
   ]
  },
  {
   "cell_type": "code",
   "execution_count": null,
   "id": "5502fd50",
   "metadata": {},
   "outputs": [],
   "source": []
  },
  {
   "cell_type": "code",
   "execution_count": 11,
   "id": "45001e72",
   "metadata": {},
   "outputs": [
    {
     "name": "stdout",
     "output_type": "stream",
     "text": [
      "Unnamed: 0      402.000000\n",
      "consumption      42.132727\n",
      "co2_emission    100.190000\n",
      "dtype: float64\n",
      "Unnamed: 0      402.00\n",
      "consumption      12.59\n",
      "co2_emission     21.34\n",
      "dtype: float64\n",
      "Unnamed: 0       61.00\n",
      "consumption      44.65\n",
      "co2_emission    156.26\n",
      "dtype: float64\n",
      "Unnamed: 0      61.00\n",
      "consumption     14.58\n",
      "co2_emission    15.34\n",
      "dtype: float64\n"
     ]
    },
    {
     "name": "stderr",
     "output_type": "stream",
     "text": [
      "C:\\Users\\kevin\\AppData\\Local\\Temp\\ipykernel_10228\\851895606.py:8: FutureWarning: The default value of numeric_only in DataFrame.mean is deprecated. In a future version, it will default to False. In addition, specifying 'numeric_only=None' is deprecated. Select only valid columns or specify the value of numeric_only to silence this warning.\n",
      "  print(be_consumption.agg(\"mean\"))\n",
      "C:\\Users\\kevin\\AppData\\Local\\Temp\\ipykernel_10228\\851895606.py:9: FutureWarning: The default value of numeric_only in DataFrame.median is deprecated. In a future version, it will default to False. In addition, specifying 'numeric_only=None' is deprecated. Select only valid columns or specify the value of numeric_only to silence this warning.\n",
      "  print(be_consumption.median())\n",
      "C:\\Users\\kevin\\AppData\\Local\\Temp\\ipykernel_10228\\851895606.py:12: FutureWarning: The default value of numeric_only in DataFrame.mean is deprecated. In a future version, it will default to False. In addition, specifying 'numeric_only=None' is deprecated. Select only valid columns or specify the value of numeric_only to silence this warning.\n",
      "  print(usa_consumption.mean())\n",
      "C:\\Users\\kevin\\AppData\\Local\\Temp\\ipykernel_10228\\851895606.py:13: FutureWarning: The default value of numeric_only in DataFrame.median is deprecated. In a future version, it will default to False. In addition, specifying 'numeric_only=None' is deprecated. Select only valid columns or specify the value of numeric_only to silence this warning.\n",
      "  print(usa_consumption.median())\n"
     ]
    }
   ],
   "source": [
    "# Filter for Belgium\n",
    "be_consumption = food_consumption.query(\"country=='Belgium'\")\n",
    "\n",
    "# Filter for USA\n",
    "usa_consumption = food_consumption.query(\"country=='USA'\")\n",
    "\n",
    "# Calculate mean and median consumption in Belgium\n",
    "print(be_consumption.agg(\"mean\"))\n",
    "print(be_consumption.median())\n",
    "\n",
    "# Calculate mean and median consumption in USA\n",
    "print(usa_consumption.mean())\n",
    "print(usa_consumption.median())"
   ]
  },
  {
   "cell_type": "code",
   "execution_count": 12,
   "id": "c0b3369c",
   "metadata": {},
   "outputs": [
    {
     "name": "stdout",
     "output_type": "stream",
     "text": [
      "              mean  median\n",
      "country                   \n",
      "Belgium  42.132727   12.59\n",
      "USA      44.650000   14.58\n"
     ]
    }
   ],
   "source": [
    "# Subset for Belgium and USA only\n",
    "be_and_usa = food_consumption[(food_consumption[\"country\"]==\"Belgium\") | (food_consumption[\"country\"]==\"USA\")]\n",
    "\n",
    "# Group by country, select consumption column, and compute mean and median\n",
    "print(be_and_usa.groupby(\"country\")[\"consumption\"].agg([\"mean\",\"median\"]))"
   ]
  },
  {
   "cell_type": "code",
   "execution_count": 21,
   "id": "4064686f",
   "metadata": {},
   "outputs": [
    {
     "data": {
      "image/png": "[encoded data removed]",
      "text/plain": [
       "<Figure size 640x480 with 1 Axes>"
      ]
     },
     "metadata": {},
     "output_type": "display_data"
    }
   ],
   "source": [
    "\n",
    "# Subset for food_category equals rice\n",
    "rice_consumption =food_consumption[food_consumption[\"food_category\"]==\"rice\"]\n",
    "\n",
    "# Histogram of co2_emission for rice and show plot\n",
    "rice_consumption[\"co2_emission\"].hist(bins=6)\n",
    "plt.show()\n"
   ]
  },
  {
   "cell_type": "code",
   "execution_count": 22,
   "id": "16eba248",
   "metadata": {},
   "outputs": [
    {
     "name": "stdout",
     "output_type": "stream",
     "text": [
      "mean      37.591615\n",
      "median    15.200000\n",
      "Name: co2_emission, dtype: float64\n"
     ]
    }
   ],
   "source": [
    "# Calculate mean and median of co2_emission with .agg()\n",
    "print(rice_consumption[\"co2_emission\"].agg([\"mean\",\"median\"]))"
   ]
  },
  {
   "cell_type": "markdown",
   "id": "0af2edba",
   "metadata": {},
   "source": [
    "given this distribution is better to use the median"
   ]
  },
  {
   "cell_type": "code",
   "execution_count": null,
   "id": "1c795098",
   "metadata": {},
   "outputs": [],
   "source": []
  }
 ],
 "metadata": {
  "kernelspec": {
   "display_name": "Python 3 (ipykernel)",
   "language": "python",
   "name": "python3"
  },
  "language_info": {
   "codemirror_mode": {
    "name": "ipython",
    "version": 3
   },
   "file_extension": ".py",
   "mimetype": "text/x-python",
   "name": "python",
   "nbconvert_exporter": "python",
   "pygments_lexer": "ipython3",
   "version": "3.11.3"
  }
 },
 "nbformat": 4,
 "nbformat_minor": 5
}
