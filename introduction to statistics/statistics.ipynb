{
 "cells": [
  {
   "cell_type": "code",
   "execution_count": 2,
   "id": "03dbbc91",
   "metadata": {},
   "outputs": [],
   "source": [
    "import numpy as np\n",
    "import pandas as pd\n",
    "import matplotlib.pyplot as plt"
   ]
  },
  {
   "cell_type": "code",
   "execution_count": 3,
   "id": "a08cfada",
   "metadata": {},
   "outputs": [],
   "source": [
    "food_consumption=pd.read_csv(\"food_consumption.csv\")"
   ]
  },
  {
   "cell_type": "code",
   "execution_count": null,
   "id": "5502fd50",
   "metadata": {},
   "outputs": [],
   "source": []
  },
  {
   "cell_type": "code",
   "execution_count": 4,
   "id": "45001e72",
   "metadata": {},
   "outputs": [
    {
     "name": "stdout",
     "output_type": "stream",
     "text": [
      "Unnamed: 0      402.000000\n",
      "consumption      42.132727\n",
      "co2_emission    100.190000\n",
      "dtype: float64\n",
      "Unnamed: 0      402.00\n",
      "consumption      12.59\n",
      "co2_emission     21.34\n",
      "dtype: float64\n",
      "Unnamed: 0       61.00\n",
      "consumption      44.65\n",
      "co2_emission    156.26\n",
      "dtype: float64\n",
      "Unnamed: 0      61.00\n",
      "consumption     14.58\n",
      "co2_emission    15.34\n",
      "dtype: float64\n"
     ]
    },
    {
     "name": "stderr",
     "output_type": "stream",
     "text": [
      "C:\\Users\\kevin\\AppData\\Local\\Temp\\ipykernel_11648\\851895606.py:8: FutureWarning: The default value of numeric_only in DataFrame.mean is deprecated. In a future version, it will default to False. In addition, specifying 'numeric_only=None' is deprecated. Select only valid columns or specify the value of numeric_only to silence this warning.\n",
      "  print(be_consumption.agg(\"mean\"))\n",
      "C:\\Users\\kevin\\AppData\\Local\\Temp\\ipykernel_11648\\851895606.py:9: FutureWarning: The default value of numeric_only in DataFrame.median is deprecated. In a future version, it will default to False. In addition, specifying 'numeric_only=None' is deprecated. Select only valid columns or specify the value of numeric_only to silence this warning.\n",
      "  print(be_consumption.median())\n",
      "C:\\Users\\kevin\\AppData\\Local\\Temp\\ipykernel_11648\\851895606.py:12: FutureWarning: The default value of numeric_only in DataFrame.mean is deprecated. In a future version, it will default to False. In addition, specifying 'numeric_only=None' is deprecated. Select only valid columns or specify the value of numeric_only to silence this warning.\n",
      "  print(usa_consumption.mean())\n",
      "C:\\Users\\kevin\\AppData\\Local\\Temp\\ipykernel_11648\\851895606.py:13: FutureWarning: The default value of numeric_only in DataFrame.median is deprecated. In a future version, it will default to False. In addition, specifying 'numeric_only=None' is deprecated. Select only valid columns or specify the value of numeric_only to silence this warning.\n",
      "  print(usa_consumption.median())\n"
     ]
    }
   ],
   "source": [
    "# Filter for Belgium\n",
    "be_consumption = food_consumption.query(\"country=='Belgium'\")\n",
    "\n",
    "# Filter for USA\n",
    "usa_consumption = food_consumption.query(\"country=='USA'\")\n",
    "\n",
    "# Calculate mean and median consumption in Belgium\n",
    "print(be_consumption.agg(\"mean\"))\n",
    "print(be_consumption.median())\n",
    "\n",
    "# Calculate mean and median consumption in USA\n",
    "print(usa_consumption.mean())\n",
    "print(usa_consumption.median())"
   ]
  },
  {
   "cell_type": "code",
   "execution_count": 5,
   "id": "c0b3369c",
   "metadata": {},
   "outputs": [
    {
     "name": "stdout",
     "output_type": "stream",
     "text": [
      "              mean  median\n",
      "country                   \n",
      "Belgium  42.132727   12.59\n",
      "USA      44.650000   14.58\n"
     ]
    }
   ],
   "source": [
    "# Subset for Belgium and USA only\n",
    "be_and_usa = food_consumption[(food_consumption[\"country\"]==\"Belgium\") | (food_consumption[\"country\"]==\"USA\")]\n",
    "\n",
    "# Group by country, select consumption column, and compute mean and median\n",
    "print(be_and_usa.groupby(\"country\")[\"consumption\"].agg([\"mean\",\"median\"]))"
   ]
  },
  {
   "cell_type": "code",
   "execution_count": 6,
   "id": "4064686f",
   "metadata": {},
   "outputs": [
    {
     "data": {
      "image/png": "[encoded data removed]",
      "text/plain": [
       "<Figure size 640x480 with 1 Axes>"
      ]
     },
     "metadata": {},
     "output_type": "display_data"
    }
   ],
   "source": [
    "\n",
    "# Subset for food_category equals rice\n",
    "rice_consumption =food_consumption[food_consumption[\"food_category\"]==\"rice\"]\n",
    "\n",
    "# Histogram of co2_emission for rice and show plot\n",
    "rice_consumption[\"co2_emission\"].hist(bins=6)\n",
    "plt.show()\n"
   ]
  },
  {
   "cell_type": "code",
   "execution_count": 7,
   "id": "16eba248",
   "metadata": {},
   "outputs": [
    {
     "name": "stdout",
     "output_type": "stream",
     "text": [
      "mean      37.591615\n",
      "median    15.200000\n",
      "Name: co2_emission, dtype: float64\n"
     ]
    }
   ],
   "source": [
    "# Calculate mean and median of co2_emission with .agg()\n",
    "print(rice_consumption[\"co2_emission\"].agg([\"mean\",\"median\"]))"
   ]
  },
  {
   "cell_type": "markdown",
   "id": "0af2edba",
   "metadata": {},
   "source": [
    "given this distribution is better to use the median"
   ]
  },
  {
   "cell_type": "code",
   "execution_count": 8,
   "id": "1c795098",
   "metadata": {},
   "outputs": [
    {
     "name": "stdout",
     "output_type": "stream",
     "text": [
      "[   0.        5.21     16.53     62.5975 1712.    ]\n"
     ]
    }
   ],
   "source": [
    "# Calculate the quartiles of co2_emission\n",
    "print(np.quantile(food_consumption[\"co2_emission\"],np.linspace(0,1,5)))"
   ]
  },
  {
   "cell_type": "code",
   "execution_count": 9,
   "id": "c823822b",
   "metadata": {},
   "outputs": [
    {
     "name": "stdout",
     "output_type": "stream",
     "text": [
      "[   0.       3.54    11.026   25.59    99.978 1712.   ]\n"
     ]
    }
   ],
   "source": [
    "# Calculate the quintiles of co2_emission\n",
    "print(np.quantile(food_consumption[\"co2_emission\"],np.linspace(0,1,6)))"
   ]
  },
  {
   "cell_type": "code",
   "execution_count": 10,
   "id": "b0630f52",
   "metadata": {},
   "outputs": [
    {
     "name": "stdout",
     "output_type": "stream",
     "text": [
      "[0.00000e+00 6.68000e-01 3.54000e+00 7.04000e+00 1.10260e+01 1.65300e+01\n",
      " 2.55900e+01 4.42710e+01 9.99780e+01 2.03629e+02 1.71200e+03]\n"
     ]
    }
   ],
   "source": [
    "# Calculate the deciles of co2_emission\n",
    "print(np.quantile(food_consumption[\"co2_emission\"],np.linspace(0,1,11)))"
   ]
  },
  {
   "cell_type": "code",
   "execution_count": 11,
   "id": "c4ef8252",
   "metadata": {},
   "outputs": [
    {
     "name": "stdout",
     "output_type": "stream",
     "text": [
      "                        var         std\n",
      "food_category                          \n",
      "beef           88748.408132  297.906710\n",
      "dairy          17671.891985  132.935669\n",
      "eggs              21.371819    4.622966\n",
      "fish             921.637349   30.358481\n",
      "lamb_goat      16475.518363  128.356996\n",
      "nuts              35.639652    5.969895\n",
      "pork            3094.963537   55.632396\n",
      "poultry          245.026801   15.653332\n",
      "rice            2281.376243   47.763754\n",
      "soybeans           0.879882    0.938020\n",
      "wheat             71.023937    8.427570\n"
     ]
    },
    {
     "data": {
      "image/png": "[encoded data removed]",
      "text/plain": [
       "<Figure size 640x480 with 1 Axes>"
      ]
     },
     "metadata": {},
     "output_type": "display_data"
    },
    {
     "data": {
      "image/png": "[encoded data removed]",
      "text/plain": [
       "<Figure size 640x480 with 1 Axes>"
      ]
     },
     "metadata": {},
     "output_type": "display_data"
    }
   ],
   "source": [
    "# Print variance and sd of co2_emission for each food_category\n",
    "print(food_consumption.groupby(\"food_category\")[\"co2_emission\"].agg([\"var\",\"std\"]))\n",
    "\n",
    "# Create histogram of co2_emission for food_category 'beef'\n",
    "food_consumption[food_consumption[\"food_category\"]==\"beef\"][\"co2_emission\"].hist()\n",
    "# Show plot\n",
    "plt.show()\n",
    "\n",
    "# Create histogram of co2_emission for food_category 'eggs'\n",
    "food_consumption[food_consumption[\"food_category\"]==\"eggs\"][\"co2_emission\"].hist()\n",
    "# Show plot\n",
    "plt.show()"
   ]
  },
  {
   "cell_type": "markdown",
   "id": "f4f39ed3",
   "metadata": {},
   "source": [
    "Finding outliers using IQR\n",
    "Outliers can have big effects on statistics like mean, as well as statistics that rely on the mean, such as variance and standard deviation. Interquartile range, or IQR, is another way of measuring spread that's less influenced by outliers. IQR is also often used to find outliers. If a value is less than \n",
    " or greater than \n",
    ", it's considered an outlier. In fact, this is how the lengths of the whiskers in a matplotlib box plot are calculated.\n",
    "\n",
    "Diagram of a box plot showing median, quartiles, and outliers"
   ]
  },
  {
   "cell_type": "code",
   "execution_count": 13,
   "id": "10269a7f",
   "metadata": {},
   "outputs": [
    {
     "name": "stdout",
     "output_type": "stream",
     "text": [
      "country\n",
      "Argentina    2172.4\n",
      "Name: co2_emission, dtype: float64\n"
     ]
    }
   ],
   "source": [
    "# Calculate total co2_emission per country: emissions_by_country\n",
    "emissions_by_country = food_consumption.groupby('country')['co2_emission'].sum()\n",
    "\n",
    "# Compute the first and third quantiles and IQR of emissions_by_country\n",
    "q1 = np.quantile(emissions_by_country, 0.25)\n",
    "q3 = np.quantile(emissions_by_country, 0.75)\n",
    "iqr = q3 - q1\n",
    "\n",
    "# Calculate the lower and upper cutoffs for outliers\n",
    "lower = q1 - 1.5 * iqr\n",
    "upper = q3 + 1.5 * iqr\n",
    "\n",
    "# Subset emissions_by_country to find outliers\n",
    "outliers = emissions_by_country[(emissions_by_country>upper)|(emissions_by_country<lower)]\n",
    "print(outliers)"
   ]
  },
  {
   "cell_type": "code",
   "execution_count": null,
   "id": "6900432c",
   "metadata": {},
   "outputs": [],
   "source": []
  }
 ],
 "metadata": {
  "kernelspec": {
   "display_name": "Python 3 (ipykernel)",
   "language": "python",
   "name": "python3"
  },
  "language_info": {
   "codemirror_mode": {
    "name": "ipython",
    "version": 3
   },
   "file_extension": ".py",
   "mimetype": "text/x-python",
   "name": "python",
   "nbconvert_exporter": "python",
   "pygments_lexer": "ipython3",
   "version": "3.11.3"
  }
 },
 "nbformat": 4,
 "nbformat_minor": 5
}
