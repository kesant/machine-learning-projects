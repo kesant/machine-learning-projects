{
  "nbformat": 4,
  "nbformat_minor": 0,
  "metadata": {
    "colab": {
      "provenance": []
    },
    "kernelspec": {
      "name": "python3",
      "display_name": "Python 3"
    },
    "language_info": {
      "name": "python"
    }
  },
  "cells": [
    {
      "cell_type": "code",
      "execution_count": 2,
      "metadata": {
        "colab": {
          "base_uri": "https://localhost:8080/"
        },
        "id": "Gq1Sg3l0CHx4",
        "outputId": "a94a99f0-ec8d-476c-a9a4-4810fb5149bb"
      },
      "outputs": [
        {
          "output_type": "stream",
          "name": "stdout",
          "text": [
            "Requirement already satisfied: scikit-learn in /usr/local/lib/python3.10/dist-packages (1.2.2)\n",
            "Requirement already satisfied: numpy>=1.17.3 in /usr/local/lib/python3.10/dist-packages (from scikit-learn) (1.25.2)\n",
            "Requirement already satisfied: scipy>=1.3.2 in /usr/local/lib/python3.10/dist-packages (from scikit-learn) (1.11.4)\n",
            "Requirement already satisfied: joblib>=1.1.1 in /usr/local/lib/python3.10/dist-packages (from scikit-learn) (1.3.2)\n",
            "Requirement already satisfied: threadpoolctl>=2.0.0 in /usr/local/lib/python3.10/dist-packages (from scikit-learn) (3.3.0)\n",
            "Requirement already satisfied: scikit-multilearn in /usr/local/lib/python3.10/dist-packages (0.2.0)\n"
          ]
        }
      ],
      "source": [
        "# Install necessary libraries\n",
        "!pip install scikit-learn\n",
        "!pip install scikit-multilearn"
      ]
    },
    {
      "cell_type": "markdown",
      "source": [
        "# Organizando una Biblioteca de Música\n",
        "Imagina que tienes una gran colección de música y deseas organizarla digitalmente. Cada canción puede pertenecer a múltiples categorías o \"etiquetas\" al mismo tiempo, como géneros (rock, jazz), estados de ánimo (alegre, melancólico), o incluso actividades para las cuales es adecuada (estudiar, hacer ejercicio).\n",
        "\n",
        "Objetivo: Automatizar la organización de tu colección, asignando cada canción a todas las categorías relevantes de manera precisa."
      ],
      "metadata": {
        "id": "xc-OFzKlNVii"
      }
    },
    {
      "cell_type": "code",
      "source": [
        "from sklearn.datasets import make_multilabel_classification\n",
        "from skmultilearn.problem_transform import BinaryRelevance\n",
        "from sklearn.ensemble import RandomForestClassifier\n",
        "from sklearn.model_selection import train_test_split\n",
        "from sklearn.metrics import accuracy_score, hamming_loss, f1_score\n"
      ],
      "metadata": {
        "id": "eFFqRzN2D3c9"
      },
      "execution_count": 4,
      "outputs": []
    },
    {
      "cell_type": "markdown",
      "source": [
        "* Crearemos un dataset sintético para multi-label classification usando make_multilabel_classification.\n",
        "* Conjunto simulado de datos de música, que representa varias canciones, cada una con múltiples etiquetas (géneros, estados de ánimo)."
      ],
      "metadata": {
        "id": "zLNZkj9iEW96"
      }
    },
    {
      "cell_type": "code",
      "source": [
        "# Generar datos sintéticos para multi-label classification\n",
        "X, y = make_multilabel_classification(n_samples=1000, n_classes=5, n_labels=3, random_state=42)\n",
        "\n",
        "# Dividir el dataset en entrenamiento y prueba\n",
        "X_train, X_test, y_train, y_test = train_test_split(X, y, test_size=0.3, random_state=42)\n"
      ],
      "metadata": {
        "id": "MxP72SA_D9XV"
      },
      "execution_count": 5,
      "outputs": []
    },
    {
      "cell_type": "markdown",
      "source": [
        "# Algoritmos para clasificación de etiquetas múltiples\n",
        "## Binary Relevance\n",
        "Este es el enfoque más sencillo, donde cada etiqueta se trata como un problema de clasificación binaria independiente. El clasificador binario de cada etiqueta está entrenado para predecir su presencia o ausencia.\n",
        "\n",
        "## Label Powerset\n",
        "Este enfoque trata cada combinación única de etiquetas como una única clase. Este método es eficaz para un número limitado de etiquetas.\n",
        "\n",
        "## Classifier Chains\n",
        "Las cadenas clasificadoras amplían la relevancia binaria al considerar las correlaciones entre etiquetas. Cada etiqueta se predice en una secuencia, considerando las predicciones de etiquetas anteriores.\n",
        "\n",
        "## Multi-Label k-Nearest Neighbors (MLkNN)\n",
        "MLkNN es una adaptación del algoritmo k-Vecinos más cercanos para clasificación de etiquetas múltiples. Predice las etiquetas basándose en las etiquetas de los k vecinos más cercanos."
      ],
      "metadata": {
        "id": "YM7b8nfiH5JQ"
      }
    },
    {
      "cell_type": "code",
      "source": [
        "# Inicializar Binary Relevance con RandomForestClassifier\n",
        "classifier = BinaryRelevance(classifier=RandomForestClassifier(), require_dense=[False,True])\n",
        "\n",
        "# Entrenar el clasificador con el conjunto de entrenamiento\n",
        "classifier.fit(X_train, y_train)\n"
      ],
      "metadata": {
        "colab": {
          "base_uri": "https://localhost:8080/",
          "height": 141
        },
        "id": "Fmyexe-6CpxK",
        "outputId": "3bad0c83-a02d-4680-f6f1-7454c1a3ec31"
      },
      "execution_count": 6,
      "outputs": [
        {
          "output_type": "execute_result",
          "data": {
            "text/plain": [
              "BinaryRelevance(classifier=RandomForestClassifier(),\n",
              "                require_dense=[False, True])"
            ],
            "text/html": [
              "<style>#sk-container-id-1 {color: black;background-color: white;}#sk-container-id-1 pre{padding: 0;}#sk-container-id-1 div.sk-toggleable {background-color: white;}#sk-container-id-1 label.sk-toggleable__label {cursor: pointer;display: block;width: 100%;margin-bottom: 0;padding: 0.3em;box-sizing: border-box;text-align: center;}#sk-container-id-1 label.sk-toggleable__label-arrow:before {content: \"▸\";float: left;margin-right: 0.25em;color: #696969;}#sk-container-id-1 label.sk-toggleable__label-arrow:hover:before {color: black;}#sk-container-id-1 div.sk-estimator:hover label.sk-toggleable__label-arrow:before {color: black;}#sk-container-id-1 div.sk-toggleable__content {max-height: 0;max-width: 0;overflow: hidden;text-align: left;background-color: #f0f8ff;}#sk-container-id-1 div.sk-toggleable__content pre {margin: 0.2em;color: black;border-radius: 0.25em;background-color: #f0f8ff;}#sk-container-id-1 input.sk-toggleable__control:checked~div.sk-toggleable__content {max-height: 200px;max-width: 100%;overflow: auto;}#sk-container-id-1 input.sk-toggleable__control:checked~label.sk-toggleable__label-arrow:before {content: \"▾\";}#sk-container-id-1 div.sk-estimator input.sk-toggleable__control:checked~label.sk-toggleable__label {background-color: #d4ebff;}#sk-container-id-1 div.sk-label input.sk-toggleable__control:checked~label.sk-toggleable__label {background-color: #d4ebff;}#sk-container-id-1 input.sk-hidden--visually {border: 0;clip: rect(1px 1px 1px 1px);clip: rect(1px, 1px, 1px, 1px);height: 1px;margin: -1px;overflow: hidden;padding: 0;position: absolute;width: 1px;}#sk-container-id-1 div.sk-estimator {font-family: monospace;background-color: #f0f8ff;border: 1px dotted black;border-radius: 0.25em;box-sizing: border-box;margin-bottom: 0.5em;}#sk-container-id-1 div.sk-estimator:hover {background-color: #d4ebff;}#sk-container-id-1 div.sk-parallel-item::after {content: \"\";width: 100%;border-bottom: 1px solid gray;flex-grow: 1;}#sk-container-id-1 div.sk-label:hover label.sk-toggleable__label {background-color: #d4ebff;}#sk-container-id-1 div.sk-serial::before {content: \"\";position: absolute;border-left: 1px solid gray;box-sizing: border-box;top: 0;bottom: 0;left: 50%;z-index: 0;}#sk-container-id-1 div.sk-serial {display: flex;flex-direction: column;align-items: center;background-color: white;padding-right: 0.2em;padding-left: 0.2em;position: relative;}#sk-container-id-1 div.sk-item {position: relative;z-index: 1;}#sk-container-id-1 div.sk-parallel {display: flex;align-items: stretch;justify-content: center;background-color: white;position: relative;}#sk-container-id-1 div.sk-item::before, #sk-container-id-1 div.sk-parallel-item::before {content: \"\";position: absolute;border-left: 1px solid gray;box-sizing: border-box;top: 0;bottom: 0;left: 50%;z-index: -1;}#sk-container-id-1 div.sk-parallel-item {display: flex;flex-direction: column;z-index: 1;position: relative;background-color: white;}#sk-container-id-1 div.sk-parallel-item:first-child::after {align-self: flex-end;width: 50%;}#sk-container-id-1 div.sk-parallel-item:last-child::after {align-self: flex-start;width: 50%;}#sk-container-id-1 div.sk-parallel-item:only-child::after {width: 0;}#sk-container-id-1 div.sk-dashed-wrapped {border: 1px dashed gray;margin: 0 0.4em 0.5em 0.4em;box-sizing: border-box;padding-bottom: 0.4em;background-color: white;}#sk-container-id-1 div.sk-label label {font-family: monospace;font-weight: bold;display: inline-block;line-height: 1.2em;}#sk-container-id-1 div.sk-label-container {text-align: center;}#sk-container-id-1 div.sk-container {/* jupyter's `normalize.less` sets `[hidden] { display: none; }` but bootstrap.min.css set `[hidden] { display: none !important; }` so we also need the `!important` here to be able to override the default hidden behavior on the sphinx rendered scikit-learn.org. See: https://github.com/scikit-learn/scikit-learn/issues/21755 */display: inline-block !important;position: relative;}#sk-container-id-1 div.sk-text-repr-fallback {display: none;}</style><div id=\"sk-container-id-1\" class=\"sk-top-container\"><div class=\"sk-text-repr-fallback\"><pre>BinaryRelevance(classifier=RandomForestClassifier(),\n",
              "                require_dense=[False, True])</pre><b>In a Jupyter environment, please rerun this cell to show the HTML representation or trust the notebook. <br />On GitHub, the HTML representation is unable to render, please try loading this page with nbviewer.org.</b></div><div class=\"sk-container\" hidden><div class=\"sk-item sk-dashed-wrapped\"><div class=\"sk-label-container\"><div class=\"sk-label sk-toggleable\"><input class=\"sk-toggleable__control sk-hidden--visually\" id=\"sk-estimator-id-1\" type=\"checkbox\" ><label for=\"sk-estimator-id-1\" class=\"sk-toggleable__label sk-toggleable__label-arrow\">BinaryRelevance</label><div class=\"sk-toggleable__content\"><pre>BinaryRelevance(classifier=RandomForestClassifier(),\n",
              "                require_dense=[False, True])</pre></div></div></div><div class=\"sk-parallel\"><div class=\"sk-parallel-item\"><div class=\"sk-item\"><div class=\"sk-label-container\"><div class=\"sk-label sk-toggleable\"><input class=\"sk-toggleable__control sk-hidden--visually\" id=\"sk-estimator-id-2\" type=\"checkbox\" ><label for=\"sk-estimator-id-2\" class=\"sk-toggleable__label sk-toggleable__label-arrow\">classifier: RandomForestClassifier</label><div class=\"sk-toggleable__content\"><pre>RandomForestClassifier()</pre></div></div></div><div class=\"sk-serial\"><div class=\"sk-item\"><div class=\"sk-estimator sk-toggleable\"><input class=\"sk-toggleable__control sk-hidden--visually\" id=\"sk-estimator-id-3\" type=\"checkbox\" ><label for=\"sk-estimator-id-3\" class=\"sk-toggleable__label sk-toggleable__label-arrow\">RandomForestClassifier</label><div class=\"sk-toggleable__content\"><pre>RandomForestClassifier()</pre></div></div></div></div></div></div></div></div></div></div>"
            ]
          },
          "metadata": {},
          "execution_count": 6
        }
      ]
    },
    {
      "cell_type": "markdown",
      "source": [
        "- Ventajas: Es intuitivo y fácil de implementar. Funciona bien como una línea de base para comparar enfoques más complejos.\n",
        "- Desventajas: Puede ignorar la correlación entre las etiquetas, lo que en  algunos casos puede ser útil para mejorar el rendimiento del modelo."
      ],
      "metadata": {
        "id": "DxTA--VJExT0"
      }
    },
    {
      "cell_type": "code",
      "source": [
        "# Predicciones sobre el conjunto de prueba\n",
        "predictions = classifier.predict(X_test)\n",
        "predictions"
      ],
      "metadata": {
        "colab": {
          "base_uri": "https://localhost:8080/"
        },
        "id": "nkOHj0YEKO_I",
        "outputId": "dbe9259f-7d8b-48a3-9ab6-c4394a88dbf3"
      },
      "execution_count": 10,
      "outputs": [
        {
          "output_type": "execute_result",
          "data": {
            "text/plain": [
              "<300x5 sparse matrix of type '<class 'numpy.int64'>'\n",
              "\twith 788 stored elements in Compressed Sparse Column format>"
            ]
          },
          "metadata": {},
          "execution_count": 10
        }
      ]
    },
    {
      "cell_type": "markdown",
      "source": [
        "![image.png](data:image/png;base64,iVBORw0KGgoAAAANSUhEUgAAAecAAAEpCAIAAAAmjX3HAAAgAElEQVR4Ae2dP2scydaHFe0LmzjY9Catud4Ff4P9BM4WZ2swChxpJX2AG21wcWKcWJZtuLBgEHdtnA4CY+RkA4EReGDBmbBhMq+Fr9AghVr3S3dNn6mu7q6u7q4/XVW/xax6ZqpP1XlO9dM1NSN7LcV/IAACIAAC/hBY82eoGCkIgAAIgEAKa2MSgAAIgIBPBGBtn6qFsYIACIAArI05AAIgAAI+EYC1faoWxgoCIAACsDbmAAiAAAj4RKCbtRcXl/Oz85MPc/wBARAAARBwQkDV2ouLy5MP8/nZ+eLiEn9AAARAAARcEVCy9vzsHL52VSH0CwIgAAI8gXZrQ9k8LxyDAAiAgFsCLdZmG9luh4jeQQAEQAAEiECLtU8+zKkpDkAABEAABJwTkFkbC23n5cEAQAAEQEAgILM2PoEUYOEhCIAACDgnILM2tkeclwcDAAEQAAGBAKyNr5+DAAiAgE8EYG2fqiXccvEQBEAgQgKwNqwNAiAAAj4RgLV9qlaEywqkDAIgIBCAtWFtEAABEPCJAKztU7WEWy4eggAIREgA1oa1QQAEQMAnArC2T9WKcFmBlEEABAQCsDasDQIgAAI+EYC1faqWcMvFQxAAgQgJwNqwNgiAAAj4RADW9qlaES4rkDIIgIBAANaGtUEABEDAJwKwtk/VEm65eAgCIBAhAVgb1gYBEAABnwjA2j5VK8JlBVIGARAQCMDasDYIgAAI+EQA1vapWid//vTN799+8/u3a3/8dnTWeeSHR2t0Ov55OWH9gocg4AuBoK19frw9Sdb/feRLMVrHefLnT2tvfno2v+zt3PnZ+eHR2tofv/WO0DpINAABEDBKIEZrX81215Nkc/pXD7Ifjx7efvpSvs6d7iRJ8kjepkfXi4tLsnbt6R+PHt66f42tpiWDhLVr6eFJEPCFQIzWXlxcvjl81c+q75/fTSabz+bS3YnzY0P/ULLE2qcHW9/8/u3tpy/fHL56c/jq1v1raw/u1OYIa/tycWKcIFBLIFJr17JQeVLJ2hdSpw94tdHa58f7T76b7M0ohavZ7q3712rfT8DaRAkHIOAjAavWfreb/LDx7OPRw2y7OUmu37gpaOXr18+Pb3//w8azLycv9u9trCdZM2Fj+v3zu+z0ZLK59/qtAJ2C//jzr3uv3/L72mxjZBmzYYfky8mLx7e/Z2P78edfV2tVtkXOxsP9/4eNZ2yDmI2cgtfvkJwfU1JseDT4LycvtifJ49nfNP7a7JqsXePo3OP/95//VvevYW3CjgMQ8JGAbWuvJwnz0ZvDV8yPvLiZ+67fuHn9xk16s79S8/nx49vfX79xc+/12zeHr5gB+QXm++d315PsxsB2CZjcV9I/P2bPM+/z/bLKfTx6KJzOb4awc/fvbdAA2DNUdfaQ5VVj7brB0xiYta/fuPnjz7+yOCxTYStGYu21B3f4xu+f3711/xqsTdXBAQgEQ8C2tXkPLnKRlQRXqI10xoM+Pdi6fuPm49nf9CTbr5h+SrNn8uVwsjOlV5kKV9YutibY82IX58dP1jPj0+I0/TTdniT8XWFxcSnskJymeddFZNb1u92aTyOzJ8sb4tmHlpNNtpxnQ+J7Z88IvStZO19lrz24A2vTTMABCIREwLq1y1+uEERMOySrrQlOiJnmdqZk1cXFJVMb8zjbAOGdzjyuaO3aL5acfJi/OXzF11uwNv8SHddYO78l8HeUxcUl32PNjaTua4ut1v5y8oLJ+ujs8vBoDWttKgoOQCAYAo6tXVUt29fm1bxk3bCzTN/hq/FpnfjI9cJa+/RgS1gL19a4phfuvsJOqVqbLduFHvkntVh7/94G+wSS0YO1ayuIJ0HAdwLjsjattRut/e+jkw/zkw/z+dk5///q3kVWmHFbmzc1f7ycUnWDb1prs6/9rT24w7/V2H/yHdbavl+fGD8IVAk4trawQ8J2uvntXRoxCb1284Q2HHhtdbI2v19Bnc7PzoX7h8qSvLrWXtTtkPCm5o+XvXexNr5DQiXDAQgET8C6tSebyw8P87Xw49vf859GkpoFV7IyvH9+V/yy4Pkx/w2T7Um28U01YypU3NdmYi3dMOq8Wd3Soe7ooMbaF5fZk22fRpa2UOp6b1prL4rv+dEY2AZ3KWCxk4Nv/hElHICAjwRsW1v+zb/FxWXjvnZh+fUkoS8Fbk8S/lvVnb75R0Ho9xjl3/xbVjeXKX158c3hK7rBlL75l3+XnD2zbFB8PYb/2iJZdeBae3Fxid+N9PHyw5hBoAcB29ZOkkdvDl+1/pYNqVBI6evXz/v3Nuj06t+2Qb+l0vpbNvQbMfxinP8tm2pwNhhqs56s7hnsXcIqZvGbOKX1ddtv2ZDEs446rbXzdTT+HhJhtuAhCARJwIG1mzamg+SrN6nGHZJi90OlO+yQqFBCGxAYLQFY29TfGWKi5LC2CaqICQJ+EYC1PbM2/bMGPd6y4F9F8OvixGhBoJYArO2TtRcX2b+HUP0+Ym1pa58ceHptTDwJAiBgk4BVa9tMDH2BAAiAQJAEYG3P1tpBzkIkBQIgoE4A1oa1QQAEQMAnArC2T9VSvxujJQiAQKgEYG1YGwRAAAR8IgBr+1StUNcOyAsEQECdAKwNa4MACICATwRgbZ+qpX43RksQAIFQCcDasDYIgAAI+EQA1vapWqGuHZAXCICAOgFYG9YGARAAAZ8IwNo+VUv9boyWIAACoRKAtWFtEAABEPCJAKztU7VCXTsgLxAAAXUCsDasDQIgAAI+EYC1faqW+t0YLUEABEIlAGvD2iAAAiDgEwGZtZv+ofRQ72DICwRAAATGT0BmbfbvXY0/B4wQBEAABOIhILN2mqYnH+bxsECmIAACIDB+Ai3WxnJ7/CXECEEABKIi0GLtNE2H/IvgUaFEsiAAAiBggUC7tdM0XVxcYqvEQjHQBQiAAAi0ElCyNokb3yppBYoGIAACIGCUgKq10/w/ts198mGOPyAAAiAAAk4IdLM2czf+DwIgAAIg4IoArO2KPPoFARAAgT4EYO0+1HBObAT+949/0p/Ycke+YyMAa4+tIhjPuAiQrPmDcQ0Ro4mMAKwdWcGRrjIBXtO1x8qR0BAEdBKAtXXSRKyQCPCmprxqn6RXcQACFgjA2hYgowv/CEjsLHnJvzwxYg8JwNoeFg1DNkyg1cutDQwPEOGjJgBrR11+JF9LgKRc+yp7UqWN5HS8BAK9CcDavdHhxDAJkI7/949/SjJUbCaJgJdAoB8BWLsfN5wVLAHScWuG6i1bQ6EBCKgTgLXVWaFl+ARIxPKFNoGg9vQMDkDANAFY2zRhxPeJQFcLd23vEwuMdawEYO2xVgbjsk6AFKy40E7TtMcp1tNCh6ERgLVDqyjy6U2AFNwpQr+zOnWBxiDAEwjB2u92k83pX3xWOAaBHgT6+ZfOUl+h9xgbThkZgdmT5F/TT24G5b21Tw+2kuTRjKP39evn6U6ynmR/hJe4VjgEgRIBkm/pWbUHQ85V6wGtHBAomWSyKTi6ah5rQ/Tb2lez3aRCk7FuXn3PnmQ6L4l+EO5P0+1JkuxMTwdFKU7Oo7FbzmSPvxkVDbr/PD3YWk90vh15t5vdER/P/u4+luoZWTmWt1itDLtWpNG8ChVpPLeabpqycrCUtTBk5cgmdeVaqOu/9TndFVEA2DqmUgPdAdsr8mn6S7ItWDtN03e7+i78UoYtDzy2NrNzVW0Sa2eUk0fvn9/VYm3WUbIz3X/yXVdH1Jcln47F/Sa7eKrZ1Z/Y9Gwe8PbTl0/W9Vj7ara7niR7r99uT7RYe5UjwRxy86MgPSpSb161itSfW1eUbIFWuJXBHChuNqXZ7Z0PXte5ynOaK5KqAVQZ2bKN7oA8tMaKNFibZTewgh1yL5p6bO3ahXaapk3WvprtMgnqemtzerDFDKvrlivEaUqwqF3Lz69fP+/f28gXCNmlWNwMWs6Svpzt5WWCyK+c4ZNVLMTgsL0r0qRd9Yo0RSjzFAshxC83VnhUJsZm/pA7vfaKCAkOnNLV5e3ggGoVabK2o+V2H2vzbyj4KZKVfGe6OD9m73lpTcFYZy3zSVbdbqa3ePwb+SxasSph8zebAdzOBuuuujRrsjZdBOLUpBf6HghTs1+YyrCz+aRpI0Kcmv1GuDqrLIvV8x2P3u2u3kyw9PkJ0DFYqXnXitQ6t1NFaiOUxpTf7fg32mxlx09psX3b48xZ5Ssiu7gGbDTprUgngG25Zq9rD5iWddxYkXIzfqhCCfiXzB13tvbVbHe1asuvXnrIbE6q5a8c5mU2wxh60v3pwRat2srvUATXZA+p5epOUGFTKa3YYpzWTtNVgozD3uu32tbIetbaBUkd1i6VqZhI052Vx4vO+vzk557K+Q3O7VCRhgilzvkrPBth8ujj0UO6XkpN1R7QwoXBTHamQ3b/DFSkA0C1jDUHVK1Is7UF76tlMbRVZ2vzHZbKnH/Mwk/BKhH6cI1mGx8tP15VJWUBi4VDFq04prsuqZ+PI4yKf4kdj9za0x1aLmU06KZYTUT5GV1xig61Wpv5a1aspGprWnSs+rOTtUm4la/uLWejYkUoTtMo2RXx5eTF9mRZ1uyZ8hvKpnNrn2fX0cejh/SebMjcpgtHX0W6AazNsfyk5oCqFZFaW9NnPOVEpY96WDsDxz4BZ/8nrUhmjOwqyhXAB+QW1Msi0Xzic+HfzfHP1zbmG0jGyTdTP5ZlpxyFDZsuv/y8ZfrKMZoaZnGoTE2NOjyvw9rs3RK/JdJaOPURdqpIk227VqQpzmrYOTd+T4NZg1Yzq5ZqR8t39Nxqhnm8um2oFi/7UoTGinQF2DpI7QHZnm17RaTW5ne9WlPQ0qCbtRk1Wg2xh6QDiQ2bryJBKKKnlmrOqQmTu2mCCqOqYpKMs9pY5Znm7FTOXrUR4gy8pFdx870XKhP3fN9DTdYWCyG5NjqOVCApP1tiWyGOvCKSOMUAhNmeWZKupqJNl5/lQrTO/NbQ2ivSCWDr8Oo/jeR29lUilNuoVaR5ZsqnRLkvbY8GWZttZJMOxJJzgxSKx71SosZu9dxaO/u6wi/J9q3716gXOjfjVffusnXuNo6TLYW4lQv1JT9oyo4thTpclvkAikxLZNgAavjIR7Z8tSbUoIBlWdAQGPnaolCb8kE2MMaHnSuyslIRmW27VEQWp0g7m3vFpK2dwF1LnM29QlvVie2+Im0AnV8jrRXJStds7aH33WJidPrZzdppmjLKbENjsjfjf5u8OmloKE1eY5vXtD2yOf1rulP6yHF5dy3mJQWUbG03WjufQNQXOyjdIfI1aXmPgu9QPOZRsGh0QS6bMukUV6l4fu1jbpCFvlftlp/3Kt9XmAL4lPnPBgi+8OSqv/IRA8tHW0/EpSLrUZRvOU75USZuFrPurOWr5TKVA3CPelSEVFvZ1C7idqkIRStOrvlJX8ESZ0vetmuJaaOp+tUs1rfbimRjkAJc7lG4u0boKpD9mlKjtbP5qTg5a6ZC36c6W7tvR/3Pk9zNalcrjdZWGAJ/41Vo3t6EXwq1t25vsVqctrdVaqE7YH6JVu83SmOpa2S6IiqerRsXPVcCODhayr5KVHcDox47HvhWkY7pVZuXKlJ9uc8zDdaWLEb79KJ8ztitLVm/sxyrDQZYO6u34sJTiXB+wWi8AtlCTOO9XXvAbB53Wje1cDRekYGeFQAOjEbrPo0l9q4iLTOi7WWhIm3N1V6vs3bVPGqxNLQar7XZOzvas5Pkyu/S0M7JcsuibmulNlT3N5K1YZZP0maCtlVnfgPQKUTdAdnuhEq9ZOC41+xUpL9n6wD2j1bsJGgssacV4aZAx8O6inQMUWpOV3Hd5gn+zr8SKzwAAXsEBnm2MkyK1rhLXjkFT4BAVwLjXWt3zQTtQaArAZJs1xMl7U3ElHSHlyIkAGtHWHSkvCRgwrAmYqJgIMATgLV5GjiOi4AJw5qIGVdVkG0bAVi7jRBeD5eACcOaiBluBZBZHwKwdh9qOCcMAiYMayJmGLSRhS4CsLYukojjGQFzejUX2TPEGK4ZArC2Ga6IOnoC5txqLvLooWKANgjA2jYoo48REjDnVnORR4gRQ7JPANa2zxw9joKAObeaizwKcBiEawKwtusKoH9HBMy51VxkR6jQ7bgIwNrjqgdGY42AUbcaDW4NEToaJwFYe5x1wajMEjBtVdPxzdJB9HETgLXHXR+MzgwB01Y1Hd8MFUT1gwCs7UedMEq9BExb1XR8vTQQzS8CsLZf9cJo9RAwbVXT8fVQQBQ/CcDaftYNox5GwLRVTccflj3O9psArO13/TD6fgRMW9V0/H5Z46wwCMDaYdQRWXQjYMGqFrroljNah0IA1g6lkshDmYAdn9rpRTlpNAyHAKwdTi2RiSIBOz6104tiymgWEgFYO6RqIhclAnZ8aqcXpYTRKCwCsHZY9UQ2CgTs+NROLwrpokloBGDt0CqKfFoJ2PGpnV5ak0WD8AjA2uHVFBm1ELDjUzu9tKSKl0MkAGuHWFXkJCVgx6d2epEmihfDJABrh1lXZCUhYMendnqRpImXQiUAa4daWeRVT8CmTG32VZ8tng2RAKwdYlWRUzMBmya12VdzxnglNAKwdmgVRT5yAjZNarMvedZ4NSQCsHZI1UQu7QRsmtRmX+2Zo0UoBGDtUCqJPNQI2DSpzb7UskerEAjA2iFUETmoE7BpUpt9qRNAS98JwNq+VxDj70bApklt9tWNAlr7TADW9rl6GHt3AjZNarOv7iRwhq8EYG1fK4dx9yNg06Q2++pHA2f5SADW9rFqGHN/AjZNarOv/kRwpm8EYG3fKobxDiPATDosRoezIe4OsNBUjQCsrcYJrYIgYN+h9nsMolBIQkYA1pbRwWuBEbDvUPs9BlYypFMlAGtXmeCZYAnYd6j9HoMtHhIrCMDaBQn8jICAfYfa7zGCMsaeIqwd+wyIKn/7DrXfY1QFjTNZWDvOukeatX2H2u8x0tLGlDasHVO1o8/VvkPt9xh9kcMHAGuHX2NkSATsO9R+j5QsDkIlAGuHWlnkVUPAvkPt91iTNp4KiwCsHVY9kY2UgH2H2u9RCgAvhkAA1g6hishBkYB9h9rvUREFmvlLANb2t3YYeWcC9h1qv8fOUHCCbwRgbd8qhvEOIGDfofZ7HIAHp/pBANb2o04YpRYC9h1qv0ctoBBkzARg7TFXB2PTTMC+Q+33qBkZwo2PAKw9vppgRMYIOHGok06NIURg9wRgbfc1wAjsEHBlT1f92qGKXuwTgLXtM0ePbgi4sqerft1QRq/mCcDa5hmjh3EQcGVPV/2OgzpGoZ8ArK2fKSKOk4Are7rqd5xVwKiGE4C1hzNEBD8IuLKnq379qApG2Z0ArN2dGc7wk4Are7rq188qYdTtBGDtdkZoEQYBV/Z01W8YVUMWVQKwdpUJngmTgCt7uuo3zCoiqzSFtTELYiHgyp6u+o2lrvHlCWvHV/NYM3ZlT1f9xlrn8POGtcOvMTJkBFzZ01W/qHuoBGDtUCuLvEQCruzpql8xfzwOhQCsHUolkUcbAVf2dNVvGw+87isBWNvXymHcXQm4sqerfrvyQXtfCMDavlQK4xxKwJU9XfU7lBfOHysBWHuslcG4dBNwZU9X/ermh3hjIdDN2ouLy/nZ+cmHOf6AgHcEyJ6WR+6qX8tpojtrBFStvbi4PPkwn5+dLy4u8QcEfCRA9rQ8eFf9Wk4T3VkjoGTt+dk5fG2tJOjIEAFX9nTVryGMCOucQLu1oWznRcIAtBBwZU9X/WqBhiAjJNBibbaRPcJxY0gg0JWAK3u66rcrH7T3hUCLtU8+zH3JBOMEATkBV/Z01a+cBl71l4DM2lho+1tXjLxKwJU9XfVbJYBnwiAgszY+gQyjxsiCEXBlT1f9ou6hEpBZG9sjoVY9zrxc2dNVv3FWOYasYW18/TwWAq7s6arfGPwVZ46wdizOinN+81m7sqerfvnccRwSAVgb1o6FgCt7uuo3JE8hF54ArB2Ls/iqx3nsyp6u+o2zyjFkDWvD2rEQcGVPV/3G4K84c4S1Y3FWnPObz9qVPV31y+eO45AIwNqwdiwEXNnTVb8heQq58ARg7VicxVc9zmNX9nTVb5xVjiFrWBvWjoWAK3u66jcGf8WZI6wdi7PinN981q7s6apfPncch0QA1oa1YyHgyp6u+g3JU8iFJwBrx+IsvupxHruyp6t+46xyDFnD2rB2LARc2dNVvzH4K84cYe1YnBXn/OazdmVPV/3yueM4JAKwNqwdCwFX9nTVb0ieQi48AVg7FmfxVY/z2JU9XfUbZ5VjyBrWhrVjIeDKnq76jcFfceYIa8firDjnN5+1K3u66pfPHcchEYC1u1n75M+fvvn9229+/3btj9+Ozrqdu7i4PDxao9Pxz3JavpBc2dNVv5bxojtrBGDtbuY9+fOntTc/PZtf9nbu/Oz88Ght7Y/fekewNjkC68iVPV31G1j5kA4R8M/aH48e3n76ssc6l3KWHZwf79/b2Hv9tqkNWbu2wcejh7fuX2OrackgYe1aehaedCJQJ51agIkuXBHwz9rvn99NJpvP5t3WyKp8z4+3J8n6v4+a2kusfXqw9c3v395++vLN4as3h69u3b+29uBO7d0F1m7Ca/p5+wK136NphojvnACsXbZ/b2ufH+8/+W6yN6OKXs12b92/tjn9i56hA1ibUFg+sO9Q+z1aRoru7BOwZ+3Tg631JBEtllsy2Zm2b/IynybJevnPDxvP+HO/nLx4fPv79SS5fuPmjz//Ki518w0QFuH6jZu3n76kc98/vytEZg8fz/7mq9K01mZ7I6Xsco//33/+S11QHFibUFg+sO9Q+z1aRoru7BOwZ+3F+fGT9USQbL3KL8rr3+Ih23nYv7dx/cbNvddv2cM3h6+I2sejh+tJ1gV7aXuSJJPN6ad02eD8+PHt7+nc/Xsb60myumGcH9NZFOHN4SvB+03Wvprtrj24w+/bvH9+99b9a7A2VWcMB/Ydar/HMXDGGIwSsGjti8v3z+9ev3GTX71Od5IkeSSYUZ5w4752LuVkZ0qnp5+m25OEdi2uZrvCYr8mVN8dkpK181X22oM7sDbVYiQH9h1qv8eRoMYwzBGwau1F7kTS6JeTF9uTyp5JsbJuyrlGtfkpV7Nd4ZawuLic7qxW96w7flekpovB1v5y8oLJ+ugs+3Y21to1kNtKbO4U+w6136M5eog8EgJ2rX1x+W4327Vgi+sm/8rRNJ3VtDHNr+XfP7+7PVluee+9fluzxu9r7dODrbUHd/bvbbBPINleNqwtL6X9V+071H6P9qmiR8sEbFt7tb7ONzQk37FrAiGxdjLZfDz7++TDfH52zv+fDzU/O/949JBtagsbJlmzvta+mu1mvzD54A6//7P/5DustXn4zo/tO9R+j84hYwCmCdi2Nu1afDx6WN3QUMn29GCr9vva1W3rajTh6xxsn53/CJF9ZCq5lzR9GonvkFRpj/AZ+w613+MIsWNIegk4sPbpwdb1Gzdv3b8mfJ9EMTFmZ35JuzwxXyYLMT8ePSQpVz8LZSPhQ339+vnx7e+FIPzAmqy9KL7nR43ZBnfpu4DFfi6++UeULB/Yd6j9Hi0jRXf2CTiw9nI9W/3udiG1Fgq5nZPJJn35j1bQ7Jt/P/78K3uJbYOsvFn+5h/b4/5h45mwu832x+lXHHmnLy4uG619cYnfjWwpnGJ9TTaz71D7PY6/ChjhQAIurF3+TLJHAvSrNOtJIvwqjfCS+DeKVH7LRlB2Nphym5X0c5tIrL24uMTfQ9KjmjZPse9Q+z3a5Im+nBBwYe18zUvf/6O02dZH9RcUJfsVdK61A7m1FYeBHRJFUNqb2Xeo/R61Q0PAsRFwYO2azwCLN8X8Fz/44/FQg7XHU4seI7HvUPs99sCCU/wiYNXaX05eLL9y1/yX6o0cH/5VhJEXSD48+w6136OcAF4NgIBVa093st9wafntxGLdPVq487Nz9qffCAee3q9TnEUEmEbpoekDWNs04QjjW7V2hHyR8tgIWNao5ZvE2GhjPCYIwNr1f7+gCdaIOQYCNq1ts68xsMUY7BCAtWHtuAjYNKnNvuz4Ar2MgQCsHZezxjDn3I7Bpklt9uWWKnq3SQDWhrXjImDTpDb7smkN9OWWAKwdl7PczrYx9G7TpDb7GgNbjMEOAVgb1o6LgE2T2uzLji/QyxgIwNpxOWsMc87tGGya1GZfbqmid5sEYG1YOy4CNk1qsy+b1kBfbgnA2nE5y+1sG0PvNk1qs68xsMUY7BCAtWHt6AhYkynryM6VjF7iIQBrR+eseCZ3U6Z2rG2nl6Yc8XzABGBtWDs6AnZ8aqeXgN2E1JoIwNrROatpKsTzvB2f2uklnqohUyIAa8Pa0RGw41M7vdCVjIN4CMDa0TkrnsndlKkdn9rppSlHPB8wAZm16d8+Dzh/pBYhATs+tdNLhOVDyjJrLy4uIW5MkfAI2PGpnV7Cqw4yaiUgs3aapicf5q0h0AAEvCNgQakWuvAOOwashUCLtbHc1kIZQcZGwLRSTccfG0+MxyaBFmunaTrkX7a1mQn6AgF1Aqatajq+eqZoGR6Bdmunabq4uMRWSXi1jzkj01Y1HT/m2iF3JWuTuPHhJGZMGARMW9V0/DCqgCz6EVC1dpr/x7a5Tz7M8QcEvCZAVjWUhen4hoaNsF4Q6GZt5m78HwR8J0BWNZSI6fiGho2wXhCAtb0oEwapn4BRsRoNrp8FInpFANb2qlwYrD4C5sRqLrK+7BHJYwKwtsfFw9CHEDDnVnORh+SLc4MhAGsHU0ok0o2AObeai9wtQ7QOlACsHWhhkVYbAXNuNRe5LSe8HgUBWDuKMiPJKgFzbjUXuZoFnomQAKwdYdGR8pKACb1SzP/9458ADQImCMDaJqgiph8EyLAah2sipvW0gUsAAAi/SURBVMbhIVQABGDtAIqIFHoSMGFYEzF7pofTAiUAawdaWKSlQMCEYU3EVEgFTSIiAGtHVGykKhAwYVgTMYVh42HkBGDtyCdA7OnrlSxFw0eRsU8sk/nD2ibpIvboCZBntYxUbzQtQ0KQ8AjA2uHVFBl1IKDXs3qjdUgDTWMiEIK13+0mm9O/YqoactVGQK9n9UbTliQC6Scwe5L8a/pJf1yViN5b+/RgK0kezbhcv379PN1J1pPsj/AS1wqHIJARIM9q2YmmaIAbAIGSSSabgqOr5rGWst/WvprtJhWajHXz6nv2JNN5SfSDcH+abk+SZGd6OihKcXIejd1yJnv8zaho0P3n6cHWeqLz7ci73eyO+Hj2d/exVM/IyrG8xWplqF6RdtWqlbg9Tp49KwdLWQtDVo5sUleuhSpuhWd0V0T7lNYdsL0in6a/JNuCtdM0fber78JXKAw18djazM5VtUmsnVFOHr1/fleLtVlHyc50/8l36o4g9DUH+XQs7jfZxVPNruYsyVN5wNtPXz5Z12Ptq9nuepLsvX67PdFi7VWOBHPIzY+CdKqIxLadAkriUImyBVrhVgZzoLjZlGa3dz449djxQHNFUjNTWuM1wkNrrEiDtVl2AyvYsUBZc4+tXbvQTtOUXWlFXVdMrma7TIK63tqcHmyxXnTdcoU4TQmuUpIeff36ef/eRr5AyC7FKhDp2bUvZnt5mSDyS3H4ZBULMThsv4pIbNspoCROQVMshFDxopnyzzIxNvOH3Om1V0RIcOCUri5vBwdUq0iTtR0tt/tYm39DwU+RrOQ708X5MXvPS2sKxjprmU+y6nYzvcXj38hn0YpVCZvF2QzgdjZYd9WlWZO16VIQpya90PdAmJr9wlSGnc0nTRsR4tTsN8LVWWVZrJ7vePRud/VmgqXPT4COwUrNO1WEbCvZ2lYJSHFKQ+EflC9+trLjpzTfVuU4c1b5isgurgEbTXoron1Kaw+YKlak3IwvjVAC/iVzx52tfTXbXa3a8quXHjKbk2r5ic68zGYYQ0+6Pz3YolVb+R2K4JrsIbVc3QkqbCqlFVuM09ppukqQcdh7/VbbGlnPWrsgqcPapTIVE2m6s/J40Vmfn/zcUzm/VbitAVsjpGnKX+FZwOTRx6OHdL2ojFNoQwsXBjPZmQ7Z/TNQEe1TWnNA1Yo0W1vwvlAgQw87W5sfR6nMaZrNIW51XCVCH67RbOOj5cerqqQsYLFwyKIVx7QNQurn4wij4l9ixyO39nSHlksZDbopVhNRfkZXnKJDrdZm/poVW1u1NS06Vv3ZKlkhUKtzWwO2RiBrfzl5sT1ZljWb1dwlI4yq9SG7jj4ePaT3ZEPmNl04+iqyvJz1TWnNAZmj2isitbamz3haq71q0MPaGTj2CTj7P2lFMmNkkz5XAB+QW1Avi0TzaTXwfEep9gqvbcyfKBkn30z9WJadchQ2bLr88vOW6SvHaGqYxaEyNTXq8LwOa7N3S/yWSGvh1EfYtSKtzm0N2BohG3zOjd/T4Fc26tlRy+UeC7eaYR6vbhvSKfID9p6YpsrAimif0toDqlZEau3ar5fIOQ98tZu1GTVypVBUiQ2bJ70gFNFTy422nBot1VnOTRNUGFUVkGSc1cYqzzRnp3L2qo0QZ+AlvYqb773Qpcg93/dQk7XFQkiujY4jFUiqnC3Xrjyg/Fyud2G2Z18do6uJa6Z8WC5E68xvjau9IgK34VNad0C1ijTPzOEZtRal2mCQtdlGNulALDnXm8Cae6VEjd3qubV2tjz5Jdm+df8a9ULnZrzq3l22zt3GcbKlELdyob7kB03ZsaVQh8syH0CRaYkMG0ANH/nIlq/WhBoUsCwLGgIjX1sUalM+yAbG+LBzRVYWKyI3b1OJWUXk5/IpZ3OvmLS1E7hribOBFR9IVie2+4q0TWnn10hrRbLyNVt76H2XnxzKx92szfbmaDdjsjfjf5u8OmloGE2Tnm1eU8DN6V/TndJHjsvv+hTzkgJKtrYbrZ1PIOqLHZTuEPmatLxHwXcoHrMJxwekC3LZlEmnuErF82sfc4Ms9L1qt/y8V/m+whRQGmH53E4BGVg+2noiLhVZj6J8VxlUjzJxs5h1Zy1fLZepGmT5zJCK1Jq3NSADWHtu0yjZKU2/FNOpIqwLqjLpm+/abUWykUin9HKPwt01witIvH6JY6O1s/mpODkp2PCDztYe3mXXCJK7We1qpdHaCh3zN16F5u1N+KVQe+v2FqvFaXtbpRa6A+aXaPV+ozSWukY2K9JJvsVgZ3SW5IuDRWOVn6iICiVJG90Am9faksWoZHzDXxq7tSXrd5Z8tcEAa2f15r+pMpRvrrC6JWTPwGwhpvHerj1gNo87rZtaSFitCPm3ZVDcy6cHWz3O4gKIh6iISKTjY+0As/7r1tpV83Qcaf/m47U2e2dX+6ZPSJffpaGdE/amW+V0Fq37G0lhFKWHtJmgbdWZ3wB0ClF3QLaZoA68xKvugf2KkH+VVs0FQDqrLokuzxUBq3/fRZcoq7YBVGSVjMqRboB0FddtZ+Hv/FMpCdqAgHkCXRXctb35DNBD+ATGu9YOnz0yHB8BsrDScpv7i17HlwpGFCwBWDvY0iKxfgRI3K2nq7dsDYUGIKBOANZWZ4WWURAgF7cut6llFFyQ5GgIwNqjKQUGMhoCKjpWaTOahDCQoAjA2kGVE8loIUBGblputzbQMgwEAYFaArB2LRY8GTsBiZclL8VODflbIQBrW8GMTjwkUGvn2ic9TA5D9pgArO1x8TB0owR4QdceG+0dwUGgiQCs3UQGz4NARgC+xjwYGwFYe2wVwXhGR0AQ9+jGhwFFRgDWjqzgSBcEQMBzArC25wXE8EEABCIjAGtHVnCkCwIg4DkBWNvzAmL4IAACkRGAtSMrONIFARDwnACs7XkBMXwQAIHICMDakRUc6YIACHhOANb2vIAYPgiAQGQEYO3ICo50QQAEPCfw/9Te3JoRxbqcAAAAAElFTkSuQmCC)"
      ],
      "metadata": {
        "id": "FcGm1BJcKapZ"
      }
    },
    {
      "cell_type": "code",
      "source": [
        "# Evaluación del modelo\n",
        "accuracy = accuracy_score(y_test, predictions)\n",
        "hamming = hamming_loss(y_test, predictions)\n",
        "f1 = f1_score(y_test, predictions, average='macro')\n",
        "\n",
        "print(f\"Accuracy: {accuracy}\")\n",
        "print(f\"Hamming Loss: {hamming}\")\n",
        "print(f\"F1 Score: {f1}\")\n"
      ],
      "metadata": {
        "colab": {
          "base_uri": "https://localhost:8080/"
        },
        "id": "1Dw5ezvgClPf",
        "outputId": "eb782621-4559-4b5b-a5fb-df3024ceb806"
      },
      "execution_count": 7,
      "outputs": [
        {
          "output_type": "stream",
          "name": "stdout",
          "text": [
            "Accuracy: 0.37666666666666665\n",
            "Hamming Loss: 0.218\n",
            "F1 Score: 0.7251718471680472\n"
          ]
        }
      ]
    },
    {
      "cell_type": "markdown",
      "source": [
        "- **Hamming Loss**:  Proporciona una medida de cuántas veces, en promedio, se equivoca el clasificador en etiquetar una instancia.\n",
        "- **F1-Score**: Balancea la precisión y la recuperación, crucial para datasets con desequilibrios de clase."
      ],
      "metadata": {
        "id": "9OHflPW2Jm32"
      }
    },
    {
      "cell_type": "markdown",
      "source": [
        "El **Hamming Loss** y el **Accuracy** son métricas que nos ayudan a entender cómo de bien un modelo de clasificación multi-etiqueta está funcionando, pero cada una desde su perspectiva. El **Hamming Loss** se enfoca en los detalles, mirando cada error de etiqueta individualmente, lo cual es genial para entender y mejorar partes específicas del modelo, especialmente en situaciones donde las etiquetas están desbalanceadas o algunas son más críticas que otras. Por otro lado, el **Accuracy** es más estricto, ya que considera una predicción correcta solo cuando todas las etiquetas de una instancia son predichas perfectamente, lo cual puede ser engañoso en datos desequilibrados. En resumen, mientras el **Hamming Loss** te ofrece una vista granular y equitativa del rendimiento a nivel de etiqueta, ideal para afinar tu modelo, el **Accuracy** te da una perspectiva general que puede no capturar bien la complejidad de las tareas multi-etiqueta. Usar ambas métricas en conjunto te brinda un panorama completo del rendimiento de tu modelo."
      ],
      "metadata": {
        "id": "YUexGJbIPY24"
      }
    },
    {
      "cell_type": "markdown",
      "source": [
        "# LINKS DE REFERENCIA:\n",
        "* https://medium.com/@evertongomede/multi-label-classification-in-python-empowering-machine-learning-with-versatility-9dbae34aacdb\n",
        "* https://www.kdnuggets.com/2023/08/multilabel-classification-introduction-python-scikitlearn.html\n",
        "* https://www.kaggle.com/competitions/playground-series-s4e3/discussion/481019\n",
        "* https://medium.com/@ilyurek/multi-label-classification-with-python-a-simple-guide-c0fe04471ad7\n",
        "* https://medium.com/gumgum-tech/creating-balanced-multi-label-datasets-for-model-training-and-evaluation-16b6a3a2d912\n",
        "* https://medium.com/gumgum-tech/creating-a-balanced-multi-label-dataset-for-machine-learning-9945abad2616"
      ],
      "metadata": {
        "id": "n_xIa0RYLs8L"
      }
    },
    {
      "cell_type": "code",
      "source": [],
      "metadata": {
        "id": "1bN939-SJ_rg"
      },
      "execution_count": null,
      "outputs": []
    }
  ]
}