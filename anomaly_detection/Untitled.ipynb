{
 "cells": [
  {
   "cell_type": "code",
   "execution_count": null,
   "id": "f9b83013-b034-4b17-b756-45a77eff2e7a",
   "metadata": {},
   "outputs": [],
   "source": [
    "import numpy as np\n",
    "import matplotlib.pyplot as plt"
   ]
  },
  {
   "cell_type": "markdown",
   "id": "e8b04620-dfcf-45c9-b8e4-f26034bc7e45",
   "metadata": {},
   "source": [
    "# Print a 5-number summary\r\n",
    "One of the quickest methods for getting a feel for new data is the 5-number summary. It prints out 5 metrics about a distribution - the minimum, 25th percentile, median, 75th percentile, and the maximum along with mean and standard deviation. By looking at the 5-number summary and the difference between the mean and the minimum/maximum values, you can get a rough idea of whether outliers are present in the distribution."
   ]
  },
  {
   "cell_type": "code",
   "execution_count": null,
   "id": "5ac9d853-11ab-4807-88ef-7f47dc1016cf",
   "metadata": {},
   "outputs": [],
   "source": [
    "# Extract price\n",
    "prices = airbnb_df[\"price\"]\n",
    "\n",
    "# Print 5-number summary\n",
    "# para detectar outliers debemos analizar los si el valor maximo difiere demasiado de la media\n",
    "print(prices.describe())"
   ]
  },
  {
   "cell_type": "markdown",
   "id": "63cf4997-2693-41a4-a93e-3180cf14faf6",
   "metadata": {},
   "source": [
    "# Histograms for outlier detection\r\n",
    "A histogram can be a compelling visual for finding outliers. They can become apparent when an appropriate number of bins is chosen for the histogram. Recall that the square root of the number of observations can be used as a rule of thumb for setting the number of bins. Usually, the bins with the lowest heights will contain outliers."
   ]
  },
  {
   "cell_type": "code",
   "execution_count": null,
   "id": "8a80a0c7-4828-4efe-8766-7281c123a33c",
   "metadata": {},
   "outputs": [],
   "source": [
    "# Find the square root of the length of prices\n",
    "n_bins =np.sqrt(len(prices))\n",
    "\n",
    "# Cast to an integer\n",
    "n_bins = int(n_bins)\n",
    "\n",
    "plt.figure(figsize=(8, 4))\n",
    "\n",
    "# Create a histogram\n",
    "plt.hist(prices, bins=n_bins, color='red')\n",
    "plt.show()"
   ]
  },
  {
   "cell_type": "markdown",
   "id": "975d6a3e-f9ce-404d-a2b9-de59777ec4db",
   "metadata": {},
   "source": [
    "# Scatterplots for outlier detection\r\n",
    "A scatterplot is another handy method to identify outliers visually. Although it is usually used to plot two variables against each other to inspect their relationship, using the trick from the video, you can plot a scatterplot with only one variable to make the outliers stand out."
   ]
  },
  {
   "cell_type": "code",
   "execution_count": null,
   "id": "6d7a1ee8-91b5-4604-80b4-6f7b146cd5d6",
   "metadata": {},
   "outputs": [],
   "source": []
  }
 ],
 "metadata": {
  "kernelspec": {
   "display_name": "Python 3 (ipykernel)",
   "language": "python",
   "name": "python3"
  },
  "language_info": {
   "codemirror_mode": {
    "name": "ipython",
    "version": 3
   },
   "file_extension": ".py",
   "mimetype": "text/x-python",
   "name": "python",
   "nbconvert_exporter": "python",
   "pygments_lexer": "ipython3",
   "version": "3.11.5"
  }
 },
 "nbformat": 4,
 "nbformat_minor": 5
}
