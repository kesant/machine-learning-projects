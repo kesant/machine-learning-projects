{
 "cells": [
  {
   "cell_type": "code",
   "execution_count": null,
   "id": "f9b83013-b034-4b17-b756-45a77eff2e7a",
   "metadata": {},
   "outputs": [],
   "source": [
    "import numpy as np\n",
    "import matplotlib.pyplot as plt"
   ]
  },
  {
   "cell_type": "markdown",
   "id": "e8b04620-dfcf-45c9-b8e4-f26034bc7e45",
   "metadata": {},
   "source": [
    "# Print a 5-number summary\r\n",
    "One of the quickest methods for getting a feel for new data is the 5-number summary. It prints out 5 metrics about a distribution - the minimum, 25th percentile, median, 75th percentile, and the maximum along with mean and standard deviation. By looking at the 5-number summary and the difference between the mean and the minimum/maximum values, you can get a rough idea of whether outliers are present in the distribution."
   ]
  },
  {
   "cell_type": "code",
   "execution_count": null,
   "id": "5ac9d853-11ab-4807-88ef-7f47dc1016cf",
   "metadata": {},
   "outputs": [],
   "source": [
    "# Extract price\n",
    "prices = airbnb_df[\"price\"]\n",
    "\n",
    "# Print 5-number summary\n",
    "# para detectar outliers debemos analizar los si el valor maximo difiere demasiado de la media\n",
    "print(prices.describe())"
   ]
  },
  {
   "cell_type": "markdown",
   "id": "63cf4997-2693-41a4-a93e-3180cf14faf6",
   "metadata": {},
   "source": [
    "# Histograms for outlier detection\r\n",
    "A histogram can be a compelling visual for finding outliers. They can become apparent when an appropriate number of bins is chosen for the histogram. Recall that the square root of the number of observations can be used as a rule of thumb for setting the number of bins. Usually, the bins with the lowest heights will contain outliers."
   ]
  },
  {
   "cell_type": "code",
   "execution_count": null,
   "id": "8a80a0c7-4828-4efe-8766-7281c123a33c",
   "metadata": {},
   "outputs": [],
   "source": [
    "# Find the square root of the length of prices\n",
    "n_bins =np.sqrt(len(prices))\n",
    "\n",
    "# Cast to an integer\n",
    "n_bins = int(n_bins)\n",
    "\n",
    "plt.figure(figsize=(8, 4))\n",
    "\n",
    "# Create a histogram\n",
    "plt.hist(prices, bins=n_bins, color='red')\n",
    "plt.show()"
   ]
  },
  {
   "cell_type": "markdown",
   "id": "975d6a3e-f9ce-404d-a2b9-de59777ec4db",
   "metadata": {},
   "source": [
    "# Scatterplots for outlier detection\r\n",
    "A scatterplot is another handy method to identify outliers visually. Although it is usually used to plot two variables against each other to inspect their relationship, using the trick from the video, you can plot a scatterplot with only one variable to make the outliers stand out."
   ]
  },
  {
   "cell_type": "code",
   "execution_count": null,
   "id": "6d7a1ee8-91b5-4604-80b4-6f7b146cd5d6",
   "metadata": {},
   "outputs": [],
   "source": [
    "# Create a list of consecutive integers\n",
    "integers = range(len(prices))\n",
    "\n",
    "plt.figure(figsize=(16, 8))\n",
    "\n",
    "# Plot a scatterplot\n",
    "plt.scatter(integers, prices, c='red', alpha=0.5)\n",
    "plt.show()"
   ]
  },
  {
   "cell_type": "markdown",
   "id": "64ad75fc-4d83-49da-ba06-f7897805732c",
   "metadata": {},
   "source": [
    "# Boxplots for outlier detection\r\n",
    "In this exercise, you will get a feel of what the US Airbnb Listings prices data looks like using boxplots. This will enable you to assess the range of the distribution where inliers lie. You will also get a sense of custom versus default parameters for setting whisker lengths to classify outliers."
   ]
  },
  {
   "cell_type": "code",
   "execution_count": null,
   "id": "1b3bb704-d64e-4b61-8e70-14ff0ad55662",
   "metadata": {},
   "outputs": [],
   "source": [
    "# Create a boxplot of prices\n",
    "plt.boxplot(prices)\n",
    "plt.show()"
   ]
  },
  {
   "cell_type": "code",
   "execution_count": null,
   "id": "db1e36c9-fb78-41ec-8c18-f4e07e2a7038",
   "metadata": {},
   "outputs": [],
   "source": [
    "# Create a boxplot with custom whisker lengths\n",
    "plt.boxplot(prices, whis=5)\n",
    "plt.show()"
   ]
  },
  {
   "cell_type": "markdown",
   "id": "9bcf5805-aaea-4088-8072-5ab15f775b61",
   "metadata": {},
   "source": [
    "# Calculating outlier limits with IQR\r\n",
    "Visualizing outliers is usually only the first step in detecting outliers. To go beyond visualizing outliers, you will need to write code that isolates the outliers from the distribution."
   ]
  },
  {
   "cell_type": "code",
   "execution_count": null,
   "id": "b4fb30ed-34e4-4328-8510-2ee8ec740c96",
   "metadata": {},
   "outputs": [],
   "source": [
    "# Calculate the 25th and 75th percentiles\n",
    "q1 = prices.quantile(0.25)\n",
    "q3 = prices.quantile(0.75)\n",
    "\n",
    "# Find the IQR\n",
    "IQR = q3-q1\n",
    "factor = 2.5\n",
    "\n",
    "# Calculate the lower limit\n",
    "lower_limit = q1 - (factor*IQR)\n",
    "\n",
    "# Calculate the upper limit\n",
    "upper_limit = q3 + (factor*IQR)\n",
    "# Create a mask for values lower than lower_limit\n",
    "is_lower = prices<lower_limit\n",
    "\n",
    "# Create a mask for values higher than upper_limit\n",
    "is_higher = prices>upper_limit\n",
    "\n",
    "# Combine the masks to filter for outliers\n",
    "outliers = prices[is_lower|is_higher]\n",
    "\n",
    "# Count and print the number of outliers\n",
    "print(len(outliers))"
   ]
  },
  {
   "cell_type": "markdown",
   "id": "241ac1b7-7926-49e4-8f8b-a495f8d5eee4",
   "metadata": {},
   "source": [
    "# Finding outliers with z-scores\r\n",
    "The normal distribution is ubiquitous in the natural world and is the most common distribution. This is why the z-score method can be one of the quickest methods for detecting outliers.\r\n",
    "\r\n",
    "Recall the rule of thumb from the video: if a sample is more than three standard away deviations from the mean, you can consider it an extreme value.\r\n",
    "\r\n",
    "However, recall also that the z-score method should be approached with caution. This method is appropriate only when we are confident our data comes from a normal distribution. Otherwise, the results might be misleading"
   ]
  },
  {
   "cell_type": "code",
   "execution_count": null,
   "id": "89a08158-ab69-4d02-a049-449d82f8bc99",
   "metadata": {},
   "outputs": [],
   "source": [
    "# Import the zscores function\n",
    "from scipy.stats  import zscore\n",
    "\n",
    "# Find the zscores of prices\n",
    "scores = zscore(prices)\n",
    "\n",
    "# Check if the absolute values of scores are over 3\n",
    "is_over_3 = np.abs(scores)>3\n",
    "\n",
    "# Use the mask to subset prices\n",
    "outliers = prices[is_over_3]\n",
    "\n",
    "print(len(outliers))"
   ]
  },
  {
   "cell_type": "markdown",
   "id": "9f21fc84-f71a-4e72-a2e8-bcedb18fda25",
   "metadata": {},
   "source": [
    "# Using modified z-scores with PyOD\r\n",
    "It is time to unleash pyod on outliers. We use the MAD estimator from pyod to utilize modified z-scores. The estimator already uses the median_abs_deviation function under the hood, so it is unnecessary to repeat the previous steps."
   ]
  },
  {
   "cell_type": "code",
   "execution_count": null,
   "id": "af434035-0c2a-499d-8c73-b1e8fa8d8a6d",
   "metadata": {},
   "outputs": [],
   "source": [
    "# Initialize with a threshold of 3.5\n",
    "mad = MAD(threshold=3.5)\n",
    "\n",
    "# Reshape prices to make it 2D\n",
    "prices_reshaped = prices.values.reshape(-1, 1)\n",
    "\n",
    "# Fit and predict outlier labels on prices_reshaped\n",
    "labels = mad.fit_predict(prices_reshaped)\n",
    "\n",
    "# Filter for outliers\n",
    "outliers = prices[labels == 1]\n",
    "\n",
    "print(len(outliers))"
   ]
  }
 ],
 "metadata": {
  "kernelspec": {
   "display_name": "Python 3 (ipykernel)",
   "language": "python",
   "name": "python3"
  },
  "language_info": {
   "codemirror_mode": {
    "name": "ipython",
    "version": 3
   },
   "file_extension": ".py",
   "mimetype": "text/x-python",
   "name": "python",
   "nbconvert_exporter": "python",
   "pygments_lexer": "ipython3",
   "version": "3.11.5"
  }
 },
 "nbformat": 4,
 "nbformat_minor": 5
}
