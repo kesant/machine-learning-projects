{
 "cells": [
  {
   "cell_type": "code",
   "execution_count": null,
   "id": "af66b95c-321e-435f-a440-8f9f0e9e0f7b",
   "metadata": {},
   "outputs": [],
   "source": [
    "# Import IForest from pyod\n",
    "from pyod.models.iforest import IForest"
   ]
  },
  {
   "cell_type": "markdown",
   "id": "c9ceed86-e6ab-4919-8cf3-0569b3515fd3",
   "metadata": {},
   "source": [
    "# Detecting outliers with IForest\n",
    "IForest is a robust estimator and only requires a few lines of code to detect outliers from any dataset. You may find that this syntax looks familiar since it closely resembles sklearn syntax."
   ]
  },
  {
   "cell_type": "code",
   "execution_count": null,
   "id": "355455a0-a67a-4ed9-8f8d-19fe886c351a",
   "metadata": {},
   "outputs": [],
   "source": [
    "# Initialize an instance with default parameters\n",
    "iforest = IForest()\n",
    "\n",
    "# Generate outlier labels\n",
    "labels = iforest.fit_predict(big_mart)\n",
    "\n",
    "# Filter big_mart for outliers\n",
    "outliers = big_mart[labels==1]\n",
    "\n",
    "print(outliers.shape)"
   ]
  }
 ],
 "metadata": {
  "kernelspec": {
   "display_name": "Python 3 (ipykernel)",
   "language": "python",
   "name": "python3"
  },
  "language_info": {
   "codemirror_mode": {
    "name": "ipython",
    "version": 3
   },
   "file_extension": ".py",
   "mimetype": "text/x-python",
   "name": "python",
   "nbconvert_exporter": "python",
   "pygments_lexer": "ipython3",
   "version": "3.11.5"
  }
 },
 "nbformat": 4,
 "nbformat_minor": 5
}
