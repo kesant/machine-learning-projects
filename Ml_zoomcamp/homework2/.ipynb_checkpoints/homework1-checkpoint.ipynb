{
 "cells": [
  {
   "cell_type": "code",
   "execution_count": 1,
   "id": "eedc1b70-4e59-40a1-b05c-c73414530a36",
   "metadata": {},
   "outputs": [],
   "source": [
    "import pandas as pd\n",
    "import matplotlib.pyplot as plt\n",
    "import numpy as np\n",
    "import seaborn as sns"
   ]
  },
  {
   "cell_type": "code",
   "execution_count": 2,
   "id": "18cb9acc-da25-45fc-8ffd-4ac8c8318d76",
   "metadata": {},
   "outputs": [
    {
     "data": {
      "text/plain": [
       "'2.2.3'"
      ]
     },
     "execution_count": 2,
     "metadata": {},
     "output_type": "execute_result"
    }
   ],
   "source": [
    "#question 1\n",
    "pd.__version__"
   ]
  },
  {
   "cell_type": "code",
   "execution_count": 3,
   "id": "5ec30a34-1498-4fab-a8ca-519c6faf3de5",
   "metadata": {},
   "outputs": [],
   "source": [
    "df_cars=pd.read_csv(\"car_fuel_efficiency.csv\")"
   ]
  },
  {
   "cell_type": "code",
   "execution_count": 5,
   "id": "b39f347e-a59e-47c4-bee9-56e2275eb165",
   "metadata": {},
   "outputs": [
    {
     "data": {
      "text/plain": [
       "9704"
      ]
     },
     "execution_count": 5,
     "metadata": {},
     "output_type": "execute_result"
    }
   ],
   "source": [
    "#question2\n",
    "df_cars.shape[0]"
   ]
  },
  {
   "cell_type": "code",
   "execution_count": 6,
   "id": "a9d34310-f0f3-40cd-933b-5c354baab5ad",
   "metadata": {},
   "outputs": [],
   "source": [
    "#question3\n",
    "#How many fuel types are presented in the dataset?"
   ]
  },
  {
   "cell_type": "code",
   "execution_count": 8,
   "id": "8aba4676-00c2-411b-842e-8ec4ce3f7ef1",
   "metadata": {},
   "outputs": [
    {
     "data": {
      "text/html": [
       "<div>\n",
       "<style scoped>\n",
       "    .dataframe tbody tr th:only-of-type {\n",
       "        vertical-align: middle;\n",
       "    }\n",
       "\n",
       "    .dataframe tbody tr th {\n",
       "        vertical-align: top;\n",
       "    }\n",
       "\n",
       "    .dataframe thead th {\n",
       "        text-align: right;\n",
       "    }\n",
       "</style>\n",
       "<table border=\"1\" class=\"dataframe\">\n",
       "  <thead>\n",
       "    <tr style=\"text-align: right;\">\n",
       "      <th></th>\n",
       "      <th>engine_displacement</th>\n",
       "      <th>num_cylinders</th>\n",
       "      <th>horsepower</th>\n",
       "      <th>vehicle_weight</th>\n",
       "      <th>acceleration</th>\n",
       "      <th>model_year</th>\n",
       "      <th>origin</th>\n",
       "      <th>fuel_type</th>\n",
       "      <th>drivetrain</th>\n",
       "      <th>num_doors</th>\n",
       "      <th>fuel_efficiency_mpg</th>\n",
       "    </tr>\n",
       "  </thead>\n",
       "  <tbody>\n",
       "    <tr>\n",
       "      <th>0</th>\n",
       "      <td>170</td>\n",
       "      <td>3.0</td>\n",
       "      <td>159.0</td>\n",
       "      <td>3413.433759</td>\n",
       "      <td>17.7</td>\n",
       "      <td>2003</td>\n",
       "      <td>Europe</td>\n",
       "      <td>Gasoline</td>\n",
       "      <td>All-wheel drive</td>\n",
       "      <td>0.0</td>\n",
       "      <td>13.231729</td>\n",
       "    </tr>\n",
       "    <tr>\n",
       "      <th>1</th>\n",
       "      <td>130</td>\n",
       "      <td>5.0</td>\n",
       "      <td>97.0</td>\n",
       "      <td>3149.664934</td>\n",
       "      <td>17.8</td>\n",
       "      <td>2007</td>\n",
       "      <td>USA</td>\n",
       "      <td>Gasoline</td>\n",
       "      <td>Front-wheel drive</td>\n",
       "      <td>0.0</td>\n",
       "      <td>13.688217</td>\n",
       "    </tr>\n",
       "    <tr>\n",
       "      <th>2</th>\n",
       "      <td>170</td>\n",
       "      <td>NaN</td>\n",
       "      <td>78.0</td>\n",
       "      <td>3079.038997</td>\n",
       "      <td>15.1</td>\n",
       "      <td>2018</td>\n",
       "      <td>Europe</td>\n",
       "      <td>Gasoline</td>\n",
       "      <td>Front-wheel drive</td>\n",
       "      <td>0.0</td>\n",
       "      <td>14.246341</td>\n",
       "    </tr>\n",
       "    <tr>\n",
       "      <th>3</th>\n",
       "      <td>220</td>\n",
       "      <td>4.0</td>\n",
       "      <td>NaN</td>\n",
       "      <td>2542.392402</td>\n",
       "      <td>20.2</td>\n",
       "      <td>2009</td>\n",
       "      <td>USA</td>\n",
       "      <td>Diesel</td>\n",
       "      <td>All-wheel drive</td>\n",
       "      <td>2.0</td>\n",
       "      <td>16.912736</td>\n",
       "    </tr>\n",
       "    <tr>\n",
       "      <th>4</th>\n",
       "      <td>210</td>\n",
       "      <td>1.0</td>\n",
       "      <td>140.0</td>\n",
       "      <td>3460.870990</td>\n",
       "      <td>14.4</td>\n",
       "      <td>2009</td>\n",
       "      <td>Europe</td>\n",
       "      <td>Gasoline</td>\n",
       "      <td>All-wheel drive</td>\n",
       "      <td>2.0</td>\n",
       "      <td>12.488369</td>\n",
       "    </tr>\n",
       "  </tbody>\n",
       "</table>\n",
       "</div>"
      ],
      "text/plain": [
       "   engine_displacement  num_cylinders  horsepower  vehicle_weight  \\\n",
       "0                  170            3.0       159.0     3413.433759   \n",
       "1                  130            5.0        97.0     3149.664934   \n",
       "2                  170            NaN        78.0     3079.038997   \n",
       "3                  220            4.0         NaN     2542.392402   \n",
       "4                  210            1.0       140.0     3460.870990   \n",
       "\n",
       "   acceleration  model_year  origin fuel_type         drivetrain  num_doors  \\\n",
       "0          17.7        2003  Europe  Gasoline    All-wheel drive        0.0   \n",
       "1          17.8        2007     USA  Gasoline  Front-wheel drive        0.0   \n",
       "2          15.1        2018  Europe  Gasoline  Front-wheel drive        0.0   \n",
       "3          20.2        2009     USA    Diesel    All-wheel drive        2.0   \n",
       "4          14.4        2009  Europe  Gasoline    All-wheel drive        2.0   \n",
       "\n",
       "   fuel_efficiency_mpg  \n",
       "0            13.231729  \n",
       "1            13.688217  \n",
       "2            14.246341  \n",
       "3            16.912736  \n",
       "4            12.488369  "
      ]
     },
     "execution_count": 8,
     "metadata": {},
     "output_type": "execute_result"
    }
   ],
   "source": [
    "df_cars.head()"
   ]
  },
  {
   "cell_type": "code",
   "execution_count": 9,
   "id": "dbadb255-1f54-4f6b-93e8-b36f59badb6d",
   "metadata": {},
   "outputs": [
    {
     "data": {
      "text/plain": [
       "fuel_type\n",
       "Gasoline    4898\n",
       "Diesel      4806\n",
       "Name: count, dtype: int64"
      ]
     },
     "execution_count": 9,
     "metadata": {},
     "output_type": "execute_result"
    }
   ],
   "source": [
    "df_cars.fuel_type.value_counts()"
   ]
  },
  {
   "cell_type": "code",
   "execution_count": 10,
   "id": "1ddd3770-f51b-4761-8759-4f1862614894",
   "metadata": {},
   "outputs": [
    {
     "data": {
      "text/plain": [
       "engine_displacement      0\n",
       "num_cylinders          482\n",
       "horsepower             708\n",
       "vehicle_weight           0\n",
       "acceleration           930\n",
       "model_year               0\n",
       "origin                   0\n",
       "fuel_type                0\n",
       "drivetrain               0\n",
       "num_doors              502\n",
       "fuel_efficiency_mpg      0\n",
       "dtype: int64"
      ]
     },
     "execution_count": 10,
     "metadata": {},
     "output_type": "execute_result"
    }
   ],
   "source": [
    "##question 4\n",
    "##How many columns in the dataset have missing values?\n",
    "df_cars.isna().sum()"
   ]
  },
  {
   "cell_type": "code",
   "execution_count": 11,
   "id": "b055c4c0-e518-4bed-bcd8-138e0a98bce5",
   "metadata": {},
   "outputs": [
    {
     "data": {
      "text/plain": [
       "array(['Europe', 'USA', 'Asia'], dtype=object)"
      ]
     },
     "execution_count": 11,
     "metadata": {},
     "output_type": "execute_result"
    }
   ],
   "source": [
    "##question 5\n",
    "#What's the maximum fuel efficiency of cars from Asia?\n",
    "df_cars.origin.unique()\n"
   ]
  },
  {
   "cell_type": "code",
   "execution_count": 12,
   "id": "2818cb74-b563-41d0-bb59-6d1066de8e24",
   "metadata": {},
   "outputs": [
    {
     "data": {
      "text/plain": [
       "np.float64(23.759122836520497)"
      ]
     },
     "execution_count": 12,
     "metadata": {},
     "output_type": "execute_result"
    }
   ],
   "source": [
    "df_cars.query(\"origin=='Asia'\").fuel_efficiency_mpg.max()"
   ]
  },
  {
   "cell_type": "markdown",
   "id": "3c30e7f9-a9e1-4ed7-9de6-92bc94cd078b",
   "metadata": {},
   "source": [
    "**question 7**\n",
    "* Find the median value of the horsepower column in the dataset.\n",
    "* Next, calculate the most frequent value of the same horsepower column.\n",
    "* Use the fillna method to fill the missing values in the horsepower column with the most frequent value from the previous step.\n",
    "* Now, calculate the median value of horsepower once again.\n",
    "\n",
    "**Has it changed?**\n",
    "\n",
    "* Yes, it increased\n",
    "* Yes, it decreased\n",
    "* No"
   ]
  },
  {
   "cell_type": "code",
   "execution_count": 13,
   "id": "2492fd60-6bd5-4498-a2f9-8c5ea4804c3d",
   "metadata": {},
   "outputs": [
    {
     "data": {
      "text/plain": [
       "np.float64(149.0)"
      ]
     },
     "execution_count": 13,
     "metadata": {},
     "output_type": "execute_result"
    }
   ],
   "source": [
    "df_cars.horsepower.median()"
   ]
  },
  {
   "cell_type": "code",
   "execution_count": 14,
   "id": "695cb99e-567a-41bd-8c2e-95f5c225f7d8",
   "metadata": {},
   "outputs": [
    {
     "data": {
      "text/plain": [
       "0    152.0\n",
       "Name: horsepower, dtype: float64"
      ]
     },
     "execution_count": 14,
     "metadata": {},
     "output_type": "execute_result"
    }
   ],
   "source": [
    "df_cars.horsepower.mode()"
   ]
  },
  {
   "cell_type": "code",
   "execution_count": 15,
   "id": "0552f207-801d-45ee-b95c-d8170f8bd826",
   "metadata": {},
   "outputs": [
    {
     "name": "stderr",
     "output_type": "stream",
     "text": [
      "C:\\Users\\ASUS TUF\\AppData\\Local\\Temp\\ipykernel_26508\\2097810061.py:1: FutureWarning: A value is trying to be set on a copy of a DataFrame or Series through chained assignment using an inplace method.\n",
      "The behavior will change in pandas 3.0. This inplace method will never work because the intermediate object on which we are setting values always behaves as a copy.\n",
      "\n",
      "For example, when doing 'df[col].method(value, inplace=True)', try using 'df.method({col: value}, inplace=True)' or df[col] = df[col].method(value) instead, to perform the operation inplace on the original object.\n",
      "\n",
      "\n",
      "  df_cars.horsepower.fillna(df_cars.horsepower.mode(),inplace=True)\n"
     ]
    }
   ],
   "source": [
    "df_cars.horsepower.fillna(df_cars.horsepower.mode(),inplace=True)"
   ]
  },
  {
   "cell_type": "code",
   "execution_count": 16,
   "id": "b06ebf73-ccda-4767-8f0d-cf1079ce4d65",
   "metadata": {},
   "outputs": [
    {
     "data": {
      "text/plain": [
       "np.float64(149.0)"
      ]
     },
     "execution_count": 16,
     "metadata": {},
     "output_type": "execute_result"
    }
   ],
   "source": [
    "df_cars.horsepower.median()"
   ]
  },
  {
   "cell_type": "markdown",
   "id": "effd131b-477e-4389-a29f-82178e653504",
   "metadata": {},
   "source": [
    "**question7**\n",
    "* Select all the cars from Asia\n",
    "* Select only columns vehicle_weight and model_year\n",
    "* Select the first 7 values\n",
    "* Get the underlying NumPy array. Let's call it X.\n",
    "* Compute matrix-matrix multiplication between the transpose of X and X. To get the transpose, use X.T. Let's call the result XTX.\n",
    "* Invert XTX.\n",
    "* Create an array y with values [1100, 1300, 800, 900, 1000, 1100, 1200].\n",
    "* Multiply the inverse of XTX with the transpose of X, and then multiply the result by y. Call the result w.\n",
    "* What's the sum of all the elements of the result?\n",
    "* Note: You just implemented linear regression. We'll talk about it in the next lesson.\n",
    "\n",
    "* 0.051\n",
    "* 0.51\n",
    "* 5.1\n",
    "* 51"
   ]
  },
  {
   "cell_type": "code",
   "execution_count": 17,
   "id": "549708ad-6960-4e1c-b6d1-cee0923c7f34",
   "metadata": {},
   "outputs": [],
   "source": [
    "df_asia=df_cars.query(\"origin=='Asia'\").copy()"
   ]
  },
  {
   "cell_type": "code",
   "execution_count": 18,
   "id": "8399a694-cedb-4abc-9e4c-54e188981d4d",
   "metadata": {},
   "outputs": [
    {
     "data": {
      "text/plain": [
       "Index(['engine_displacement', 'num_cylinders', 'horsepower', 'vehicle_weight',\n",
       "       'acceleration', 'model_year', 'origin', 'fuel_type', 'drivetrain',\n",
       "       'num_doors', 'fuel_efficiency_mpg'],\n",
       "      dtype='object')"
      ]
     },
     "execution_count": 18,
     "metadata": {},
     "output_type": "execute_result"
    }
   ],
   "source": [
    "df_asia.columns"
   ]
  },
  {
   "cell_type": "code",
   "execution_count": 21,
   "id": "4913fb35-73eb-4937-a172-3721e5b60e26",
   "metadata": {},
   "outputs": [],
   "source": [
    "# Step 1: Select the first 7 values\n",
    "X = df_asia[[\"vehicle_weight\", \"model_year\"]].head(7).values"
   ]
  },
  {
   "cell_type": "code",
   "execution_count": 22,
   "id": "7ba3b043-92a5-45d6-bba3-786d46de6d35",
   "metadata": {},
   "outputs": [],
   "source": [
    "# Step 2: Compute matrix-matrix multiplication between the transpose of X and X\n",
    "XTX = np.dot(X.T, X)"
   ]
  },
  {
   "cell_type": "code",
   "execution_count": 23,
   "id": "5b9d17e2-7a6d-4df5-aa6b-17a4d7a890e1",
   "metadata": {},
   "outputs": [],
   "source": [
    "# Step 3: Invert XTX\n",
    "XTX_inv = np.linalg.inv(XTX)"
   ]
  },
  {
   "cell_type": "code",
   "execution_count": 24,
   "id": "45535115-3ce4-4425-ae9d-c95b7cc990e7",
   "metadata": {},
   "outputs": [],
   "source": [
    "\n",
    "# Step 4: Create array y\n",
    "y = np.array([1100, 1300, 800, 900, 1000, 1100, 1200])"
   ]
  },
  {
   "cell_type": "code",
   "execution_count": 25,
   "id": "aebee68b-40d7-4d6a-aa63-20380b037c23",
   "metadata": {},
   "outputs": [],
   "source": [
    "# Step 5: Multiply the inverse of XTX with the transpose of X, then multiply by y\n",
    "w = np.dot(np.dot(XTX_inv, X.T), y)\n"
   ]
  },
  {
   "cell_type": "code",
   "execution_count": 26,
   "id": "c1c798ad-49d3-470d-907b-22fb78fee9e4",
   "metadata": {},
   "outputs": [
    {
     "name": "stdout",
     "output_type": "stream",
     "text": [
      "0.5187709081074007\n"
     ]
    }
   ],
   "source": [
    "# Step 6: Compute the sum of all the elements of the result\n",
    "w_sum = np.sum(w)\n",
    "print(w_sum)"
   ]
  },
  {
   "cell_type": "code",
   "execution_count": null,
   "id": "d7971152-71c4-4dd7-b700-4b59bcd30c73",
   "metadata": {},
   "outputs": [],
   "source": []
  }
 ],
 "metadata": {
  "kernelspec": {
   "display_name": "Python 3 (ipykernel)",
   "language": "python",
   "name": "python3"
  },
  "language_info": {
   "codemirror_mode": {
    "name": "ipython",
    "version": 3
   },
   "file_extension": ".py",
   "mimetype": "text/x-python",
   "name": "python",
   "nbconvert_exporter": "python",
   "pygments_lexer": "ipython3",
   "version": "3.11.10"
  }
 },
 "nbformat": 4,
 "nbformat_minor": 5
}
