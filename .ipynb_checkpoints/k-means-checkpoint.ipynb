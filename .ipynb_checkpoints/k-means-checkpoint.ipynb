{
 "cells": [
  {
   "cell_type": "code",
   "execution_count": null,
   "id": "030dbfad",
   "metadata": {},
   "outputs": [],
   "source": [
    "import pandas as pd\n",
    "import numpy as np\n",
    "from sklearn.preprocessing import StandardScaler\n",
    "from sklearn.cluster import KMeans"
   ]
  },
  {
   "cell_type": "code",
   "execution_count": null,
   "id": "b4891ea4",
   "metadata": {},
   "outputs": [],
   "source": [
    "df=pd.read_csv(\".../\")"
   ]
  },
  {
   "cell_type": "code",
   "execution_count": null,
   "id": "cce9b1e3",
   "metadata": {},
   "outputs": [],
   "source": [
    "df.head()"
   ]
  },
  {
   "cell_type": "code",
   "execution_count": null,
   "id": "8f4746de",
   "metadata": {},
   "outputs": [],
   "source": [
    "x=df.iloc[:,1:]"
   ]
  },
  {
   "cell_type": "code",
   "execution_count": null,
   "id": "28aab1e7",
   "metadata": {},
   "outputs": [],
   "source": [
    "sc=StandardScaler()#escalador "
   ]
  },
  {
   "cell_type": "code",
   "execution_count": null,
   "id": "031fab6b",
   "metadata": {},
   "outputs": [],
   "source": [
    "sc.fit(x)#ajusta los parametros de media y desviacion estandar"
   ]
  },
  {
   "cell_type": "code",
   "execution_count": null,
   "id": "065b0ef1",
   "metadata": {},
   "outputs": [],
   "source": [
    "x_norm=sc.transform(x)#normaliza los datos ,devuelve un dataframe"
   ]
  },
  {
   "cell_type": "code",
   "execution_count": null,
   "id": "29896db1",
   "metadata": {},
   "outputs": [],
   "source": []
  }
 ],
 "metadata": {
  "kernelspec": {
   "display_name": "Python 3 (ipykernel)",
   "language": "python",
   "name": "python3"
  },
  "language_info": {
   "codemirror_mode": {
    "name": "ipython",
    "version": 3
   },
   "file_extension": ".py",
   "mimetype": "text/x-python",
   "name": "python",
   "nbconvert_exporter": "python",
   "pygments_lexer": "ipython3",
   "version": "3.11.3"
  }
 },
 "nbformat": 4,
 "nbformat_minor": 5
}
