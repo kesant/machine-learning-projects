{
 "cells": [
  {
   "cell_type": "markdown",
   "id": "7db51f77",
   "metadata": {},
   "source": [
    "# Proyecto final: análisis de datos aplicado a una nueva bebida energizante"
   ]
  },
  {
   "cell_type": "markdown",
   "id": "e8c22858",
   "metadata": {},
   "source": [
    "## Contenido\n",
    "\n",
    "1. [Planteamiento del problema](#sec_1)\n",
    "2. [Exploración del set de datos](#sec_2)\n",
    "3. [Limpieza del set de datos](#sec_3)\n",
    "4. [Análisis de los datos](#sec_4)\n",
    "5. [Reporte final y recomendaciones](#sec_5)\n",
    "6. [Sugerencias finales](#sec_6)"
   ]
  },
  {
   "cell_type": "markdown",
   "id": "d0d27f2a",
   "metadata": {},
   "source": [
    "<a id='sec_1'></a>\n",
    "## 1. Planteamiento del problema\n",
    "\n",
    "*MegaBoost* es una marca de bebidas energizantes de Inglaterra y desea ingresar al mercado Italiano. Hace algunos meses lanzaron su bebida en 10 ciudades de Italia.\n",
    "\n",
    "El equipo de marketing está a cargo de incrementar el posicionamiento de la marca y la participación en el mercado, además de apoyar el desarrollo del producto. Para esto aplicaron una encuesta a 10.000 personas en esas 10 ciudades.\n",
    "\n",
    "Suponga que usted es parte del equipo de marketing encargado del análisis de datos y tiene la tarea de tomar los resultados de esta encuesta y extraer información relevante (**insights**) para la toma de decisiones con respecto al producto.\n",
    "\n",
    "### 1.1. Tarea a realizar\n",
    "\n",
    "Su labor es extraer los siguientes *insights* a partir de los datos:\n",
    "\n",
    "- **Demográficos:**\n",
    "    - ¿Quiénes prefieren esta bebida energética?\n",
    "    - ¿Qué rangos de edad tienden a preferir la bebida?\n",
    "    \n",
    " \n",
    "- **Análisis de la competencia:**\n",
    "    - ¿Quiénes son los actuales líderes del mercado?\n",
    "\n",
    "- **Canales de mercadeo y conocimiento de la marca:**\n",
    "    - ¿Cuál es el canal de mercadeo más efectivo?\n",
    "    \n",
    "- **Penetración de la marca:**\n",
    "    - ¿Qué piensa la gente de nuestra marca?\n",
    "    - ¿En qué ciudades debemos reforzar este posicionamiento?\n",
    "    - ¿Por qué los consumidores prefieren otras marcas y no las nuestras?\n",
    "\n",
    "Al final, y con base en el análisis anterior:\n",
    "\n",
    "- Genere un reporte muy breve con los principales hallazgos\n",
    "- Dé al menos 3 recomendaciones al equipo de marketing para mejorar las ventas del producto.\n",
    "\n",
    "### 1.2. Recursos disponibles\n",
    "\n",
    "- [Formato de la encuesta aplicada a las 10.000 personas](encuesta_bebida_energizante.pdf)\n",
    "- [Set de datos](dataset_bebida_energizante.csv)\n",
    "- [Metadatos con la descripción de la información contenida en el set de datos](metadatos_dataset_bebida_energizante.txt)"
   ]
  },
  {
   "cell_type": "markdown",
   "id": "4599f675",
   "metadata": {},
   "source": [
    "<a id='sec_2'></a>\n",
    "## 2. Exploración del set de datos\n",
    "\n",
    "El objetivo de esta fase es familiarizarnos con la información contenida en el set de datos.\n",
    "\n",
    "Aunque cada proyecto es diferente sugiero llevar a cabo al menos estos pasos de exploración:\n",
    "\n",
    "1. Leer el set de datos\n",
    "2. Entender tamaño, columnas y filas del set de datos\n",
    "3. Entender qué tipos de datos tenemos en cada columna\n",
    "4. Entender el rango de valores de las variables numéricas\n",
    "5. Entender los niveles de las diferentes variables categóricas\n",
    "6. Verificar si hay datos faltantes\n",
    "\n",
    "Es importante que al final de cada fase, y en caso de que sea pertinente, agreguemos una breve síntesis de lo observado. Esto nos permitirá mantener una bitácora de las observaciones que vayamos encontrando y será útil en fases posteriores del análisis.\n",
    "\n",
    "Llevemos a cabo cada una de estas fases:"
   ]
  },
  {
   "cell_type": "markdown",
   "id": "61300442",
   "metadata": {},
   "source": [
    "### 2.1. Leer el set de datos\n",
    "y\n",
    "### 2.2. Entender su tamaño y el contenido de sus filas y columnas"
   ]
  },
  {
   "cell_type": "code",
   "execution_count": 1,
   "id": "011a217e",
   "metadata": {},
   "outputs": [
    {
     "data": {
      "text/html": [
       "<div>\n",
       "<style scoped>\n",
       "    .dataframe tbody tr th:only-of-type {\n",
       "        vertical-align: middle;\n",
       "    }\n",
       "\n",
       "    .dataframe tbody tr th {\n",
       "        vertical-align: top;\n",
       "    }\n",
       "\n",
       "    .dataframe thead th {\n",
       "        text-align: right;\n",
       "    }\n",
       "</style>\n",
       "<table border=\"1\" class=\"dataframe\">\n",
       "  <thead>\n",
       "    <tr style=\"text-align: right;\">\n",
       "      <th></th>\n",
       "      <th>ID_encuestado</th>\n",
       "      <th>Edad</th>\n",
       "      <th>Género</th>\n",
       "      <th>ID_Ciudad</th>\n",
       "      <th>ID_respuesta</th>\n",
       "      <th>Frec_consumo</th>\n",
       "      <th>Momento_consumo</th>\n",
       "      <th>Motivo_consumo</th>\n",
       "      <th>Conocía_marca</th>\n",
       "      <th>Percepción_marca</th>\n",
       "      <th>...</th>\n",
       "      <th>Preocupaciones_salud</th>\n",
       "      <th>Interés_en_natural_o_organico</th>\n",
       "      <th>Canales_marketing</th>\n",
       "      <th>Preferencia_empaque</th>\n",
       "      <th>Empaque_ed_limitada</th>\n",
       "      <th>Rango_precios</th>\n",
       "      <th>Lugar_compra</th>\n",
       "      <th>Situaciones_típicas_consumo</th>\n",
       "      <th>Ciudad</th>\n",
       "      <th>Cat_Ciudad</th>\n",
       "    </tr>\n",
       "  </thead>\n",
       "  <tbody>\n",
       "    <tr>\n",
       "      <th>0</th>\n",
       "      <td>120031</td>\n",
       "      <td>15-18</td>\n",
       "      <td>Mujer</td>\n",
       "      <td>CD117</td>\n",
       "      <td>103001</td>\n",
       "      <td>2-3 veces por semana</td>\n",
       "      <td>Durante el trabajo/estudio</td>\n",
       "      <td>Mayor concentración</td>\n",
       "      <td>Sí</td>\n",
       "      <td>Neutral</td>\n",
       "      <td>...</td>\n",
       "      <td>No</td>\n",
       "      <td>Sí</td>\n",
       "      <td>Publicidad en TV</td>\n",
       "      <td>Latas compactas y portables</td>\n",
       "      <td>Sí</td>\n",
       "      <td>1-2.49</td>\n",
       "      <td>Supermercados</td>\n",
       "      <td>Al estudiar/trabajar hasta tarde</td>\n",
       "      <td>Verona</td>\n",
       "      <td>Cat.  2</td>\n",
       "    </tr>\n",
       "    <tr>\n",
       "      <th>1</th>\n",
       "      <td>120032</td>\n",
       "      <td>19-30</td>\n",
       "      <td>Hombre</td>\n",
       "      <td>CD118</td>\n",
       "      <td>103002</td>\n",
       "      <td>2-3 veces al mes</td>\n",
       "      <td>A lo largo del día</td>\n",
       "      <td>Aumentar rendimiento</td>\n",
       "      <td>No</td>\n",
       "      <td>Neutral</td>\n",
       "      <td>...</td>\n",
       "      <td>Sí</td>\n",
       "      <td>Indiferente</td>\n",
       "      <td>Medios impresos</td>\n",
       "      <td>Latas compactas y portables</td>\n",
       "      <td>No</td>\n",
       "      <td>1-2.49</td>\n",
       "      <td>Supermercados</td>\n",
       "      <td>Al hacer deporte</td>\n",
       "      <td>Génova</td>\n",
       "      <td>Cat.  2</td>\n",
       "    </tr>\n",
       "    <tr>\n",
       "      <th>2</th>\n",
       "      <td>120033</td>\n",
       "      <td>15-18</td>\n",
       "      <td>Hombre</td>\n",
       "      <td>CD116</td>\n",
       "      <td>103003</td>\n",
       "      <td>Ocasional</td>\n",
       "      <td>Antes de hacer ejercicio</td>\n",
       "      <td>Mayor concentración</td>\n",
       "      <td>No</td>\n",
       "      <td>Neutral</td>\n",
       "      <td>...</td>\n",
       "      <td>No</td>\n",
       "      <td>Sí</td>\n",
       "      <td>Publicidad online</td>\n",
       "      <td>Botella con diseño innnovador</td>\n",
       "      <td>Indiferente</td>\n",
       "      <td>2.49-4</td>\n",
       "      <td>Supermercados</td>\n",
       "      <td>Al estudiar/trabajar hasta tarde</td>\n",
       "      <td>Venecia</td>\n",
       "      <td>Cat.  1</td>\n",
       "    </tr>\n",
       "    <tr>\n",
       "      <th>3</th>\n",
       "      <td>120034</td>\n",
       "      <td>31-45</td>\n",
       "      <td>Mujer</td>\n",
       "      <td>CD113</td>\n",
       "      <td>103004</td>\n",
       "      <td>2-3 veces por semana</td>\n",
       "      <td>Durante el trabajo/estudio</td>\n",
       "      <td>Aumentar rendimiento</td>\n",
       "      <td>No</td>\n",
       "      <td>Positiva</td>\n",
       "      <td>...</td>\n",
       "      <td>No</td>\n",
       "      <td>Sí</td>\n",
       "      <td>Publicidad online</td>\n",
       "      <td>Latas compactas y portables</td>\n",
       "      <td>No</td>\n",
       "      <td>Más de 4</td>\n",
       "      <td>Supermercados</td>\n",
       "      <td>Al hacer deporte</td>\n",
       "      <td>Turín</td>\n",
       "      <td>Cat.  1</td>\n",
       "    </tr>\n",
       "    <tr>\n",
       "      <th>4</th>\n",
       "      <td>120035</td>\n",
       "      <td>19-30</td>\n",
       "      <td>Mujer</td>\n",
       "      <td>CD120</td>\n",
       "      <td>103005</td>\n",
       "      <td>A diario</td>\n",
       "      <td>Durante el trabajo/estudio</td>\n",
       "      <td>Mayor concentración</td>\n",
       "      <td>Sí</td>\n",
       "      <td>Neutral</td>\n",
       "      <td>...</td>\n",
       "      <td>Sí</td>\n",
       "      <td>Sí</td>\n",
       "      <td>Publicidad online</td>\n",
       "      <td>Latas compactas y portables</td>\n",
       "      <td>Sí</td>\n",
       "      <td>2.49-4</td>\n",
       "      <td>Tiendas online</td>\n",
       "      <td>Al estudiar/trabajar hasta tarde</td>\n",
       "      <td>Siena</td>\n",
       "      <td>Cat.  2</td>\n",
       "    </tr>\n",
       "    <tr>\n",
       "      <th>...</th>\n",
       "      <td>...</td>\n",
       "      <td>...</td>\n",
       "      <td>...</td>\n",
       "      <td>...</td>\n",
       "      <td>...</td>\n",
       "      <td>...</td>\n",
       "      <td>...</td>\n",
       "      <td>...</td>\n",
       "      <td>...</td>\n",
       "      <td>...</td>\n",
       "      <td>...</td>\n",
       "      <td>...</td>\n",
       "      <td>...</td>\n",
       "      <td>...</td>\n",
       "      <td>...</td>\n",
       "      <td>...</td>\n",
       "      <td>...</td>\n",
       "      <td>...</td>\n",
       "      <td>...</td>\n",
       "      <td>...</td>\n",
       "      <td>...</td>\n",
       "    </tr>\n",
       "    <tr>\n",
       "      <th>9995</th>\n",
       "      <td>130026</td>\n",
       "      <td>31-45</td>\n",
       "      <td>Hombre</td>\n",
       "      <td>CD112</td>\n",
       "      <td>112996</td>\n",
       "      <td>A diario</td>\n",
       "      <td>Antes de hacer ejercicio</td>\n",
       "      <td>Mejorar desempeño deportivo</td>\n",
       "      <td>Sí</td>\n",
       "      <td>Neutral</td>\n",
       "      <td>...</td>\n",
       "      <td>No</td>\n",
       "      <td>No</td>\n",
       "      <td>Medios impresos</td>\n",
       "      <td>Latas compactas y portables</td>\n",
       "      <td>Sí</td>\n",
       "      <td>2.49-4</td>\n",
       "      <td>Supermercados</td>\n",
       "      <td>Al estudiar/trabajar hasta tarde</td>\n",
       "      <td>Roma</td>\n",
       "      <td>Cat.  1</td>\n",
       "    </tr>\n",
       "    <tr>\n",
       "      <th>9996</th>\n",
       "      <td>130027</td>\n",
       "      <td>15-18</td>\n",
       "      <td>Hombre</td>\n",
       "      <td>CD113</td>\n",
       "      <td>112997</td>\n",
       "      <td>A diario</td>\n",
       "      <td>Durante el trabajo/estudio</td>\n",
       "      <td>Combatir fatiga</td>\n",
       "      <td>No</td>\n",
       "      <td>Positiva</td>\n",
       "      <td>...</td>\n",
       "      <td>No</td>\n",
       "      <td>No</td>\n",
       "      <td>Publicidad en TV</td>\n",
       "      <td>Otro</td>\n",
       "      <td>Sí</td>\n",
       "      <td>1-2.49</td>\n",
       "      <td>Tiendas online</td>\n",
       "      <td>Social outings/parties</td>\n",
       "      <td>Turín</td>\n",
       "      <td>Cat.  1</td>\n",
       "    </tr>\n",
       "    <tr>\n",
       "      <th>9997</th>\n",
       "      <td>130028</td>\n",
       "      <td>31-45</td>\n",
       "      <td>Hombre</td>\n",
       "      <td>CD114</td>\n",
       "      <td>112998</td>\n",
       "      <td>A diario</td>\n",
       "      <td>Antes de hacer ejercicio</td>\n",
       "      <td>Mayor concentración</td>\n",
       "      <td>Sí</td>\n",
       "      <td>Positiva</td>\n",
       "      <td>...</td>\n",
       "      <td>Sí</td>\n",
       "      <td>No</td>\n",
       "      <td>Vallas publicitarias</td>\n",
       "      <td>Latas compactas y portables</td>\n",
       "      <td>No</td>\n",
       "      <td>2.49-4</td>\n",
       "      <td>Otros</td>\n",
       "      <td>Al hacer deporte</td>\n",
       "      <td>Florencia</td>\n",
       "      <td>Cat.  1</td>\n",
       "    </tr>\n",
       "    <tr>\n",
       "      <th>9998</th>\n",
       "      <td>130029</td>\n",
       "      <td>19-30</td>\n",
       "      <td>Hombre</td>\n",
       "      <td>CD113</td>\n",
       "      <td>112999</td>\n",
       "      <td>2-3 veces por semana</td>\n",
       "      <td>Durante el trabajo/estudio</td>\n",
       "      <td>Mayor concentración</td>\n",
       "      <td>No</td>\n",
       "      <td>Positiva</td>\n",
       "      <td>...</td>\n",
       "      <td>Sí</td>\n",
       "      <td>Sí</td>\n",
       "      <td>Publicidad online</td>\n",
       "      <td>Latas compactas y portables</td>\n",
       "      <td>Indiferente</td>\n",
       "      <td>1-2.49</td>\n",
       "      <td>Supermercados</td>\n",
       "      <td>Al estudiar/trabajar hasta tarde</td>\n",
       "      <td>Turín</td>\n",
       "      <td>Cat.  1</td>\n",
       "    </tr>\n",
       "    <tr>\n",
       "      <th>9999</th>\n",
       "      <td>130030</td>\n",
       "      <td>15-18</td>\n",
       "      <td>Hombre</td>\n",
       "      <td>CD112</td>\n",
       "      <td>113000</td>\n",
       "      <td>A diario</td>\n",
       "      <td>Siempre que necesito mantener la concentración</td>\n",
       "      <td>Otro</td>\n",
       "      <td>Sí</td>\n",
       "      <td>Positiva</td>\n",
       "      <td>...</td>\n",
       "      <td>Sí</td>\n",
       "      <td>Indiferente</td>\n",
       "      <td>Medios impresos</td>\n",
       "      <td>Diseño amigable con el ambiente</td>\n",
       "      <td>No</td>\n",
       "      <td>1-2.49</td>\n",
       "      <td>Supermercados</td>\n",
       "      <td>Al hacer deporte</td>\n",
       "      <td>Roma</td>\n",
       "      <td>Cat.  1</td>\n",
       "    </tr>\n",
       "  </tbody>\n",
       "</table>\n",
       "<p>10000 rows × 28 columns</p>\n",
       "</div>"
      ],
      "text/plain": [
       "      ID_encuestado   Edad  Género ID_Ciudad  ID_respuesta  \\\n",
       "0            120031  15-18   Mujer     CD117        103001   \n",
       "1            120032  19-30  Hombre     CD118        103002   \n",
       "2            120033  15-18  Hombre     CD116        103003   \n",
       "3            120034  31-45   Mujer     CD113        103004   \n",
       "4            120035  19-30   Mujer     CD120        103005   \n",
       "...             ...    ...     ...       ...           ...   \n",
       "9995         130026  31-45  Hombre     CD112        112996   \n",
       "9996         130027  15-18  Hombre     CD113        112997   \n",
       "9997         130028  31-45  Hombre     CD114        112998   \n",
       "9998         130029  19-30  Hombre     CD113        112999   \n",
       "9999         130030  15-18  Hombre     CD112        113000   \n",
       "\n",
       "              Frec_consumo                                 Momento_consumo  \\\n",
       "0     2-3 veces por semana                      Durante el trabajo/estudio   \n",
       "1         2-3 veces al mes                              A lo largo del día   \n",
       "2                Ocasional                        Antes de hacer ejercicio   \n",
       "3     2-3 veces por semana                      Durante el trabajo/estudio   \n",
       "4                 A diario                      Durante el trabajo/estudio   \n",
       "...                    ...                                             ...   \n",
       "9995              A diario                        Antes de hacer ejercicio   \n",
       "9996              A diario                      Durante el trabajo/estudio   \n",
       "9997              A diario                        Antes de hacer ejercicio   \n",
       "9998  2-3 veces por semana                      Durante el trabajo/estudio   \n",
       "9999              A diario  Siempre que necesito mantener la concentración   \n",
       "\n",
       "                   Motivo_consumo Conocía_marca Percepción_marca  ...  \\\n",
       "0             Mayor concentración            Sí          Neutral  ...   \n",
       "1            Aumentar rendimiento            No          Neutral  ...   \n",
       "2             Mayor concentración            No          Neutral  ...   \n",
       "3            Aumentar rendimiento            No         Positiva  ...   \n",
       "4             Mayor concentración            Sí          Neutral  ...   \n",
       "...                           ...           ...              ...  ...   \n",
       "9995  Mejorar desempeño deportivo            Sí          Neutral  ...   \n",
       "9996              Combatir fatiga            No         Positiva  ...   \n",
       "9997          Mayor concentración            Sí         Positiva  ...   \n",
       "9998          Mayor concentración            No         Positiva  ...   \n",
       "9999                         Otro            Sí         Positiva  ...   \n",
       "\n",
       "     Preocupaciones_salud Interés_en_natural_o_organico     Canales_marketing  \\\n",
       "0                      No                            Sí      Publicidad en TV   \n",
       "1                      Sí                   Indiferente       Medios impresos   \n",
       "2                      No                            Sí     Publicidad online   \n",
       "3                      No                            Sí     Publicidad online   \n",
       "4                      Sí                            Sí     Publicidad online   \n",
       "...                   ...                           ...                   ...   \n",
       "9995                   No                            No       Medios impresos   \n",
       "9996                   No                            No      Publicidad en TV   \n",
       "9997                   Sí                            No  Vallas publicitarias   \n",
       "9998                   Sí                            Sí     Publicidad online   \n",
       "9999                   Sí                   Indiferente       Medios impresos   \n",
       "\n",
       "                  Preferencia_empaque Empaque_ed_limitada Rango_precios  \\\n",
       "0         Latas compactas y portables                  Sí        1-2.49   \n",
       "1         Latas compactas y portables                  No        1-2.49   \n",
       "2       Botella con diseño innnovador         Indiferente        2.49-4   \n",
       "3         Latas compactas y portables                  No      Más de 4   \n",
       "4         Latas compactas y portables                  Sí        2.49-4   \n",
       "...                               ...                 ...           ...   \n",
       "9995      Latas compactas y portables                  Sí        2.49-4   \n",
       "9996                             Otro                  Sí        1-2.49   \n",
       "9997      Latas compactas y portables                  No        2.49-4   \n",
       "9998      Latas compactas y portables         Indiferente        1-2.49   \n",
       "9999  Diseño amigable con el ambiente                  No        1-2.49   \n",
       "\n",
       "        Lugar_compra       Situaciones_típicas_consumo     Ciudad Cat_Ciudad  \n",
       "0      Supermercados  Al estudiar/trabajar hasta tarde     Verona    Cat.  2  \n",
       "1      Supermercados                  Al hacer deporte     Génova    Cat.  2  \n",
       "2      Supermercados  Al estudiar/trabajar hasta tarde    Venecia    Cat.  1  \n",
       "3      Supermercados                  Al hacer deporte      Turín    Cat.  1  \n",
       "4     Tiendas online  Al estudiar/trabajar hasta tarde      Siena    Cat.  2  \n",
       "...              ...                               ...        ...        ...  \n",
       "9995   Supermercados  Al estudiar/trabajar hasta tarde       Roma    Cat.  1  \n",
       "9996  Tiendas online            Social outings/parties      Turín    Cat.  1  \n",
       "9997           Otros                  Al hacer deporte  Florencia    Cat.  1  \n",
       "9998   Supermercados  Al estudiar/trabajar hasta tarde      Turín    Cat.  1  \n",
       "9999   Supermercados                  Al hacer deporte       Roma    Cat.  1  \n",
       "\n",
       "[10000 rows x 28 columns]"
      ]
     },
     "execution_count": 1,
     "metadata": {},
     "output_type": "execute_result"
    }
   ],
   "source": [
    "import pandas as pd\n",
    "df = pd.read_csv('dataset_bebida_energizante.csv')\n",
    "df"
   ]
  },
  {
   "cell_type": "markdown",
   "id": "a8d55e0f",
   "metadata": {},
   "source": [
    "> **Observación**\n",
    "> Tenemos 10.000 filas, cada una correspondiente a una de las personas encuestadas y 28 columnas con la información de la encuesta y con los identificadores mencionados en los metadatos"
   ]
  },
  {
   "cell_type": "markdown",
   "id": "10dac4a7",
   "metadata": {},
   "source": [
    "### 2.3. Entender qué tipos de datos tenemos en cada columna"
   ]
  },
  {
   "cell_type": "code",
   "execution_count": 2,
   "id": "a419c300",
   "metadata": {},
   "outputs": [
    {
     "name": "stdout",
     "output_type": "stream",
     "text": [
      "<class 'pandas.core.frame.DataFrame'>\n",
      "RangeIndex: 10000 entries, 0 to 9999\n",
      "Data columns (total 28 columns):\n",
      " #   Column                         Non-Null Count  Dtype \n",
      "---  ------                         --------------  ----- \n",
      " 0   ID_encuestado                  10000 non-null  int64 \n",
      " 1   Edad                           9988 non-null   object\n",
      " 2   Género                         10000 non-null  object\n",
      " 3   ID_Ciudad                      10000 non-null  object\n",
      " 4   ID_respuesta                   10000 non-null  int64 \n",
      " 5   Frec_consumo                   9988 non-null   object\n",
      " 6   Momento_consumo                10000 non-null  object\n",
      " 7   Motivo_consumo                 9988 non-null   object\n",
      " 8   Conocía_marca                  10000 non-null  object\n",
      " 9   Percepción_marca               10000 non-null  object\n",
      " 10  Percepción_general             10000 non-null  object\n",
      " 11  Había_probado                  9988 non-null   object\n",
      " 12  Experiencia_sabor              10000 non-null  int64 \n",
      " 13  Motivos_no_probarla            10000 non-null  object\n",
      " 14  Marcas_que_consume             10000 non-null  object\n",
      " 15  Motivos_escoger_marca          10000 non-null  object\n",
      " 16  Mejoras_sugeridas              10000 non-null  object\n",
      " 17  Ingredientes_esperados         10000 non-null  object\n",
      " 18  Preocupaciones_salud           10000 non-null  object\n",
      " 19  Interés_en_natural_o_organico  10000 non-null  object\n",
      " 20  Canales_marketing              10000 non-null  object\n",
      " 21  Preferencia_empaque            10000 non-null  object\n",
      " 22  Empaque_ed_limitada            10000 non-null  object\n",
      " 23  Rango_precios                  10000 non-null  object\n",
      " 24  Lugar_compra                   10000 non-null  object\n",
      " 25  Situaciones_típicas_consumo    10000 non-null  object\n",
      " 26  Ciudad                         10000 non-null  object\n",
      " 27  Cat_Ciudad                     10000 non-null  object\n",
      "dtypes: int64(3), object(25)\n",
      "memory usage: 2.1+ MB\n"
     ]
    }
   ],
   "source": [
    "df.info()"
   ]
  },
  {
   "cell_type": "markdown",
   "id": "415ccc00",
   "metadata": {},
   "source": [
    "Prácticamente todas las columnas contienen datos de tipo categórico exceptuando aquellas que comienzan con \"ID_\". Sin embargo, la columna \"Experiencia_sabor\" corresponde a las respuestas dadas por los encuestados a una pregunta, pero está en formato numérico.\n",
    "\n",
    "Exploremos en detalle esta columna:"
   ]
  },
  {
   "cell_type": "code",
   "execution_count": 3,
   "id": "a62462f0",
   "metadata": {},
   "outputs": [
    {
     "data": {
      "text/plain": [
       "Experiencia_sabor\n",
       "3    2957\n",
       "4    2479\n",
       "5    1986\n",
       "2    1524\n",
       "1    1054\n",
       "Name: count, dtype: int64"
      ]
     },
     "execution_count": 3,
     "metadata": {},
     "output_type": "execute_result"
    }
   ],
   "source": [
    "df['Experiencia_sabor'].value_counts()"
   ]
  },
  {
   "cell_type": "markdown",
   "id": "b58c2d0a",
   "metadata": {},
   "source": [
    "Vemos que en realidad no es una columna numérica. Se trata de una variable categórica ordinal con la calificación dada por los encuestados al sabor de la bebida (1, 2, 3, 4 o 5 siendo 5 el puntaje más alto).\n",
    "\n",
    "Podemos cambiar el tipo de dato de esta columna de \"int64\" a \"Object\" para evitar este inconveniente y en adelante poderla tratar como variable categórica:"
   ]
  },
  {
   "cell_type": "code",
   "execution_count": 4,
   "id": "bc091a0c",
   "metadata": {},
   "outputs": [],
   "source": [
    "df['Experiencia_sabor'] = df['Experiencia_sabor'].astype('object')"
   ]
  },
  {
   "cell_type": "markdown",
   "id": "eaf5faf9",
   "metadata": {},
   "source": [
    "> **Observaciones**\n",
    "> - La mayoría de las columnas son de tipo categórico exceptuando las columnas ID_Ciudad, ID_respuesta que son de tipo numérico entero"
   ]
  },
  {
   "cell_type": "markdown",
   "id": "a5880098",
   "metadata": {},
   "source": [
    "### 2.4. Entender el rango de valores de las variables numéricas"
   ]
  },
  {
   "cell_type": "code",
   "execution_count": 5,
   "id": "bb473672",
   "metadata": {},
   "outputs": [
    {
     "data": {
      "text/html": [
       "<div>\n",
       "<style scoped>\n",
       "    .dataframe tbody tr th:only-of-type {\n",
       "        vertical-align: middle;\n",
       "    }\n",
       "\n",
       "    .dataframe tbody tr th {\n",
       "        vertical-align: top;\n",
       "    }\n",
       "\n",
       "    .dataframe thead th {\n",
       "        text-align: right;\n",
       "    }\n",
       "</style>\n",
       "<table border=\"1\" class=\"dataframe\">\n",
       "  <thead>\n",
       "    <tr style=\"text-align: right;\">\n",
       "      <th></th>\n",
       "      <th>ID_encuestado</th>\n",
       "      <th>ID_respuesta</th>\n",
       "    </tr>\n",
       "  </thead>\n",
       "  <tbody>\n",
       "    <tr>\n",
       "      <th>0</th>\n",
       "      <td>120031</td>\n",
       "      <td>103001</td>\n",
       "    </tr>\n",
       "    <tr>\n",
       "      <th>1</th>\n",
       "      <td>120032</td>\n",
       "      <td>103002</td>\n",
       "    </tr>\n",
       "    <tr>\n",
       "      <th>2</th>\n",
       "      <td>120033</td>\n",
       "      <td>103003</td>\n",
       "    </tr>\n",
       "    <tr>\n",
       "      <th>3</th>\n",
       "      <td>120034</td>\n",
       "      <td>103004</td>\n",
       "    </tr>\n",
       "    <tr>\n",
       "      <th>4</th>\n",
       "      <td>120035</td>\n",
       "      <td>103005</td>\n",
       "    </tr>\n",
       "    <tr>\n",
       "      <th>...</th>\n",
       "      <td>...</td>\n",
       "      <td>...</td>\n",
       "    </tr>\n",
       "    <tr>\n",
       "      <th>9995</th>\n",
       "      <td>130026</td>\n",
       "      <td>112996</td>\n",
       "    </tr>\n",
       "    <tr>\n",
       "      <th>9996</th>\n",
       "      <td>130027</td>\n",
       "      <td>112997</td>\n",
       "    </tr>\n",
       "    <tr>\n",
       "      <th>9997</th>\n",
       "      <td>130028</td>\n",
       "      <td>112998</td>\n",
       "    </tr>\n",
       "    <tr>\n",
       "      <th>9998</th>\n",
       "      <td>130029</td>\n",
       "      <td>112999</td>\n",
       "    </tr>\n",
       "    <tr>\n",
       "      <th>9999</th>\n",
       "      <td>130030</td>\n",
       "      <td>113000</td>\n",
       "    </tr>\n",
       "  </tbody>\n",
       "</table>\n",
       "<p>10000 rows × 2 columns</p>\n",
       "</div>"
      ],
      "text/plain": [
       "      ID_encuestado  ID_respuesta\n",
       "0            120031        103001\n",
       "1            120032        103002\n",
       "2            120033        103003\n",
       "3            120034        103004\n",
       "4            120035        103005\n",
       "...             ...           ...\n",
       "9995         130026        112996\n",
       "9996         130027        112997\n",
       "9997         130028        112998\n",
       "9998         130029        112999\n",
       "9999         130030        113000\n",
       "\n",
       "[10000 rows x 2 columns]"
      ]
     },
     "execution_count": 5,
     "metadata": {},
     "output_type": "execute_result"
    }
   ],
   "source": [
    "# Esta opción selecciona todas las columnas numéricas\n",
    "df.select_dtypes(include='number')"
   ]
  },
  {
   "cell_type": "markdown",
   "id": "38f85f25",
   "metadata": {},
   "source": [
    "Podríamos usar `describe()` para ver en detalle la distribución de estas columnas. Sin embargo, en este caso esta opción no es relevante pues las columnas no contienen información que sea importante para las posteriores etapas de análisis."
   ]
  },
  {
   "cell_type": "markdown",
   "id": "fbdd2e4c",
   "metadata": {},
   "source": [
    "> **Observación**\n",
    "> Las columnas \"ID_encuestado\" y \"ID_respuesta\" no contienen información relevante para el análisis que nos interesa y pueden ser eliminadas en etapas posteriores"
   ]
  },
  {
   "cell_type": "markdown",
   "id": "52269dd2",
   "metadata": {},
   "source": [
    "### 2.5. Entender los niveles de las diferentes variables categóricas\n",
    "\n",
    "En este caso resulta muy útil el método `value_counts()`. Lo que haremos será iterar sobre las diferentes columnas categóricas para imprimir en pantalla los diferentes niveles:"
   ]
  },
  {
   "cell_type": "code",
   "execution_count": 6,
   "id": "1e46f0e6",
   "metadata": {},
   "outputs": [
    {
     "name": "stdout",
     "output_type": "stream",
     "text": [
      "------------------------------\n",
      "*** Edad ***\n",
      "Edad\n",
      "19-30    5513\n",
      "31-45    2372\n",
      "15-18    1487\n",
      "46-65     426\n",
      "65+       190\n",
      "Name: count, dtype: int64\n",
      "------------------------------\n"
     ]
    },
    {
     "name": "stdin",
     "output_type": "stream",
     "text": [
      "Presione enter para continuar... \n"
     ]
    },
    {
     "name": "stdout",
     "output_type": "stream",
     "text": [
      "\n",
      "------------------------------\n",
      "*** Género ***\n",
      "Género\n",
      "Hombre        6038\n",
      "Mujer         3455\n",
      "No binario     507\n",
      "Name: count, dtype: int64\n",
      "------------------------------\n"
     ]
    },
    {
     "name": "stdin",
     "output_type": "stream",
     "text": [
      "Presione enter para continuar... \n"
     ]
    },
    {
     "name": "stdout",
     "output_type": "stream",
     "text": [
      "\n",
      "------------------------------\n",
      "*** ID_Ciudad ***\n",
      "ID_Ciudad\n",
      "CD113    2828\n",
      "CD116    1833\n",
      "CD112    1510\n",
      "CD114     937\n",
      "CD118     906\n",
      "CD115     566\n",
      "CD117     456\n",
      "CD111     429\n",
      "CD119     360\n",
      "CD120     175\n",
      "Name: count, dtype: int64\n",
      "------------------------------\n"
     ]
    },
    {
     "name": "stdin",
     "output_type": "stream",
     "text": [
      "Presione enter para continuar... \n"
     ]
    },
    {
     "name": "stdout",
     "output_type": "stream",
     "text": [
      "\n",
      "------------------------------\n",
      "*** Frec_consumo ***\n",
      "Frec_consumo\n",
      "2-3 veces por semana    3489\n",
      "Ocasional               1936\n",
      "2-3 veces al mes        1609\n",
      "1 vez por semana        1609\n",
      "A diario                1345\n",
      "Name: count, dtype: int64\n",
      "------------------------------\n"
     ]
    },
    {
     "name": "stdin",
     "output_type": "stream",
     "text": [
      "Presione enter para continuar... \n"
     ]
    },
    {
     "name": "stdout",
     "output_type": "stream",
     "text": [
      "\n",
      "------------------------------\n",
      "*** Momento_consumo ***\n",
      "Momento_consumo\n",
      "Durante el trabajo/estudio                        3409\n",
      "Antes de hacer ejercicio                          3148\n",
      "Siempre que necesito mantener la concentración    1995\n",
      "A lo largo del día                                1448\n",
      "Name: count, dtype: int64\n",
      "------------------------------\n"
     ]
    },
    {
     "name": "stdin",
     "output_type": "stream",
     "text": [
      "Presione enter para continuar... \n"
     ]
    },
    {
     "name": "stdout",
     "output_type": "stream",
     "text": [
      "\n",
      "------------------------------\n",
      "*** Motivo_consumo ***\n",
      "Motivo_consumo\n",
      "Mayor concentración            3570\n",
      "Combatir fatiga                2426\n",
      "Mejorar desempeño deportivo    1604\n",
      "Aumentar rendimiento           1509\n",
      "Otro                            879\n",
      "Name: count, dtype: int64\n",
      "------------------------------\n"
     ]
    },
    {
     "name": "stdin",
     "output_type": "stream",
     "text": [
      "Presione enter para continuar... \n"
     ]
    },
    {
     "name": "stdout",
     "output_type": "stream",
     "text": [
      "\n",
      "------------------------------\n",
      "*** Conocía_marca ***\n",
      "Conocía_marca\n",
      "No    5553\n",
      "Sí    4447\n",
      "Name: count, dtype: int64\n",
      "------------------------------\n"
     ]
    },
    {
     "name": "stdin",
     "output_type": "stream",
     "text": [
      "Presione enter para continuar... \n"
     ]
    },
    {
     "name": "stdout",
     "output_type": "stream",
     "text": [
      "\n",
      "------------------------------\n",
      "*** Percepción_marca ***\n",
      "Percepción_marca\n",
      "Neutral     5974\n",
      "Positiva    2257\n",
      "Negativa    1769\n",
      "Name: count, dtype: int64\n",
      "------------------------------\n"
     ]
    },
    {
     "name": "stdin",
     "output_type": "stream",
     "text": [
      "Presione enter para continuar... \n"
     ]
    },
    {
     "name": "stdout",
     "output_type": "stream",
     "text": [
      "\n",
      "------------------------------\n",
      "*** Percepción_general ***\n",
      "Percepción_general\n",
      "Efectiva           2909\n",
      "No estoy segur@    2610\n",
      "Saludable          2243\n",
      "Dañina             2238\n",
      "Name: count, dtype: int64\n",
      "------------------------------\n"
     ]
    },
    {
     "name": "stdin",
     "output_type": "stream",
     "text": [
      "Presione enter para continuar... \n"
     ]
    },
    {
     "name": "stdout",
     "output_type": "stream",
     "text": [
      "\n",
      "------------------------------\n",
      "*** Había_probado ***\n",
      "Había_probado\n",
      "No    5112\n",
      "Sí    4876\n",
      "Name: count, dtype: int64\n",
      "------------------------------\n"
     ]
    },
    {
     "name": "stdin",
     "output_type": "stream",
     "text": [
      "Presione enter para continuar... \n"
     ]
    },
    {
     "name": "stdout",
     "output_type": "stream",
     "text": [
      "\n",
      "------------------------------\n",
      "*** Experiencia_sabor ***\n",
      "Experiencia_sabor\n",
      "3    2957\n",
      "4    2479\n",
      "5    1986\n",
      "2    1524\n",
      "1    1054\n",
      "Name: count, dtype: int64\n",
      "------------------------------\n"
     ]
    },
    {
     "name": "stdin",
     "output_type": "stream",
     "text": [
      "Presione enter para continuar... \n"
     ]
    },
    {
     "name": "stdout",
     "output_type": "stream",
     "text": [
      "\n",
      "------------------------------\n",
      "*** Motivos_no_probarla ***\n",
      "Motivos_no_probarla\n",
      "No disponible en la ciudad                 2431\n",
      "Preocupaciones de salud                    2258\n",
      "No me interesan las bebidas energéticas    2193\n",
      "No conozco la marca                        1850\n",
      "Otro                                       1268\n",
      "Name: count, dtype: int64\n",
      "------------------------------\n"
     ]
    },
    {
     "name": "stdin",
     "output_type": "stream",
     "text": [
      "Presione enter para continuar... \n"
     ]
    },
    {
     "name": "stdout",
     "output_type": "stream",
     "text": [
      "\n",
      "------------------------------\n",
      "*** Marcas_que_consume ***\n",
      "Marcas_que_consume\n",
      "Coca Cola    2538\n",
      "Pepsi        2112\n",
      "Monster      1854\n",
      "Red Bull     1058\n",
      "MegaBoost     980\n",
      "HyperFuel     979\n",
      "Otras         479\n",
      "Name: count, dtype: int64\n",
      "------------------------------\n"
     ]
    },
    {
     "name": "stdin",
     "output_type": "stream",
     "text": [
      "Presione enter para continuar... \n"
     ]
    },
    {
     "name": "stdout",
     "output_type": "stream",
     "text": [
      "\n",
      "------------------------------\n",
      "*** Motivos_escoger_marca ***\n",
      "Motivos_escoger_marca\n",
      "Reputación de la marca    2652\n",
      "El sabor                  2011\n",
      "Fácil de encontrar        1910\n",
      "Efectividad               1748\n",
      "Otro                      1679\n",
      "Name: count, dtype: int64\n",
      "------------------------------\n"
     ]
    },
    {
     "name": "stdin",
     "output_type": "stream",
     "text": [
      "Presione enter para continuar... \n"
     ]
    },
    {
     "name": "stdout",
     "output_type": "stream",
     "text": [
      "\n",
      "------------------------------\n",
      "*** Mejoras_sugeridas ***\n",
      "Mejoras_sugeridas\n",
      "Reducir contenido de azúcar    2995\n",
      "Más ingredientes naturales     2498\n",
      "Más variedad de sabores        2037\n",
      "Alternativas más saludables    1472\n",
      "Otra                            998\n",
      "Name: count, dtype: int64\n",
      "------------------------------\n"
     ]
    },
    {
     "name": "stdin",
     "output_type": "stream",
     "text": [
      "Presione enter para continuar... \n"
     ]
    },
    {
     "name": "stdout",
     "output_type": "stream",
     "text": [
      "\n",
      "------------------------------\n",
      "*** Ingredientes_esperados ***\n",
      "Ingredientes_esperados\n",
      "Cafeína      3896\n",
      "Vitaminas    2534\n",
      "Azúcar       2017\n",
      "Guaraná      1553\n",
      "Name: count, dtype: int64\n",
      "------------------------------\n"
     ]
    },
    {
     "name": "stdin",
     "output_type": "stream",
     "text": [
      "Presione enter para continuar... \n"
     ]
    },
    {
     "name": "stdout",
     "output_type": "stream",
     "text": [
      "\n",
      "------------------------------\n",
      "*** Preocupaciones_salud ***\n",
      "Preocupaciones_salud\n",
      "Sí    6045\n",
      "No    3955\n",
      "Name: count, dtype: int64\n",
      "------------------------------\n"
     ]
    },
    {
     "name": "stdin",
     "output_type": "stream",
     "text": [
      "Presione enter para continuar... \n"
     ]
    },
    {
     "name": "stdout",
     "output_type": "stream",
     "text": [
      "\n",
      "------------------------------\n",
      "*** Interés_en_natural_o_organico ***\n",
      "Interés_en_natural_o_organico\n",
      "Sí             4983\n",
      "No             3062\n",
      "Indiferente    1955\n",
      "Name: count, dtype: int64\n",
      "------------------------------\n"
     ]
    },
    {
     "name": "stdin",
     "output_type": "stream",
     "text": [
      "Presione enter para continuar... \n"
     ]
    },
    {
     "name": "stdout",
     "output_type": "stream",
     "text": [
      "\n",
      "------------------------------\n",
      "*** Canales_marketing ***\n",
      "Canales_marketing\n",
      "Publicidad online       4020\n",
      "Publicidad en TV        2688\n",
      "Vallas publicitarias    1226\n",
      "Otro                    1225\n",
      "Medios impresos          841\n",
      "Name: count, dtype: int64\n",
      "------------------------------\n"
     ]
    },
    {
     "name": "stdin",
     "output_type": "stream",
     "text": [
      "Presione enter para continuar... \n"
     ]
    },
    {
     "name": "stdout",
     "output_type": "stream",
     "text": [
      "\n",
      "------------------------------\n",
      "*** Preferencia_empaque ***\n",
      "Preferencia_empaque\n",
      "Latas compactas y portables        3984\n",
      "Botella con diseño innnovador      3047\n",
      "Envase para coleccionar            1501\n",
      "Diseño amigable con el ambiente     983\n",
      "Otro                                485\n",
      "Name: count, dtype: int64\n",
      "------------------------------\n"
     ]
    },
    {
     "name": "stdin",
     "output_type": "stream",
     "text": [
      "Presione enter para continuar... \n"
     ]
    },
    {
     "name": "stdout",
     "output_type": "stream",
     "text": [
      "\n",
      "------------------------------\n",
      "*** Empaque_ed_limitada ***\n",
      "Empaque_ed_limitada\n",
      "No             4023\n",
      "Sí             3946\n",
      "Indiferente    2031\n",
      "Name: count, dtype: int64\n",
      "------------------------------\n"
     ]
    },
    {
     "name": "stdin",
     "output_type": "stream",
     "text": [
      "Presione enter para continuar... \n"
     ]
    },
    {
     "name": "stdout",
     "output_type": "stream",
     "text": [
      "\n",
      "------------------------------\n",
      "*** Rango_precios ***\n",
      "Rango_precios\n",
      "1-2.49        4288\n",
      "2.49-4        3142\n",
      "Más de 4      1561\n",
      "Menos de 1    1009\n",
      "Name: count, dtype: int64\n",
      "------------------------------\n"
     ]
    },
    {
     "name": "stdin",
     "output_type": "stream",
     "text": [
      "Presione enter para continuar... \n"
     ]
    },
    {
     "name": "stdout",
     "output_type": "stream",
     "text": [
      "\n",
      "------------------------------\n",
      "*** Lugar_compra ***\n",
      "Lugar_compra\n",
      "Supermercados      4494\n",
      "Tiendas online     2550\n",
      "Gimnasios          1464\n",
      "Tiendas físicas     813\n",
      "Otros               679\n",
      "Name: count, dtype: int64\n",
      "------------------------------\n"
     ]
    },
    {
     "name": "stdin",
     "output_type": "stream",
     "text": [
      "Presione enter para continuar... \n"
     ]
    },
    {
     "name": "stdout",
     "output_type": "stream",
     "text": [
      "\n",
      "------------------------------\n",
      "*** Situaciones_típicas_consumo ***\n",
      "Situaciones_típicas_consumo\n",
      "Al hacer deporte                    4494\n",
      "Al estudiar/trabajar hasta tarde    3231\n",
      "Social outings/parties              1487\n",
      "Otro                                 491\n",
      "Conduciendo                          297\n",
      "Name: count, dtype: int64\n",
      "------------------------------\n"
     ]
    },
    {
     "name": "stdin",
     "output_type": "stream",
     "text": [
      "Presione enter para continuar... \n"
     ]
    },
    {
     "name": "stdout",
     "output_type": "stream",
     "text": [
      "\n",
      "------------------------------\n",
      "*** Ciudad ***\n",
      "Ciudad\n",
      "Turín        2828\n",
      "Venecia      1833\n",
      "Roma         1510\n",
      "Florencia     937\n",
      "Génova        906\n",
      "Palermo       566\n",
      "Verona        456\n",
      "Milán         429\n",
      "Pisa          360\n",
      "Siena         175\n",
      "Name: count, dtype: int64\n",
      "------------------------------\n"
     ]
    },
    {
     "name": "stdin",
     "output_type": "stream",
     "text": [
      "Presione enter para continuar... \n"
     ]
    },
    {
     "name": "stdout",
     "output_type": "stream",
     "text": [
      "\n",
      "------------------------------\n",
      "*** Cat_Ciudad ***\n",
      "Cat_Ciudad\n",
      "Cat.  1    7537\n",
      "Cat.  2    2463\n",
      "Name: count, dtype: int64\n",
      "------------------------------\n"
     ]
    },
    {
     "name": "stdin",
     "output_type": "stream",
     "text": [
      "Presione enter para continuar... \n"
     ]
    },
    {
     "name": "stdout",
     "output_type": "stream",
     "text": [
      "\n"
     ]
    }
   ],
   "source": [
    "# Iterar sobre cada columna categórica y en cada iteración imprimir en pantalla\n",
    "# los niveles obtenidos con \"value_counts\"\n",
    "\n",
    "for column in df.select_dtypes(exclude='number').columns:\n",
    "    print('-'*30)\n",
    "    print(f'*** {column} ***')\n",
    "    print(df[column].value_counts())\n",
    "    print('-'*30)\n",
    "    input('Presione enter para continuar...')\n",
    "    print('')\n",
    "        "
   ]
  },
  {
   "cell_type": "markdown",
   "id": "2209af5a",
   "metadata": {},
   "source": [
    "> **Observaciones**\n",
    "> - La columna \"ID_Ciudad\" no contiene información relevante y podremos eliminarla en etapas posteriores"
   ]
  },
  {
   "cell_type": "markdown",
   "id": "44e4e71a",
   "metadata": {},
   "source": [
    "### 2.6. Verificar si hay datos faltantes\n",
    "\n",
    "Podemos usar de nuevo el método `info()` para tomar nota de las columnas que contienen datos faltantes:"
   ]
  },
  {
   "cell_type": "code",
   "execution_count": 8,
   "id": "f4cc6c2c",
   "metadata": {},
   "outputs": [
    {
     "name": "stdout",
     "output_type": "stream",
     "text": [
      "<class 'pandas.core.frame.DataFrame'>\n",
      "RangeIndex: 10000 entries, 0 to 9999\n",
      "Data columns (total 28 columns):\n",
      " #   Column                         Non-Null Count  Dtype \n",
      "---  ------                         --------------  ----- \n",
      " 0   ID_encuestado                  10000 non-null  int64 \n",
      " 1   Edad                           9988 non-null   object\n",
      " 2   Género                         10000 non-null  object\n",
      " 3   ID_Ciudad                      10000 non-null  object\n",
      " 4   ID_respuesta                   10000 non-null  int64 \n",
      " 5   Frec_consumo                   9988 non-null   object\n",
      " 6   Momento_consumo                10000 non-null  object\n",
      " 7   Motivo_consumo                 9988 non-null   object\n",
      " 8   Conocía_marca                  10000 non-null  object\n",
      " 9   Percepción_marca               10000 non-null  object\n",
      " 10  Percepción_general             10000 non-null  object\n",
      " 11  Había_probado                  9988 non-null   object\n",
      " 12  Experiencia_sabor              10000 non-null  object\n",
      " 13  Motivos_no_probarla            10000 non-null  object\n",
      " 14  Marcas_que_consume             10000 non-null  object\n",
      " 15  Motivos_escoger_marca          10000 non-null  object\n",
      " 16  Mejoras_sugeridas              10000 non-null  object\n",
      " 17  Ingredientes_esperados         10000 non-null  object\n",
      " 18  Preocupaciones_salud           10000 non-null  object\n",
      " 19  Interés_en_natural_o_organico  10000 non-null  object\n",
      " 20  Canales_marketing              10000 non-null  object\n",
      " 21  Preferencia_empaque            10000 non-null  object\n",
      " 22  Empaque_ed_limitada            10000 non-null  object\n",
      " 23  Rango_precios                  10000 non-null  object\n",
      " 24  Lugar_compra                   10000 non-null  object\n",
      " 25  Situaciones_típicas_consumo    10000 non-null  object\n",
      " 26  Ciudad                         10000 non-null  object\n",
      " 27  Cat_Ciudad                     10000 non-null  object\n",
      "dtypes: int64(2), object(26)\n",
      "memory usage: 2.1+ MB\n"
     ]
    }
   ],
   "source": [
    "df.info()"
   ]
  },
  {
   "cell_type": "markdown",
   "id": "5b52d95b",
   "metadata": {},
   "source": [
    "> **Observaciones**\n",
    "> - Las columnas \"Edad\", \"Frec_consumo\", \"Motivo_consumo\" y \"Había probado\" contienen 12 datos faltantes cada una\n",
    "> - Por tratarse de columnas que resultan relevantes para nuestro análisis **NO** las eliminaremos"
   ]
  },
  {
   "cell_type": "markdown",
   "id": "1f51c274",
   "metadata": {},
   "source": [
    "<a id='sec_3'></a>\n",
    "## 3. Limpieza del set de datos\n",
    "\n",
    "De nuevo, cada dataset y cada proyecto tendrá sus particularidades, pero sugiero al menos estas etapas de limpieza:\n",
    "\n",
    "1. Eliminar columnas irrelevantes\n",
    "2. Reorganizar las columnas relevantes\n",
    "3. Manejo de datos faltantes\n",
    "\n",
    "Implementemos cada fase teniendo en cuenta las observaciones que hemos hecho hasta el momento."
   ]
  },
  {
   "cell_type": "markdown",
   "id": "a9f8a6c5",
   "metadata": {},
   "source": [
    "### 3.1. Eliminar columnas irrelevantes\n",
    "\n",
    "De las observaciones hechas anteriormente concluimos que se pueden eliminar estas columnas: \"ID_encuestado\", \"ID_respuesta\" y \"ID_Ciudad\".\n",
    "\n",
    "Esto lo haremos con el método `drop`:"
   ]
  },
  {
   "cell_type": "code",
   "execution_count": 9,
   "id": "0970fb7b",
   "metadata": {},
   "outputs": [
    {
     "data": {
      "text/html": [
       "<div>\n",
       "<style scoped>\n",
       "    .dataframe tbody tr th:only-of-type {\n",
       "        vertical-align: middle;\n",
       "    }\n",
       "\n",
       "    .dataframe tbody tr th {\n",
       "        vertical-align: top;\n",
       "    }\n",
       "\n",
       "    .dataframe thead th {\n",
       "        text-align: right;\n",
       "    }\n",
       "</style>\n",
       "<table border=\"1\" class=\"dataframe\">\n",
       "  <thead>\n",
       "    <tr style=\"text-align: right;\">\n",
       "      <th></th>\n",
       "      <th>Edad</th>\n",
       "      <th>Género</th>\n",
       "      <th>Frec_consumo</th>\n",
       "      <th>Momento_consumo</th>\n",
       "      <th>Motivo_consumo</th>\n",
       "      <th>Conocía_marca</th>\n",
       "      <th>Percepción_marca</th>\n",
       "      <th>Percepción_general</th>\n",
       "      <th>Había_probado</th>\n",
       "      <th>Experiencia_sabor</th>\n",
       "      <th>...</th>\n",
       "      <th>Preocupaciones_salud</th>\n",
       "      <th>Interés_en_natural_o_organico</th>\n",
       "      <th>Canales_marketing</th>\n",
       "      <th>Preferencia_empaque</th>\n",
       "      <th>Empaque_ed_limitada</th>\n",
       "      <th>Rango_precios</th>\n",
       "      <th>Lugar_compra</th>\n",
       "      <th>Situaciones_típicas_consumo</th>\n",
       "      <th>Ciudad</th>\n",
       "      <th>Cat_Ciudad</th>\n",
       "    </tr>\n",
       "  </thead>\n",
       "  <tbody>\n",
       "    <tr>\n",
       "      <th>0</th>\n",
       "      <td>15-18</td>\n",
       "      <td>Mujer</td>\n",
       "      <td>2-3 veces por semana</td>\n",
       "      <td>Durante el trabajo/estudio</td>\n",
       "      <td>Mayor concentración</td>\n",
       "      <td>Sí</td>\n",
       "      <td>Neutral</td>\n",
       "      <td>No estoy segur@</td>\n",
       "      <td>No</td>\n",
       "      <td>5</td>\n",
       "      <td>...</td>\n",
       "      <td>No</td>\n",
       "      <td>Sí</td>\n",
       "      <td>Publicidad en TV</td>\n",
       "      <td>Latas compactas y portables</td>\n",
       "      <td>Sí</td>\n",
       "      <td>1-2.49</td>\n",
       "      <td>Supermercados</td>\n",
       "      <td>Al estudiar/trabajar hasta tarde</td>\n",
       "      <td>Verona</td>\n",
       "      <td>Cat.  2</td>\n",
       "    </tr>\n",
       "    <tr>\n",
       "      <th>1</th>\n",
       "      <td>19-30</td>\n",
       "      <td>Hombre</td>\n",
       "      <td>2-3 veces al mes</td>\n",
       "      <td>A lo largo del día</td>\n",
       "      <td>Aumentar rendimiento</td>\n",
       "      <td>No</td>\n",
       "      <td>Neutral</td>\n",
       "      <td>No estoy segur@</td>\n",
       "      <td>No</td>\n",
       "      <td>5</td>\n",
       "      <td>...</td>\n",
       "      <td>Sí</td>\n",
       "      <td>Indiferente</td>\n",
       "      <td>Medios impresos</td>\n",
       "      <td>Latas compactas y portables</td>\n",
       "      <td>No</td>\n",
       "      <td>1-2.49</td>\n",
       "      <td>Supermercados</td>\n",
       "      <td>Al hacer deporte</td>\n",
       "      <td>Génova</td>\n",
       "      <td>Cat.  2</td>\n",
       "    </tr>\n",
       "    <tr>\n",
       "      <th>2</th>\n",
       "      <td>15-18</td>\n",
       "      <td>Hombre</td>\n",
       "      <td>Ocasional</td>\n",
       "      <td>Antes de hacer ejercicio</td>\n",
       "      <td>Mayor concentración</td>\n",
       "      <td>No</td>\n",
       "      <td>Neutral</td>\n",
       "      <td>No estoy segur@</td>\n",
       "      <td>No</td>\n",
       "      <td>2</td>\n",
       "      <td>...</td>\n",
       "      <td>No</td>\n",
       "      <td>Sí</td>\n",
       "      <td>Publicidad online</td>\n",
       "      <td>Botella con diseño innnovador</td>\n",
       "      <td>Indiferente</td>\n",
       "      <td>2.49-4</td>\n",
       "      <td>Supermercados</td>\n",
       "      <td>Al estudiar/trabajar hasta tarde</td>\n",
       "      <td>Venecia</td>\n",
       "      <td>Cat.  1</td>\n",
       "    </tr>\n",
       "    <tr>\n",
       "      <th>3</th>\n",
       "      <td>31-45</td>\n",
       "      <td>Mujer</td>\n",
       "      <td>2-3 veces por semana</td>\n",
       "      <td>Durante el trabajo/estudio</td>\n",
       "      <td>Aumentar rendimiento</td>\n",
       "      <td>No</td>\n",
       "      <td>Positiva</td>\n",
       "      <td>Dañina</td>\n",
       "      <td>Sí</td>\n",
       "      <td>5</td>\n",
       "      <td>...</td>\n",
       "      <td>No</td>\n",
       "      <td>Sí</td>\n",
       "      <td>Publicidad online</td>\n",
       "      <td>Latas compactas y portables</td>\n",
       "      <td>No</td>\n",
       "      <td>Más de 4</td>\n",
       "      <td>Supermercados</td>\n",
       "      <td>Al hacer deporte</td>\n",
       "      <td>Turín</td>\n",
       "      <td>Cat.  1</td>\n",
       "    </tr>\n",
       "    <tr>\n",
       "      <th>4</th>\n",
       "      <td>19-30</td>\n",
       "      <td>Mujer</td>\n",
       "      <td>A diario</td>\n",
       "      <td>Durante el trabajo/estudio</td>\n",
       "      <td>Mayor concentración</td>\n",
       "      <td>Sí</td>\n",
       "      <td>Neutral</td>\n",
       "      <td>Efectiva</td>\n",
       "      <td>Sí</td>\n",
       "      <td>5</td>\n",
       "      <td>...</td>\n",
       "      <td>Sí</td>\n",
       "      <td>Sí</td>\n",
       "      <td>Publicidad online</td>\n",
       "      <td>Latas compactas y portables</td>\n",
       "      <td>Sí</td>\n",
       "      <td>2.49-4</td>\n",
       "      <td>Tiendas online</td>\n",
       "      <td>Al estudiar/trabajar hasta tarde</td>\n",
       "      <td>Siena</td>\n",
       "      <td>Cat.  2</td>\n",
       "    </tr>\n",
       "    <tr>\n",
       "      <th>...</th>\n",
       "      <td>...</td>\n",
       "      <td>...</td>\n",
       "      <td>...</td>\n",
       "      <td>...</td>\n",
       "      <td>...</td>\n",
       "      <td>...</td>\n",
       "      <td>...</td>\n",
       "      <td>...</td>\n",
       "      <td>...</td>\n",
       "      <td>...</td>\n",
       "      <td>...</td>\n",
       "      <td>...</td>\n",
       "      <td>...</td>\n",
       "      <td>...</td>\n",
       "      <td>...</td>\n",
       "      <td>...</td>\n",
       "      <td>...</td>\n",
       "      <td>...</td>\n",
       "      <td>...</td>\n",
       "      <td>...</td>\n",
       "      <td>...</td>\n",
       "    </tr>\n",
       "    <tr>\n",
       "      <th>9995</th>\n",
       "      <td>31-45</td>\n",
       "      <td>Hombre</td>\n",
       "      <td>A diario</td>\n",
       "      <td>Antes de hacer ejercicio</td>\n",
       "      <td>Mejorar desempeño deportivo</td>\n",
       "      <td>Sí</td>\n",
       "      <td>Neutral</td>\n",
       "      <td>No estoy segur@</td>\n",
       "      <td>No</td>\n",
       "      <td>4</td>\n",
       "      <td>...</td>\n",
       "      <td>No</td>\n",
       "      <td>No</td>\n",
       "      <td>Medios impresos</td>\n",
       "      <td>Latas compactas y portables</td>\n",
       "      <td>Sí</td>\n",
       "      <td>2.49-4</td>\n",
       "      <td>Supermercados</td>\n",
       "      <td>Al estudiar/trabajar hasta tarde</td>\n",
       "      <td>Roma</td>\n",
       "      <td>Cat.  1</td>\n",
       "    </tr>\n",
       "    <tr>\n",
       "      <th>9996</th>\n",
       "      <td>15-18</td>\n",
       "      <td>Hombre</td>\n",
       "      <td>A diario</td>\n",
       "      <td>Durante el trabajo/estudio</td>\n",
       "      <td>Combatir fatiga</td>\n",
       "      <td>No</td>\n",
       "      <td>Positiva</td>\n",
       "      <td>Saludable</td>\n",
       "      <td>Sí</td>\n",
       "      <td>2</td>\n",
       "      <td>...</td>\n",
       "      <td>No</td>\n",
       "      <td>No</td>\n",
       "      <td>Publicidad en TV</td>\n",
       "      <td>Otro</td>\n",
       "      <td>Sí</td>\n",
       "      <td>1-2.49</td>\n",
       "      <td>Tiendas online</td>\n",
       "      <td>Social outings/parties</td>\n",
       "      <td>Turín</td>\n",
       "      <td>Cat.  1</td>\n",
       "    </tr>\n",
       "    <tr>\n",
       "      <th>9997</th>\n",
       "      <td>31-45</td>\n",
       "      <td>Hombre</td>\n",
       "      <td>A diario</td>\n",
       "      <td>Antes de hacer ejercicio</td>\n",
       "      <td>Mayor concentración</td>\n",
       "      <td>Sí</td>\n",
       "      <td>Positiva</td>\n",
       "      <td>Efectiva</td>\n",
       "      <td>No</td>\n",
       "      <td>2</td>\n",
       "      <td>...</td>\n",
       "      <td>Sí</td>\n",
       "      <td>No</td>\n",
       "      <td>Vallas publicitarias</td>\n",
       "      <td>Latas compactas y portables</td>\n",
       "      <td>No</td>\n",
       "      <td>2.49-4</td>\n",
       "      <td>Otros</td>\n",
       "      <td>Al hacer deporte</td>\n",
       "      <td>Florencia</td>\n",
       "      <td>Cat.  1</td>\n",
       "    </tr>\n",
       "    <tr>\n",
       "      <th>9998</th>\n",
       "      <td>19-30</td>\n",
       "      <td>Hombre</td>\n",
       "      <td>2-3 veces por semana</td>\n",
       "      <td>Durante el trabajo/estudio</td>\n",
       "      <td>Mayor concentración</td>\n",
       "      <td>No</td>\n",
       "      <td>Positiva</td>\n",
       "      <td>Saludable</td>\n",
       "      <td>No</td>\n",
       "      <td>4</td>\n",
       "      <td>...</td>\n",
       "      <td>Sí</td>\n",
       "      <td>Sí</td>\n",
       "      <td>Publicidad online</td>\n",
       "      <td>Latas compactas y portables</td>\n",
       "      <td>Indiferente</td>\n",
       "      <td>1-2.49</td>\n",
       "      <td>Supermercados</td>\n",
       "      <td>Al estudiar/trabajar hasta tarde</td>\n",
       "      <td>Turín</td>\n",
       "      <td>Cat.  1</td>\n",
       "    </tr>\n",
       "    <tr>\n",
       "      <th>9999</th>\n",
       "      <td>15-18</td>\n",
       "      <td>Hombre</td>\n",
       "      <td>A diario</td>\n",
       "      <td>Siempre que necesito mantener la concentración</td>\n",
       "      <td>Otro</td>\n",
       "      <td>Sí</td>\n",
       "      <td>Positiva</td>\n",
       "      <td>Efectiva</td>\n",
       "      <td>No</td>\n",
       "      <td>4</td>\n",
       "      <td>...</td>\n",
       "      <td>Sí</td>\n",
       "      <td>Indiferente</td>\n",
       "      <td>Medios impresos</td>\n",
       "      <td>Diseño amigable con el ambiente</td>\n",
       "      <td>No</td>\n",
       "      <td>1-2.49</td>\n",
       "      <td>Supermercados</td>\n",
       "      <td>Al hacer deporte</td>\n",
       "      <td>Roma</td>\n",
       "      <td>Cat.  1</td>\n",
       "    </tr>\n",
       "  </tbody>\n",
       "</table>\n",
       "<p>10000 rows × 25 columns</p>\n",
       "</div>"
      ],
      "text/plain": [
       "       Edad  Género          Frec_consumo  \\\n",
       "0     15-18   Mujer  2-3 veces por semana   \n",
       "1     19-30  Hombre      2-3 veces al mes   \n",
       "2     15-18  Hombre             Ocasional   \n",
       "3     31-45   Mujer  2-3 veces por semana   \n",
       "4     19-30   Mujer              A diario   \n",
       "...     ...     ...                   ...   \n",
       "9995  31-45  Hombre              A diario   \n",
       "9996  15-18  Hombre              A diario   \n",
       "9997  31-45  Hombre              A diario   \n",
       "9998  19-30  Hombre  2-3 veces por semana   \n",
       "9999  15-18  Hombre              A diario   \n",
       "\n",
       "                                     Momento_consumo  \\\n",
       "0                         Durante el trabajo/estudio   \n",
       "1                                 A lo largo del día   \n",
       "2                           Antes de hacer ejercicio   \n",
       "3                         Durante el trabajo/estudio   \n",
       "4                         Durante el trabajo/estudio   \n",
       "...                                              ...   \n",
       "9995                        Antes de hacer ejercicio   \n",
       "9996                      Durante el trabajo/estudio   \n",
       "9997                        Antes de hacer ejercicio   \n",
       "9998                      Durante el trabajo/estudio   \n",
       "9999  Siempre que necesito mantener la concentración   \n",
       "\n",
       "                   Motivo_consumo Conocía_marca Percepción_marca  \\\n",
       "0             Mayor concentración            Sí          Neutral   \n",
       "1            Aumentar rendimiento            No          Neutral   \n",
       "2             Mayor concentración            No          Neutral   \n",
       "3            Aumentar rendimiento            No         Positiva   \n",
       "4             Mayor concentración            Sí          Neutral   \n",
       "...                           ...           ...              ...   \n",
       "9995  Mejorar desempeño deportivo            Sí          Neutral   \n",
       "9996              Combatir fatiga            No         Positiva   \n",
       "9997          Mayor concentración            Sí         Positiva   \n",
       "9998          Mayor concentración            No         Positiva   \n",
       "9999                         Otro            Sí         Positiva   \n",
       "\n",
       "     Percepción_general Había_probado Experiencia_sabor  ...  \\\n",
       "0       No estoy segur@            No                 5  ...   \n",
       "1       No estoy segur@            No                 5  ...   \n",
       "2       No estoy segur@            No                 2  ...   \n",
       "3                Dañina            Sí                 5  ...   \n",
       "4              Efectiva            Sí                 5  ...   \n",
       "...                 ...           ...               ...  ...   \n",
       "9995    No estoy segur@            No                 4  ...   \n",
       "9996          Saludable            Sí                 2  ...   \n",
       "9997           Efectiva            No                 2  ...   \n",
       "9998          Saludable            No                 4  ...   \n",
       "9999           Efectiva            No                 4  ...   \n",
       "\n",
       "     Preocupaciones_salud Interés_en_natural_o_organico     Canales_marketing  \\\n",
       "0                      No                            Sí      Publicidad en TV   \n",
       "1                      Sí                   Indiferente       Medios impresos   \n",
       "2                      No                            Sí     Publicidad online   \n",
       "3                      No                            Sí     Publicidad online   \n",
       "4                      Sí                            Sí     Publicidad online   \n",
       "...                   ...                           ...                   ...   \n",
       "9995                   No                            No       Medios impresos   \n",
       "9996                   No                            No      Publicidad en TV   \n",
       "9997                   Sí                            No  Vallas publicitarias   \n",
       "9998                   Sí                            Sí     Publicidad online   \n",
       "9999                   Sí                   Indiferente       Medios impresos   \n",
       "\n",
       "                  Preferencia_empaque Empaque_ed_limitada Rango_precios  \\\n",
       "0         Latas compactas y portables                  Sí        1-2.49   \n",
       "1         Latas compactas y portables                  No        1-2.49   \n",
       "2       Botella con diseño innnovador         Indiferente        2.49-4   \n",
       "3         Latas compactas y portables                  No      Más de 4   \n",
       "4         Latas compactas y portables                  Sí        2.49-4   \n",
       "...                               ...                 ...           ...   \n",
       "9995      Latas compactas y portables                  Sí        2.49-4   \n",
       "9996                             Otro                  Sí        1-2.49   \n",
       "9997      Latas compactas y portables                  No        2.49-4   \n",
       "9998      Latas compactas y portables         Indiferente        1-2.49   \n",
       "9999  Diseño amigable con el ambiente                  No        1-2.49   \n",
       "\n",
       "        Lugar_compra       Situaciones_típicas_consumo     Ciudad Cat_Ciudad  \n",
       "0      Supermercados  Al estudiar/trabajar hasta tarde     Verona    Cat.  2  \n",
       "1      Supermercados                  Al hacer deporte     Génova    Cat.  2  \n",
       "2      Supermercados  Al estudiar/trabajar hasta tarde    Venecia    Cat.  1  \n",
       "3      Supermercados                  Al hacer deporte      Turín    Cat.  1  \n",
       "4     Tiendas online  Al estudiar/trabajar hasta tarde      Siena    Cat.  2  \n",
       "...              ...                               ...        ...        ...  \n",
       "9995   Supermercados  Al estudiar/trabajar hasta tarde       Roma    Cat.  1  \n",
       "9996  Tiendas online            Social outings/parties      Turín    Cat.  1  \n",
       "9997           Otros                  Al hacer deporte  Florencia    Cat.  1  \n",
       "9998   Supermercados  Al estudiar/trabajar hasta tarde      Turín    Cat.  1  \n",
       "9999   Supermercados                  Al hacer deporte       Roma    Cat.  1  \n",
       "\n",
       "[10000 rows x 25 columns]"
      ]
     },
     "execution_count": 9,
     "metadata": {},
     "output_type": "execute_result"
    }
   ],
   "source": [
    "df = df.drop(columns = ['ID_encuestado','ID_respuesta','ID_Ciudad'])\n",
    "df"
   ]
  },
  {
   "cell_type": "markdown",
   "id": "f474620b",
   "metadata": {},
   "source": [
    "### 3.2. Reorganizar las columnas relevantes\n",
    "\n",
    "En este punto tenemos únicamente columnas de tipo categórico. La idea es organizarlas por orden de importancia.\n",
    "\n",
    "Pero además de esto, si observamos la encuesta de referencia y los metadatos, podremos agrupar las columnas por categorías:\n",
    "\n",
    "**Columnas con información demográfica**\n",
    "- Edad\n",
    "- Género\n",
    "- Ciudad\n",
    "- Cat_Ciudad (esta columna no hace parte de la encuesta pero fue añadida por el equipo de marketing)\n",
    "\n",
    "**Columnas con hábitos de consumo**\n",
    "- Frec_consumo\n",
    "- Momento_consumo\n",
    "- Motivo_consumo\n",
    "- Situaciones_típicas_consumo\n",
    "\n",
    "**Conocimiento de la marca**\n",
    "- Conocía_marca\n",
    "- Percepción_marca\n",
    "- Percepción_general\n",
    "\n",
    "**Conocimiento del producto**\n",
    "- Había_probado\n",
    "- Experiencia_sabor\n",
    "- Motivos_no_probarla\n",
    "\n",
    "**Competencia**\n",
    "- Marcas_que_consume\n",
    "- Motivos_escoger_marca\n",
    "- Mejoras_sugeridas\n",
    "\n",
    "**Salud e ingredientes**\n",
    "- Ingredientes_esperados\n",
    "- Preocupaciones_salud'\n",
    "- Interés_en_natural_o_organico\n",
    "\n",
    "**Mercadeo**\n",
    "- Canales_marketing\n",
    "- Preferencia_empaque\n",
    "- Empaque_ed_limitada\n",
    "- Rango_precios\n",
    "- Lugar_compra"
   ]
  },
  {
   "cell_type": "code",
   "execution_count": null,
   "id": "c13babb6",
   "metadata": {},
   "outputs": [],
   "source": [
    "# Grupos de columnas\n",
    "cols_demog = ['Edad', 'Género', 'Ciudad', 'Cat_Ciudad']\n",
    "cols_habit = ['Frec_consumo', 'Momento_consumo', 'Motivo_consumo', 'Situaciones_típicas_consumo']\n",
    "cols_marca = ['Conocía_marca', 'Percepción_marca', 'Percepción_general']\n",
    "cols_prodc = ['Había_probado', 'Experiencia_sabor', 'Motivos_no_probarla']\n",
    "cols_compe = ['Marcas_que_consume', 'Motivos_escoger_marca', 'Mejoras_sugeridas']\n",
    "cols_salud = ['Ingredientes_esperados', 'Preocupaciones_salud', 'Interés_en_natural_o_organico']\n",
    "cols_markt = ['Canales_marketing', 'Preferencia_empaque', 'Empaque_ed_limitada', 'Rango_precios', 'Lugar_compra']"
   ]
  },
  {
   "cell_type": "code",
   "execution_count": null,
   "id": "e2256944",
   "metadata": {},
   "outputs": [],
   "source": [
    "# Reorganizar columnas por orden de prioridad\n",
    "col_order = cols_demog + cols_marca + cols_prodc +  cols_compe + cols_markt + cols_habit   + cols_salud\n",
    "df = df[col_order]\n",
    "df"
   ]
  },
  {
   "cell_type": "markdown",
   "id": "0def0e38",
   "metadata": {},
   "source": [
    "### 3.3. Manejo de datos faltantes\n",
    "\n",
    "En nuestro caso todos los datos son categóricos. En este caso usualmente tenemos estas alternativas:\n",
    "\n",
    "1. **Eliminar la fila completa**: puede ser adecuada si son pocos los datos faltantes y nuestro set contiene muchas más filas\n",
    "2. **Reemplazar los datos faltantes con el valor más frecuente**: esto podría generar un sesgo aún mayor en la distribución de los niveles para la categoría de interés\n",
    "3. **Desarrollar un modelo que prediga los datos faltantes**: es decir que tome información de los datos (filas y columnas) que están completos para predecir la variable en la celda faltante.\n",
    "4. **Eliminar la columna**: se puede llevar a cabo si la columna de interés no contiene información relevante para el análisis\n",
    "\n",
    "En este caso podrían ser la opción (1) o (2). Verifiquemos nuevamente la cantidad de datos faltantes con `info()`:"
   ]
  },
  {
   "cell_type": "code",
   "execution_count": null,
   "id": "4ae446fd",
   "metadata": {},
   "outputs": [],
   "source": [
    "df.info()"
   ]
  },
  {
   "cell_type": "markdown",
   "id": "09372fc4",
   "metadata": {},
   "source": [
    "Las filas \"problemáticas\" tienen tan sólo 12 datos faltantes, muy pocos comparados con los 10.000 registros. Optaremos por la opción 1, usando `dropna()`:"
   ]
  },
  {
   "cell_type": "code",
   "execution_count": null,
   "id": "e7fdb91f",
   "metadata": {},
   "outputs": [],
   "source": [
    "df = df.dropna()\n",
    "df.info()"
   ]
  },
  {
   "cell_type": "markdown",
   "id": "5699dfac",
   "metadata": {},
   "source": [
    "<a id='sec_4'></a>\n",
    "## 4. Análisis de los datos\n",
    "\n",
    "En este caso debemos regresar al planteamiento inicial del problema y a los *insights* que queremos encontrar.\n",
    "\n",
    "Realizaremos el análisis enfocándonos de manera individual en cada grupo de *insights*. De nuevo, es clave que al final de cada análisis escribamos una breve observación que servirá como insumo para el reporte final."
   ]
  },
  {
   "cell_type": "markdown",
   "id": "a4a6b77d",
   "metadata": {},
   "source": [
    "### 4.1. Análisis demográfico\n",
    "\n",
    "En este análisis buscamos responder las preguntas:\n",
    "\n",
    "- ¿Quiénes prefieren esta bebida energética?\n",
    "- ¿Qué rangos de edad tienden a preferir la bebida?\n",
    "\n",
    "Para responder estas preguntas podemos usar la información de las columnas demográficas (`cols_demog`):"
   ]
  },
  {
   "cell_type": "code",
   "execution_count": null,
   "id": "ef6844ab",
   "metadata": {},
   "outputs": [],
   "source": [
    "df[cols_demog]"
   ]
  },
  {
   "cell_type": "markdown",
   "id": "2be7d7dc",
   "metadata": {},
   "source": [
    "Podemos analizar las columnas \"Edad\", \"Género\" y \"Ciudad\" usando `value_counts()`:"
   ]
  },
  {
   "cell_type": "code",
   "execution_count": null,
   "id": "a3cb70e3",
   "metadata": {},
   "outputs": [],
   "source": [
    "print('Distribución edades:')\n",
    "print(df['Edad'].value_counts())\n",
    "print('-'*20)\n",
    "print('Distribución géneros:')\n",
    "print(df['Género'].value_counts())\n",
    "print('-'*20)\n",
    "print('Distribución ciudades:')\n",
    "print(df['Ciudad'].value_counts())"
   ]
  },
  {
   "cell_type": "markdown",
   "id": "eb7cc873",
   "metadata": {},
   "source": [
    "En ocasiones el conteo no facilita la interpretación y puede resultar más adecuado usar porcentajes. Podemos seguir usando `value_counts` pero con el argumento `normalize = True`:"
   ]
  },
  {
   "cell_type": "code",
   "execution_count": 37,
   "id": "89950781",
   "metadata": {},
   "outputs": [
    {
     "name": "stdout",
     "output_type": "stream",
     "text": [
      "Distribución edades:\n",
      "19-30    0.551962\n",
      "31-45    0.237485\n",
      "15-18    0.148879\n",
      "46-65    0.042651\n",
      "65+      0.019023\n",
      "Name: Edad, dtype: float64\n",
      "--------------------\n",
      "Distribución géneros:\n",
      "Hombre        0.603925\n",
      "Mujer         0.345414\n",
      "No binario    0.050661\n",
      "Name: Género, dtype: float64\n",
      "--------------------\n",
      "Distribución ciudades:\n",
      "Turín        0.282739\n",
      "Venecia      0.183020\n",
      "Roma         0.150981\n",
      "Florencia    0.093813\n",
      "Génova       0.090709\n",
      "Palermo      0.056668\n",
      "Verona       0.045555\n",
      "Milán        0.042952\n",
      "Pisa         0.036043\n",
      "Siena        0.017521\n",
      "Name: Ciudad, dtype: float64\n"
     ]
    }
   ],
   "source": [
    "print('Distribución edades:')\n",
    "print(df['Edad'].value_counts(normalize=True))\n",
    "print('-'*20)\n",
    "print('Distribución géneros:')\n",
    "print(df['Género'].value_counts(normalize=True))\n",
    "print('-'*20)\n",
    "print('Distribución ciudades:')\n",
    "print(df['Ciudad'].value_counts(normalize=True))"
   ]
  },
  {
   "cell_type": "markdown",
   "id": "f8c3539a",
   "metadata": {},
   "source": [
    "Pero además debemos asegurarnos que el análisis se realiza únicamente sobre las personas que realmente conocen prefieren nuestra bebida, es decir para las cuales la columna \"Marcas_que_consume\" tiene un valor de \"MegaBoost\".\n",
    "\n",
    "Así que debemos usar condicionales para poder extraer la información relevante:"
   ]
  },
  {
   "cell_type": "code",
   "execution_count": 38,
   "id": "5b18a59b",
   "metadata": {},
   "outputs": [
    {
     "data": {
      "text/plain": [
       "Coca Cola    2536\n",
       "Pepsi        2109\n",
       "Monster      1851\n",
       "Red Bull     1058\n",
       "HyperFuel     979\n",
       "MegaBoost     976\n",
       "Otras         479\n",
       "Name: Marcas_que_consume, dtype: int64"
      ]
     },
     "execution_count": 38,
     "metadata": {},
     "output_type": "execute_result"
    }
   ],
   "source": [
    "df['Marcas_que_consume'].value_counts()"
   ]
  },
  {
   "cell_type": "code",
   "execution_count": 39,
   "id": "428b7b22",
   "metadata": {},
   "outputs": [
    {
     "name": "stdout",
     "output_type": "stream",
     "text": [
      "Distribución edades:\n",
      "19-30    0.550205\n",
      "31-45    0.246926\n",
      "15-18    0.138320\n",
      "46-65    0.037910\n",
      "65+      0.026639\n",
      "Name: Edad, dtype: float64\n",
      "--------------------\n",
      "Distribución géneros:\n",
      "Hombre        0.602459\n",
      "Mujer         0.358607\n",
      "No binario    0.038934\n",
      "Name: Género, dtype: float64\n",
      "--------------------\n",
      "Distribución ciudades:\n",
      "Turín        0.299180\n",
      "Venecia      0.183402\n",
      "Roma         0.158811\n",
      "Florencia    0.094262\n",
      "Génova       0.094262\n",
      "Palermo      0.049180\n",
      "Verona       0.046107\n",
      "Milán        0.040984\n",
      "Pisa         0.028689\n",
      "Siena        0.005123\n",
      "Name: Ciudad, dtype: float64\n"
     ]
    }
   ],
   "source": [
    "print('Distribución edades:')\n",
    "print(df[df['Marcas_que_consume']=='MegaBoost']['Edad'].value_counts(normalize=True))\n",
    "print('-'*20)\n",
    "print('Distribución géneros:')\n",
    "print(df[df['Marcas_que_consume']=='MegaBoost']['Género'].value_counts(normalize=True))\n",
    "print('-'*20)\n",
    "print('Distribución ciudades:')\n",
    "print(df[df['Marcas_que_consume']=='MegaBoost']['Ciudad'].value_counts(normalize=True))"
   ]
  },
  {
   "cell_type": "markdown",
   "id": "e598e904",
   "metadata": {},
   "source": [
    "> **Respuestas preguntas análisis demográfico**\n",
    "\n",
    "> ¿Quiénes prefieren esta bebida energética?\n",
    "> - El género que más consume son los hombres (60%) seguidos por las mujeres (36%) y por el género no binario (4%) y las ciudades top-3 para los 3 géneros son Turín, Venecia y Roma.\n",
    "\n",
    "> ¿Qué rangos de edad tienden a preferir la bebida?\n",
    "> - El grupo de edades que más consume es de 19 a 30 años (55%) seguido por 31-45 (24%)"
   ]
  },
  {
   "cell_type": "markdown",
   "id": "2329deec",
   "metadata": {},
   "source": [
    "> **Aclaración:** también podríamos hacer el análisis de múltiples variables de manera simultánea usando métodos de agrupamiento, pero estas técnicas las veremos en el próximo curso."
   ]
  },
  {
   "cell_type": "markdown",
   "id": "c1680cea",
   "metadata": {},
   "source": [
    "### 4.2. Análisis de la competencia\n",
    "\n",
    "La pregunta que queremos resolver es: ¿Quiénes son los actuales líderes del mercado?\n",
    "\n",
    "Esta pregunta se puede responder de manera sencilla analizando la columna `Marcas_que_consume`:"
   ]
  },
  {
   "cell_type": "code",
   "execution_count": 40,
   "id": "e1638636",
   "metadata": {},
   "outputs": [
    {
     "data": {
      "text/plain": [
       "Coca Cola    0.253905\n",
       "Pepsi        0.211153\n",
       "Monster      0.185322\n",
       "Red Bull     0.105927\n",
       "HyperFuel    0.098018\n",
       "MegaBoost    0.097717\n",
       "Otras        0.047958\n",
       "Name: Marcas_que_consume, dtype: float64"
      ]
     },
     "execution_count": 40,
     "metadata": {},
     "output_type": "execute_result"
    }
   ],
   "source": [
    "df['Marcas_que_consume'].value_counts(normalize=True)"
   ]
  },
  {
   "cell_type": "markdown",
   "id": "1cdbcd79",
   "metadata": {},
   "source": [
    "> **Respuesta preguna análisis de la competencia**\n",
    "\n",
    "> - ¿Quiénes son los actuales líderes del mercado?\n",
    "> - Coca Cola (25%), Pepsi (21%), Monster (19%).\n",
    "> - Nuestra marca tiene un porcentaje de participación del 10%"
   ]
  },
  {
   "cell_type": "markdown",
   "id": "85b2f64f",
   "metadata": {},
   "source": [
    "### 4.3. Penetración de la marca\n",
    "\n",
    "Las preguntas a responder y las columnas que podríamos usar son:\n",
    "\n",
    "- ¿Qué piensa la gente de nuestra marca?: columnas `Conocía_marca` + `Había_probado`+ `Experiencia_sabor`, `Conocía_marca` + `Percepción_marca`, `Conocía_marca` + `Motivos_no_probarla`\n",
    "- ¿En qué ciudades debemos reforzar este posicionamiento?: ciudades con menos conocimiento de marca (`Ciudad` + `Conocía_marca`) \n",
    "- ¿Por qué los consumidores prefieren otras marcas y no las nuestras? `Motivos_escoger_marca`"
   ]
  },
  {
   "cell_type": "code",
   "execution_count": 41,
   "id": "383402a4",
   "metadata": {},
   "outputs": [
    {
     "data": {
      "text/plain": [
       "3    0.306133\n",
       "4    0.252720\n",
       "5    0.190406\n",
       "2    0.147379\n",
       "1    0.103363\n",
       "Name: Experiencia_sabor, dtype: float64"
      ]
     },
     "execution_count": 41,
     "metadata": {},
     "output_type": "execute_result"
    }
   ],
   "source": [
    "# ¿Qué piensa la gente de nuestra marca?\n",
    "# Análisis combinado \"Conocía_marca\" + 'Había_probado' + 'Experiencia_sabor'\n",
    "df[(df['Conocía_marca']=='Sí') & (df['Había_probado']=='Sí')]['Experiencia_sabor'].value_counts(normalize=True)"
   ]
  },
  {
   "cell_type": "markdown",
   "id": "6caf8580",
   "metadata": {},
   "source": [
    "> **Observaciones**:\n",
    "> Del total de quienes conocen la marca y han probado la bebida:\n",
    "> - El 30% le da una puntuación de 3 (igual que otras bebidas de otras marcas)\n",
    "> - El 25% le da una puntuación de 4 (me gustó)\n",
    "> - El 20% le da una puntuación de 5 (me fascinó)"
   ]
  },
  {
   "cell_type": "code",
   "execution_count": 42,
   "id": "1c3c06a7",
   "metadata": {},
   "outputs": [
    {
     "data": {
      "text/plain": [
       "Neutral     0.575901\n",
       "Positiva    0.242568\n",
       "Negativa    0.181532\n",
       "Name: Percepción_marca, dtype: float64"
      ]
     },
     "execution_count": 42,
     "metadata": {},
     "output_type": "execute_result"
    }
   ],
   "source": [
    "# ¿Qué piensa la gente de nuestra marca?\n",
    "# Análisis combinado 'Conocía_marca' + 'Percepción_marca'\n",
    "df[df['Conocía_marca']=='Sí']['Percepción_marca'].value_counts(normalize=True)"
   ]
  },
  {
   "cell_type": "markdown",
   "id": "f6cdd4ba",
   "metadata": {},
   "source": [
    "> **Observaciones**: del total de quienes conocen la marca:\n",
    "> - El 58% tiene una percepción neutral acerca del nombre y del logo\n",
    "> - El 24% tiene una percepción positiva acerca del nombre y del logo"
   ]
  },
  {
   "cell_type": "code",
   "execution_count": 43,
   "id": "2d6ea8ee",
   "metadata": {},
   "outputs": [
    {
     "data": {
      "text/plain": [
       "No disponible en la ciudad                 0.237387\n",
       "Preocupaciones de salud                    0.225000\n",
       "No me interesan las bebidas energéticas    0.220045\n",
       "No conozco la marca                        0.198649\n",
       "Otro                                       0.118919\n",
       "Name: Motivos_no_probarla, dtype: float64"
      ]
     },
     "execution_count": 43,
     "metadata": {},
     "output_type": "execute_result"
    }
   ],
   "source": [
    "# ¿Qué piensa la gente de nuestra marca?\n",
    "# Análisis combinado 'Conocía_marca' + 'Motivos_no_probarla'\n",
    "df[df['Conocía_marca']=='Sí']['Motivos_no_probarla'].value_counts(normalize=True)"
   ]
  },
  {
   "cell_type": "markdown",
   "id": "b313a073",
   "metadata": {},
   "source": [
    "> **Observaciones**: del total de encuestados que conocen la marca, los motivos para no probar la bebida fueron:\n",
    "> 1. Porque no está disponible en la ciudad: 24%\n",
    "> 2. Porque existen preocupaciones sobre los efectos que pueda tener en la salud: 23%\n",
    "> 3. Porque no le interesan las bebidas energéticas: 22%\n",
    "\n",
    "> No hay un motivo único que nos permita entender los motivos por los cuales la gente no ha probado la bebida."
   ]
  },
  {
   "cell_type": "markdown",
   "id": "f7b8c6e6",
   "metadata": {},
   "source": [
    "Y podemos combinar las anteriores observaciones para responder a la pregunta ¿qué piensa la gente de nuestra marca?:\n",
    "\n",
    "> En general la mayoría de los encuestados que conoce nuestra marca tiene una percepción neutral de la misma (58%). Con respecto al sabor, el 55% le da una puntuación media o baja (entre 1 y 3 en una escala de 5) y el 45% le da una puntuación alta (4 o 5).\n",
    "\n",
    "Lo anterior nos permite concluir que nuestra marca y nuestro logo no están generando la recordación esperada en los compradores y que se deberían mejorar aspectos relacionados con el sabor."
   ]
  },
  {
   "cell_type": "code",
   "execution_count": 44,
   "id": "8320c277",
   "metadata": {},
   "outputs": [
    {
     "data": {
      "text/plain": [
       "Turín        0.300829\n",
       "Venecia      0.198630\n",
       "Roma         0.109950\n",
       "Florencia    0.101839\n",
       "Génova       0.095350\n",
       "Palermo      0.064167\n",
       "Verona       0.044881\n",
       "Pisa         0.038933\n",
       "Milán        0.029200\n",
       "Siena        0.016222\n",
       "Name: Ciudad, dtype: float64"
      ]
     },
     "execution_count": 44,
     "metadata": {},
     "output_type": "execute_result"
    }
   ],
   "source": [
    "# ¿En qué ciudades debemos reforzar este posicionamiento?\n",
    "# Análisis combinado 'Ciudad' 'Conocía_marca'\n",
    "df[df['Conocía_marca']=='No']['Ciudad'].value_counts(normalize = True)"
   ]
  },
  {
   "cell_type": "markdown",
   "id": "870dbfb1",
   "metadata": {},
   "source": [
    "Sin embargo, en este caso cada porcentaje es calculado con respecto al total de encuestados que No conocían la marca. Por ejemplo, el 30% de Turín es calculado con respecto a las 5.553 personas que No conocían la marca.\n",
    "\n",
    "Pero resulta más adecuado calcular los porcentajes con respecto al total de encuestados **en cada ciudad**:"
   ]
  },
  {
   "cell_type": "code",
   "execution_count": 45,
   "id": "9d6d894e",
   "metadata": {},
   "outputs": [
    {
     "data": {
      "text/plain": [
       "Florencia     565\n",
       "Génova        529\n",
       "Milán         162\n",
       "Palermo       356\n",
       "Pisa          216\n",
       "Roma          610\n",
       "Siena          90\n",
       "Turín        1669\n",
       "Venecia      1102\n",
       "Verona        249\n",
       "Name: Ciudad, dtype: int64"
      ]
     },
     "execution_count": 45,
     "metadata": {},
     "output_type": "execute_result"
    }
   ],
   "source": [
    "# Conteo de personas que NO conocen la marca, por ciudad\n",
    "no_conocian = df[df['Conocía_marca']=='No']['Ciudad'].value_counts()\n",
    "no_conocian.sort_index()"
   ]
  },
  {
   "cell_type": "code",
   "execution_count": 46,
   "id": "d8fe4e8f",
   "metadata": {},
   "outputs": [
    {
     "data": {
      "text/plain": [
       "Florencia     937\n",
       "Génova        906\n",
       "Milán         429\n",
       "Palermo       566\n",
       "Pisa          360\n",
       "Roma         1508\n",
       "Siena         175\n",
       "Turín        2824\n",
       "Venecia      1828\n",
       "Verona        455\n",
       "Name: Ciudad, dtype: int64"
      ]
     },
     "execution_count": 46,
     "metadata": {},
     "output_type": "execute_result"
    }
   ],
   "source": [
    "# Conteo total de encuestados por ciudad\n",
    "encuestados = df['Ciudad'].value_counts()\n",
    "encuestados.sort_index()"
   ]
  },
  {
   "cell_type": "code",
   "execution_count": 47,
   "id": "94794ddd",
   "metadata": {},
   "outputs": [
    {
     "data": {
      "text/plain": [
       "Palermo      0.628975\n",
       "Florencia    0.602988\n",
       "Venecia      0.602845\n",
       "Pisa         0.600000\n",
       "Turín        0.591006\n",
       "Génova       0.583885\n",
       "Verona       0.547253\n",
       "Siena        0.514286\n",
       "Roma         0.404509\n",
       "Milán        0.377622\n",
       "Name: Ciudad, dtype: float64"
      ]
     },
     "execution_count": 47,
     "metadata": {},
     "output_type": "execute_result"
    }
   ],
   "source": [
    "# Porcentajes\n",
    "porcentajes = no_conocian.sort_index() / encuestados.sort_index()\n",
    "porcentajes.sort_values(ascending = False)"
   ]
  },
  {
   "cell_type": "markdown",
   "id": "68ae1cf9",
   "metadata": {},
   "source": [
    "> **Respuesta a la pregunta ¿en qué ciudades debemos reforzar este posicionamiento?**: al analizar en cada ciudad el porcentaje de encuestados que no conoce nuestra marca, se obtuvieron estos resultados:\n",
    "\n",
    "> - En 8 de las 10 ciudades donde tenemos presencia (Palermo, Florencia, Venecia, Pisa, Turín, Génova, Verona, Siena) pues en dichas ciudades al menos el 50% de los encuestados no conocía nuestra marca"
   ]
  },
  {
   "cell_type": "code",
   "execution_count": 48,
   "id": "f53ae53d",
   "metadata": {},
   "outputs": [
    {
     "data": {
      "text/plain": [
       "Reputación de la marca    0.265318\n",
       "El sabor                  0.200841\n",
       "Fácil de encontrar        0.191129\n",
       "Efectividad               0.174910\n",
       "Otro                      0.167801\n",
       "Name: Motivos_escoger_marca, dtype: float64"
      ]
     },
     "execution_count": 48,
     "metadata": {},
     "output_type": "execute_result"
    }
   ],
   "source": [
    "# ¿Por qué los consumidores prefieren otras marcas y no las nuestras?: \n",
    "# columna \"Motivos_escoger_marca\"\n",
    "df['Motivos_escoger_marca'].value_counts(normalize=True)"
   ]
  },
  {
   "cell_type": "markdown",
   "id": "99c21734",
   "metadata": {},
   "source": [
    "> **Respuesta a la pregunta ¿Por qué los consumidores prefieren otras marcas y no las nuestras?**:\n",
    "\n",
    "> Principalmente porque: (1) Confían en una marca con mejor reputación (27%), (2) les gusta más el sabor de la bebida ofrecida por otras márcas (20%), (3) a que es fácil de encontrar (19%)"
   ]
  },
  {
   "cell_type": "markdown",
   "id": "17993c02",
   "metadata": {},
   "source": [
    "### 4.3. Canales de mercadeo y conocimiento de la marca\n",
    "\n",
    "Las preguntas que queremos responder son:\n",
    "\n",
    " - ¿Cuál es el canal de mercadeo más efectivo?\n",
    " \n",
    "Podríamos simplemente analizar la columna 'Canales_marketing':"
   ]
  },
  {
   "cell_type": "code",
   "execution_count": 49,
   "id": "7fc769ed",
   "metadata": {},
   "outputs": [
    {
     "data": {
      "text/plain": [
       "Publicidad online       0.402082\n",
       "Publicidad en TV        0.268823\n",
       "Vallas publicitarias    0.122647\n",
       "Otro                    0.122347\n",
       "Medios impresos         0.084101\n",
       "Name: Canales_marketing, dtype: float64"
      ]
     },
     "execution_count": 49,
     "metadata": {},
     "output_type": "execute_result"
    }
   ],
   "source": [
    "df['Canales_marketing'].value_counts(normalize = True)"
   ]
  },
  {
   "cell_type": "markdown",
   "id": "a91f3802",
   "metadata": {},
   "source": [
    "Pero podemos ir un paso más allá y analizar, por ejemplo:\n",
    "\n",
    "- Cuáles son los canales de mercadeo más efectivos **entre los que han probado nuestra marca**\n",
    "- Cuáles son los canales de mercadeo más efectivos **por rangos de edad**"
   ]
  },
  {
   "cell_type": "code",
   "execution_count": 50,
   "id": "28193103",
   "metadata": {},
   "outputs": [
    {
     "data": {
      "text/plain": [
       "Publicidad online       0.406081\n",
       "Publicidad en TV        0.282658\n",
       "Vallas publicitarias    0.118018\n",
       "Otro                    0.109910\n",
       "Medios impresos         0.083333\n",
       "Name: Canales_marketing, dtype: float64"
      ]
     },
     "execution_count": 50,
     "metadata": {},
     "output_type": "execute_result"
    }
   ],
   "source": [
    "# Canales más efectivos entre quienes han probado nuestra marca\n",
    "df[df['Conocía_marca']=='Sí']['Canales_marketing'].value_counts(normalize = True)"
   ]
  },
  {
   "cell_type": "code",
   "execution_count": 51,
   "id": "a5b2818b",
   "metadata": {},
   "outputs": [
    {
     "data": {
      "text/plain": [
       "Index(['19-30', '31-45', '15-18', '46-65', '65+'], dtype='object')"
      ]
     },
     "execution_count": 51,
     "metadata": {},
     "output_type": "execute_result"
    }
   ],
   "source": [
    "# Rangos de edad\n",
    "niv_edad = df['Edad'].value_counts().index\n",
    "niv_edad"
   ]
  },
  {
   "cell_type": "code",
   "execution_count": 52,
   "id": "e83baef2",
   "metadata": {},
   "outputs": [
    {
     "name": "stdout",
     "output_type": "stream",
     "text": [
      "Rango de edad: 19-30\n",
      "Publicidad online       0.483040\n",
      "Publicidad en TV        0.233630\n",
      "Otro                    0.110103\n",
      "Vallas publicitarias    0.105931\n",
      "Medios impresos         0.067295\n",
      "Name: Canales_marketing, dtype: float64\n",
      "--------------------\n",
      "Rango de edad: 31-45\n",
      "Publicidad en TV        0.310708\n",
      "Publicidad online       0.206155\n",
      "Vallas publicitarias    0.181703\n",
      "Otro                    0.171164\n",
      "Medios impresos         0.130270\n",
      "Name: Canales_marketing, dtype: float64\n",
      "--------------------\n",
      "Rango de edad: 15-18\n",
      "Publicidad online       0.475454\n",
      "Publicidad en TV        0.332213\n",
      "Vallas publicitarias    0.078682\n",
      "Otro                    0.063215\n",
      "Medios impresos         0.050437\n",
      "Name: Canales_marketing, dtype: float64\n",
      "--------------------\n",
      "Rango de edad: 46-65\n",
      "Publicidad en TV        0.274648\n",
      "Publicidad online       0.255869\n",
      "Otro                    0.183099\n",
      "Vallas publicitarias    0.152582\n",
      "Medios impresos         0.133803\n",
      "Name: Canales_marketing, dtype: float64\n",
      "--------------------\n",
      "Rango de edad: 65+\n",
      "Publicidad en TV        0.257895\n",
      "Publicidad online       0.252632\n",
      "Otro                    0.194737\n",
      "Vallas publicitarias    0.147368\n",
      "Medios impresos         0.147368\n",
      "Name: Canales_marketing, dtype: float64\n",
      "--------------------\n"
     ]
    }
   ],
   "source": [
    "# Canales más efectivos por rangos de edad\n",
    "for niv in niv_edad:\n",
    "    print(f'Rango de edad: {niv}')\n",
    "    print(df[df['Edad']==niv]['Canales_marketing'].value_counts(normalize=True))\n",
    "    print('-'*20)"
   ]
  },
  {
   "cell_type": "markdown",
   "id": "dde24185",
   "metadata": {},
   "source": [
    "> **Respuesta a la pregunta ¿¿Cuál es el canal de mercadeo más efectivo?**\n",
    "\n",
    "> Los canales más efectivos son la publicidad online y la TV. La publicidad online es el medio más efectivo para el rango de edades 15-30 años, mientras que para el rango 31-65+ o más es más adecuada la TV."
   ]
  },
  {
   "cell_type": "markdown",
   "id": "483b4391",
   "metadata": {},
   "source": [
    "<a id='sec_5'></a>\n",
    "## 5. Reporte final y recomendaciones\n",
    "\n",
    "El reporte final podría ser un informe escrito o una breve presentación con elementos gráficos. En ambos casos el objetivo es sintetizar las observaciones y las respuestas a las preguntas, es decir presentar los *insights* resultado de este análisis.\n",
    "\n",
    "Estos *insights* son de carácter **descriptivo**, mientras que en las recomendaciones debemos **extraer conclusiones** a partir de los *insights* para así generar un listado de sugerencias."
   ]
  },
  {
   "cell_type": "markdown",
   "id": "7de37fa2",
   "metadata": {},
   "source": [
    "### 5.1. Reporte final\n",
    "\n",
    "En este caso haremos un breve informe en formato de texto. Un ejemplo sería:\n",
    "\n",
    "Tras el análisis realizado observamos que:\n",
    "\n",
    "- El género que más consume nuestra bebida son los hombres y el grupo de edad con más consumidores de nuestro producto es de los 19 a los 30 años.\n",
    "- Los líderes actuales del mercado son Coca Cola, Pepsi y Monster con un 65% de participación en el mercado. Nuestro producto se encuentra en el 5° lugar con un porcentaje de participación del 10%\n",
    "- Con respecto al posicionamiento de la marca encontramos que:\n",
    "    - Nuestra marca y logo no generan recordación en los compradores y que los consumidores no están del todo satisfechos con el sabor de la bebida.\n",
    "    - En 8 de las 10 ciudades Italianas donde tenemos presencia, la gente NO conoce nuestra marca\n",
    "    - La gente prefiere otras marcas por su reputación, por su disponibilidad y por su sabor.\n",
    "- Los canales más efectivos son la publicidad online y la TV. La publicidad online es el medio más efectivo para el rango de edades 15-30 años, mientras que para el rango 31-65 o más es más adecuada la TV."
   ]
  },
  {
   "cell_type": "markdown",
   "id": "6f953b58",
   "metadata": {},
   "source": [
    "### 5.2. Recomendaciones\n",
    "\n",
    "Con base en lo anterior se sugieren estas estrategias:\n",
    "\n",
    "1. Mantener estrategias de publicidad dirigidas a hombres entre los 19 y 30 años, especialmente en la modalidad online y publicidad en medios de televisión dirigidas a los rangos de 31 a 65 o más años.\n",
    "2. Reforzar las estrategias de publicidad dirigidas a  dos segmentos: (1) los géneros mujeres y no binario y (2) en las ciudades de Palermo, Florencia, Venecia, Pisa, Turín, Génova, Verona, Siena\n",
    "3. Considerar la posibilidad de modificar el sabor de nuestra bebida para que esté alineado con las preferencias de los consumidores.\n",
    "4. Fortalecer la cadena de distribución para garantizar que nuestra bebida esté disponible en las ciudades de interés."
   ]
  },
  {
   "cell_type": "markdown",
   "id": "ad38026a",
   "metadata": {},
   "source": [
    "<a id='sec_6'></a>\n",
    "## 6. Sugerencias finales\n",
    "\n",
    "En este proyecto hemos analizado sólo una parte del set de datos: la que guardaba relación directa con las preguntas planteadas al comienzo.\n",
    "\n",
    "Sin embargo, sugiero complementar estos resultados analizando por ejemplo: \n",
    "\n",
    "- Preferencias del consumidor: ¿Cuáles son los ingredientes preferidos?, ¿Qué tipo de paquetes son los preferidos?\n",
    "- Comportamientos de compra: ¿Dónde prefieren las personas comprar bebidas energizantes?, ¿Cuáles son las situaciones típicas de consumo de bebibas energéticas? ¿Qué factores influyen más en las decisiones de compra de las personas?\n",
    "- Desarrollo de producto: ¿Qué área deberíamos priorizar para el desarrollo y mejora del producto?\n",
    "\n",
    "Además, en lugar de un reporte en formato de texto se podría realizar una breve presentación incluyendo elementos gráficos (con ayuda de Matplotlib)."
   ]
  }
 ],
 "metadata": {
  "kernelspec": {
   "display_name": "Python 3 (ipykernel)",
   "language": "python",
   "name": "python3"
  },
  "language_info": {
   "codemirror_mode": {
    "name": "ipython",
    "version": 3
   },
   "file_extension": ".py",
   "mimetype": "text/x-python",
   "name": "python",
   "nbconvert_exporter": "python",
   "pygments_lexer": "ipython3",
   "version": "3.12.3"
  }
 },
 "nbformat": 4,
 "nbformat_minor": 5
}
