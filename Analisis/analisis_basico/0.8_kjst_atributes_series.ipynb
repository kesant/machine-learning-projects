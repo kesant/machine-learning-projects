{
 "cells": [
  {
   "cell_type": "markdown",
   "id": "61354fcc",
   "metadata": {},
   "source": [
    "# Atributos y métodos básicos de una Serie\n",
    "\n",
    "Como hemos visto hasta el momento, existe un altísimo grado de similitud entre los *DataFrames* y las Series en Pandas, y por tanto muchos de los métodos y atributos están disponibles en ambos tipos de dato.\n",
    "\n",
    "En esta lección hablaremos de los principales atributos y métodos básicos de una Serie, que son prácticamente los mismos que vimos en su momento cuando hablamos de los *DataFrames*.\n",
    "\n",
    "En particular veremos atributos y métodos que nos permiten:\n",
    "\n",
    "- Extraer información general de la Serie\n",
    "- Realizar operaciones de síntesis\n",
    "- Aplicar funciones personalizadas a la Serie\n",
    "\n",
    "Al final de todo esto veremos además un ejemplo práctico de aplicación de algunos de estos conceptos."
   ]
  },
  {
   "cell_type": "markdown",
   "id": "f7b1b2b9",
   "metadata": {},
   "source": [
    "## 1. Métodos para extraer información general de una Serie\n",
    "\n",
    "Comencemos importando la librería y leyendo el set de datos:"
   ]
  },
  {
   "cell_type": "code",
   "execution_count": 1,
   "id": "bb2018b4",
   "metadata": {},
   "outputs": [
    {
     "data": {
      "text/html": [
       "<div>\n",
       "<style scoped>\n",
       "    .dataframe tbody tr th:only-of-type {\n",
       "        vertical-align: middle;\n",
       "    }\n",
       "\n",
       "    .dataframe tbody tr th {\n",
       "        vertical-align: top;\n",
       "    }\n",
       "\n",
       "    .dataframe thead th {\n",
       "        text-align: right;\n",
       "    }\n",
       "</style>\n",
       "<table border=\"1\" class=\"dataframe\">\n",
       "  <thead>\n",
       "    <tr style=\"text-align: right;\">\n",
       "      <th></th>\n",
       "      <th>color</th>\n",
       "      <th>director_name</th>\n",
       "      <th>num_critic_for_reviews</th>\n",
       "      <th>duration</th>\n",
       "      <th>director_facebook_likes</th>\n",
       "      <th>actor_3_facebook_likes</th>\n",
       "      <th>actor_2_name</th>\n",
       "      <th>actor_1_facebook_likes</th>\n",
       "      <th>gross</th>\n",
       "      <th>genres</th>\n",
       "      <th>...</th>\n",
       "      <th>num_user_for_reviews</th>\n",
       "      <th>language</th>\n",
       "      <th>country</th>\n",
       "      <th>content_rating</th>\n",
       "      <th>budget</th>\n",
       "      <th>title_year</th>\n",
       "      <th>actor_2_facebook_likes</th>\n",
       "      <th>imdb_score</th>\n",
       "      <th>aspect_ratio</th>\n",
       "      <th>movie_facebook_likes</th>\n",
       "    </tr>\n",
       "  </thead>\n",
       "  <tbody>\n",
       "    <tr>\n",
       "      <th>0</th>\n",
       "      <td>Color</td>\n",
       "      <td>James Cameron</td>\n",
       "      <td>723.0</td>\n",
       "      <td>178.0</td>\n",
       "      <td>0.0</td>\n",
       "      <td>855.0</td>\n",
       "      <td>Joel David Moore</td>\n",
       "      <td>1000.0</td>\n",
       "      <td>760505847.0</td>\n",
       "      <td>Action|Adventure|Fantasy|Sci-Fi</td>\n",
       "      <td>...</td>\n",
       "      <td>3054.0</td>\n",
       "      <td>English</td>\n",
       "      <td>USA</td>\n",
       "      <td>PG-13</td>\n",
       "      <td>237000000.0</td>\n",
       "      <td>2009.0</td>\n",
       "      <td>936.0</td>\n",
       "      <td>7.9</td>\n",
       "      <td>1.78</td>\n",
       "      <td>33000</td>\n",
       "    </tr>\n",
       "    <tr>\n",
       "      <th>1</th>\n",
       "      <td>Color</td>\n",
       "      <td>Gore Verbinski</td>\n",
       "      <td>302.0</td>\n",
       "      <td>169.0</td>\n",
       "      <td>563.0</td>\n",
       "      <td>1000.0</td>\n",
       "      <td>Orlando Bloom</td>\n",
       "      <td>40000.0</td>\n",
       "      <td>309404152.0</td>\n",
       "      <td>Action|Adventure|Fantasy</td>\n",
       "      <td>...</td>\n",
       "      <td>1238.0</td>\n",
       "      <td>English</td>\n",
       "      <td>USA</td>\n",
       "      <td>PG-13</td>\n",
       "      <td>300000000.0</td>\n",
       "      <td>2007.0</td>\n",
       "      <td>5000.0</td>\n",
       "      <td>7.1</td>\n",
       "      <td>2.35</td>\n",
       "      <td>0</td>\n",
       "    </tr>\n",
       "    <tr>\n",
       "      <th>2</th>\n",
       "      <td>Color</td>\n",
       "      <td>Sam Mendes</td>\n",
       "      <td>602.0</td>\n",
       "      <td>148.0</td>\n",
       "      <td>0.0</td>\n",
       "      <td>161.0</td>\n",
       "      <td>Rory Kinnear</td>\n",
       "      <td>11000.0</td>\n",
       "      <td>200074175.0</td>\n",
       "      <td>Action|Adventure|Thriller</td>\n",
       "      <td>...</td>\n",
       "      <td>994.0</td>\n",
       "      <td>English</td>\n",
       "      <td>UK</td>\n",
       "      <td>PG-13</td>\n",
       "      <td>245000000.0</td>\n",
       "      <td>2015.0</td>\n",
       "      <td>393.0</td>\n",
       "      <td>6.8</td>\n",
       "      <td>2.35</td>\n",
       "      <td>85000</td>\n",
       "    </tr>\n",
       "    <tr>\n",
       "      <th>3</th>\n",
       "      <td>Color</td>\n",
       "      <td>Christopher Nolan</td>\n",
       "      <td>813.0</td>\n",
       "      <td>164.0</td>\n",
       "      <td>22000.0</td>\n",
       "      <td>23000.0</td>\n",
       "      <td>Christian Bale</td>\n",
       "      <td>27000.0</td>\n",
       "      <td>448130642.0</td>\n",
       "      <td>Action|Thriller</td>\n",
       "      <td>...</td>\n",
       "      <td>2701.0</td>\n",
       "      <td>English</td>\n",
       "      <td>USA</td>\n",
       "      <td>PG-13</td>\n",
       "      <td>250000000.0</td>\n",
       "      <td>2012.0</td>\n",
       "      <td>23000.0</td>\n",
       "      <td>8.5</td>\n",
       "      <td>2.35</td>\n",
       "      <td>164000</td>\n",
       "    </tr>\n",
       "    <tr>\n",
       "      <th>4</th>\n",
       "      <td>NaN</td>\n",
       "      <td>Doug Walker</td>\n",
       "      <td>NaN</td>\n",
       "      <td>NaN</td>\n",
       "      <td>131.0</td>\n",
       "      <td>NaN</td>\n",
       "      <td>Rob Walker</td>\n",
       "      <td>131.0</td>\n",
       "      <td>NaN</td>\n",
       "      <td>Documentary</td>\n",
       "      <td>...</td>\n",
       "      <td>NaN</td>\n",
       "      <td>NaN</td>\n",
       "      <td>NaN</td>\n",
       "      <td>NaN</td>\n",
       "      <td>NaN</td>\n",
       "      <td>NaN</td>\n",
       "      <td>12.0</td>\n",
       "      <td>7.1</td>\n",
       "      <td>NaN</td>\n",
       "      <td>0</td>\n",
       "    </tr>\n",
       "    <tr>\n",
       "      <th>...</th>\n",
       "      <td>...</td>\n",
       "      <td>...</td>\n",
       "      <td>...</td>\n",
       "      <td>...</td>\n",
       "      <td>...</td>\n",
       "      <td>...</td>\n",
       "      <td>...</td>\n",
       "      <td>...</td>\n",
       "      <td>...</td>\n",
       "      <td>...</td>\n",
       "      <td>...</td>\n",
       "      <td>...</td>\n",
       "      <td>...</td>\n",
       "      <td>...</td>\n",
       "      <td>...</td>\n",
       "      <td>...</td>\n",
       "      <td>...</td>\n",
       "      <td>...</td>\n",
       "      <td>...</td>\n",
       "      <td>...</td>\n",
       "      <td>...</td>\n",
       "    </tr>\n",
       "    <tr>\n",
       "      <th>4911</th>\n",
       "      <td>Color</td>\n",
       "      <td>Scott Smith</td>\n",
       "      <td>1.0</td>\n",
       "      <td>87.0</td>\n",
       "      <td>2.0</td>\n",
       "      <td>318.0</td>\n",
       "      <td>Daphne Zuniga</td>\n",
       "      <td>637.0</td>\n",
       "      <td>NaN</td>\n",
       "      <td>Comedy|Drama</td>\n",
       "      <td>...</td>\n",
       "      <td>6.0</td>\n",
       "      <td>English</td>\n",
       "      <td>Canada</td>\n",
       "      <td>NaN</td>\n",
       "      <td>NaN</td>\n",
       "      <td>2013.0</td>\n",
       "      <td>470.0</td>\n",
       "      <td>7.7</td>\n",
       "      <td>NaN</td>\n",
       "      <td>84</td>\n",
       "    </tr>\n",
       "    <tr>\n",
       "      <th>4912</th>\n",
       "      <td>Color</td>\n",
       "      <td>NaN</td>\n",
       "      <td>43.0</td>\n",
       "      <td>43.0</td>\n",
       "      <td>NaN</td>\n",
       "      <td>319.0</td>\n",
       "      <td>Valorie Curry</td>\n",
       "      <td>841.0</td>\n",
       "      <td>NaN</td>\n",
       "      <td>Crime|Drama|Mystery|Thriller</td>\n",
       "      <td>...</td>\n",
       "      <td>359.0</td>\n",
       "      <td>English</td>\n",
       "      <td>USA</td>\n",
       "      <td>TV-14</td>\n",
       "      <td>NaN</td>\n",
       "      <td>NaN</td>\n",
       "      <td>593.0</td>\n",
       "      <td>7.5</td>\n",
       "      <td>16.00</td>\n",
       "      <td>32000</td>\n",
       "    </tr>\n",
       "    <tr>\n",
       "      <th>4913</th>\n",
       "      <td>Color</td>\n",
       "      <td>Benjamin Roberds</td>\n",
       "      <td>13.0</td>\n",
       "      <td>76.0</td>\n",
       "      <td>0.0</td>\n",
       "      <td>0.0</td>\n",
       "      <td>Maxwell Moody</td>\n",
       "      <td>0.0</td>\n",
       "      <td>NaN</td>\n",
       "      <td>Drama|Horror|Thriller</td>\n",
       "      <td>...</td>\n",
       "      <td>3.0</td>\n",
       "      <td>English</td>\n",
       "      <td>USA</td>\n",
       "      <td>NaN</td>\n",
       "      <td>1400.0</td>\n",
       "      <td>2013.0</td>\n",
       "      <td>0.0</td>\n",
       "      <td>6.3</td>\n",
       "      <td>NaN</td>\n",
       "      <td>16</td>\n",
       "    </tr>\n",
       "    <tr>\n",
       "      <th>4914</th>\n",
       "      <td>Color</td>\n",
       "      <td>Daniel Hsia</td>\n",
       "      <td>14.0</td>\n",
       "      <td>100.0</td>\n",
       "      <td>0.0</td>\n",
       "      <td>489.0</td>\n",
       "      <td>Daniel Henney</td>\n",
       "      <td>946.0</td>\n",
       "      <td>10443.0</td>\n",
       "      <td>Comedy|Drama|Romance</td>\n",
       "      <td>...</td>\n",
       "      <td>9.0</td>\n",
       "      <td>English</td>\n",
       "      <td>USA</td>\n",
       "      <td>PG-13</td>\n",
       "      <td>NaN</td>\n",
       "      <td>2012.0</td>\n",
       "      <td>719.0</td>\n",
       "      <td>6.3</td>\n",
       "      <td>2.35</td>\n",
       "      <td>660</td>\n",
       "    </tr>\n",
       "    <tr>\n",
       "      <th>4915</th>\n",
       "      <td>Color</td>\n",
       "      <td>Jon Gunn</td>\n",
       "      <td>43.0</td>\n",
       "      <td>90.0</td>\n",
       "      <td>16.0</td>\n",
       "      <td>16.0</td>\n",
       "      <td>Brian Herzlinger</td>\n",
       "      <td>86.0</td>\n",
       "      <td>85222.0</td>\n",
       "      <td>Documentary</td>\n",
       "      <td>...</td>\n",
       "      <td>84.0</td>\n",
       "      <td>English</td>\n",
       "      <td>USA</td>\n",
       "      <td>PG</td>\n",
       "      <td>1100.0</td>\n",
       "      <td>2004.0</td>\n",
       "      <td>23.0</td>\n",
       "      <td>6.6</td>\n",
       "      <td>1.85</td>\n",
       "      <td>456</td>\n",
       "    </tr>\n",
       "  </tbody>\n",
       "</table>\n",
       "<p>4916 rows × 28 columns</p>\n",
       "</div>"
      ],
      "text/plain": [
       "      color      director_name  num_critic_for_reviews  duration  \\\n",
       "0     Color      James Cameron                   723.0     178.0   \n",
       "1     Color     Gore Verbinski                   302.0     169.0   \n",
       "2     Color         Sam Mendes                   602.0     148.0   \n",
       "3     Color  Christopher Nolan                   813.0     164.0   \n",
       "4       NaN        Doug Walker                     NaN       NaN   \n",
       "...     ...                ...                     ...       ...   \n",
       "4911  Color        Scott Smith                     1.0      87.0   \n",
       "4912  Color                NaN                    43.0      43.0   \n",
       "4913  Color   Benjamin Roberds                    13.0      76.0   \n",
       "4914  Color        Daniel Hsia                    14.0     100.0   \n",
       "4915  Color           Jon Gunn                    43.0      90.0   \n",
       "\n",
       "      director_facebook_likes  actor_3_facebook_likes      actor_2_name  \\\n",
       "0                         0.0                   855.0  Joel David Moore   \n",
       "1                       563.0                  1000.0     Orlando Bloom   \n",
       "2                         0.0                   161.0      Rory Kinnear   \n",
       "3                     22000.0                 23000.0    Christian Bale   \n",
       "4                       131.0                     NaN        Rob Walker   \n",
       "...                       ...                     ...               ...   \n",
       "4911                      2.0                   318.0     Daphne Zuniga   \n",
       "4912                      NaN                   319.0     Valorie Curry   \n",
       "4913                      0.0                     0.0     Maxwell Moody   \n",
       "4914                      0.0                   489.0     Daniel Henney   \n",
       "4915                     16.0                    16.0  Brian Herzlinger   \n",
       "\n",
       "      actor_1_facebook_likes        gross                           genres  \\\n",
       "0                     1000.0  760505847.0  Action|Adventure|Fantasy|Sci-Fi   \n",
       "1                    40000.0  309404152.0         Action|Adventure|Fantasy   \n",
       "2                    11000.0  200074175.0        Action|Adventure|Thriller   \n",
       "3                    27000.0  448130642.0                  Action|Thriller   \n",
       "4                      131.0          NaN                      Documentary   \n",
       "...                      ...          ...                              ...   \n",
       "4911                   637.0          NaN                     Comedy|Drama   \n",
       "4912                   841.0          NaN     Crime|Drama|Mystery|Thriller   \n",
       "4913                     0.0          NaN            Drama|Horror|Thriller   \n",
       "4914                   946.0      10443.0             Comedy|Drama|Romance   \n",
       "4915                    86.0      85222.0                      Documentary   \n",
       "\n",
       "      ... num_user_for_reviews language  country  content_rating       budget  \\\n",
       "0     ...               3054.0  English      USA           PG-13  237000000.0   \n",
       "1     ...               1238.0  English      USA           PG-13  300000000.0   \n",
       "2     ...                994.0  English       UK           PG-13  245000000.0   \n",
       "3     ...               2701.0  English      USA           PG-13  250000000.0   \n",
       "4     ...                  NaN      NaN      NaN             NaN          NaN   \n",
       "...   ...                  ...      ...      ...             ...          ...   \n",
       "4911  ...                  6.0  English   Canada             NaN          NaN   \n",
       "4912  ...                359.0  English      USA           TV-14          NaN   \n",
       "4913  ...                  3.0  English      USA             NaN       1400.0   \n",
       "4914  ...                  9.0  English      USA           PG-13          NaN   \n",
       "4915  ...                 84.0  English      USA              PG       1100.0   \n",
       "\n",
       "      title_year actor_2_facebook_likes imdb_score  aspect_ratio  \\\n",
       "0         2009.0                  936.0        7.9          1.78   \n",
       "1         2007.0                 5000.0        7.1          2.35   \n",
       "2         2015.0                  393.0        6.8          2.35   \n",
       "3         2012.0                23000.0        8.5          2.35   \n",
       "4            NaN                   12.0        7.1           NaN   \n",
       "...          ...                    ...        ...           ...   \n",
       "4911      2013.0                  470.0        7.7           NaN   \n",
       "4912         NaN                  593.0        7.5         16.00   \n",
       "4913      2013.0                    0.0        6.3           NaN   \n",
       "4914      2012.0                  719.0        6.3          2.35   \n",
       "4915      2004.0                   23.0        6.6          1.85   \n",
       "\n",
       "     movie_facebook_likes  \n",
       "0                   33000  \n",
       "1                       0  \n",
       "2                   85000  \n",
       "3                  164000  \n",
       "4                       0  \n",
       "...                   ...  \n",
       "4911                   84  \n",
       "4912                32000  \n",
       "4913                   16  \n",
       "4914                  660  \n",
       "4915                  456  \n",
       "\n",
       "[4916 rows x 28 columns]"
      ]
     },
     "execution_count": 1,
     "metadata": {},
     "output_type": "execute_result"
    }
   ],
   "source": [
    "# Importar librería\n",
    "import pandas as pd\n",
    "\n",
    "# Leer dataset\n",
    "df = pd.read_csv('peliculas.csv')\n",
    "df"
   ]
  },
  {
   "cell_type": "markdown",
   "id": "c2e69d5f",
   "metadata": {},
   "source": [
    "Y a partir de este *DataFrame* vamos a extraer dos Series (es decir dos columnas): *color* y *budget*:"
   ]
  },
  {
   "cell_type": "code",
   "execution_count": 2,
   "id": "2ae0b734",
   "metadata": {},
   "outputs": [],
   "source": [
    "serie_color = df['color']\n",
    "serie_budget = df['budget']"
   ]
  },
  {
   "cell_type": "markdown",
   "id": "68c9cf03",
   "metadata": {},
   "source": [
    "El atributo `dtype` nos permite ver el tipo de dato usado para almacenar la Serie:"
   ]
  },
  {
   "cell_type": "code",
   "execution_count": 4,
   "id": "459d0628",
   "metadata": {},
   "outputs": [
    {
     "data": {
      "text/plain": [
       "dtype('float64')"
      ]
     },
     "execution_count": 4,
     "metadata": {},
     "output_type": "execute_result"
    }
   ],
   "source": [
    "# Info general: dtype\n",
    "#serie_color.dtype\n",
    "serie_budget.dtype\n"
   ]
  },
  {
   "cell_type": "markdown",
   "id": "2471ffc5",
   "metadata": {},
   "source": [
    "Y podemos usar el método `count()` para realizar un conteo simple de datos en la Serie, **sin incluir NaNs**:"
   ]
  },
  {
   "cell_type": "code",
   "execution_count": 5,
   "id": "9e3a9f73",
   "metadata": {},
   "outputs": [
    {
     "name": "stdout",
     "output_type": "stream",
     "text": [
      "4897\n",
      "4432\n"
     ]
    }
   ],
   "source": [
    "# Contar cantidad de datos\n",
    "print(serie_color.count())\n",
    "print(serie_budget.count())"
   ]
  },
  {
   "cell_type": "markdown",
   "id": "4d1dd1f3",
   "metadata": {},
   "source": [
    "Al igual que en el caso de los *DataFrames*, podemos usar el método `value_counts()` para realizar un conteo de los diferentes valores presentes en la Serie. Esto resulta muy útil especialmente en el caso de variables categóricas, pues nos permite ver los niveles presentes en la Serie:"
   ]
  },
  {
   "cell_type": "code",
   "execution_count": 6,
   "id": "3e83ca0e",
   "metadata": {},
   "outputs": [
    {
     "data": {
      "text/plain": [
       "Color              4693\n",
       "Black and White     204\n",
       "Name: color, dtype: int64"
      ]
     },
     "execution_count": 6,
     "metadata": {},
     "output_type": "execute_result"
    }
   ],
   "source": [
    "# Conteo de niveles en variable categórica\n",
    "serie_color.value_counts()"
   ]
  },
  {
   "cell_type": "markdown",
   "id": "10df105a",
   "metadata": {},
   "source": [
    "Y podemos combinar el método `isna()` (para determinar cuáles elementos de la Serie son NaN, marcados como `True`) junto con `value_counts()` para determinar la cantidad exacta de datos faltantes:"
   ]
  },
  {
   "cell_type": "code",
   "execution_count": 7,
   "id": "76c32639",
   "metadata": {},
   "outputs": [
    {
     "data": {
      "text/plain": [
       "False    4432\n",
       "True      484\n",
       "Name: budget, dtype: int64"
      ]
     },
     "execution_count": 7,
     "metadata": {},
     "output_type": "execute_result"
    }
   ],
   "source": [
    "# Conteo de NaN (etiquetados como \"True\")\n",
    "serie_budget.isna().value_counts()"
   ]
  },
  {
   "cell_type": "markdown",
   "id": "8a018ec0",
   "metadata": {},
   "source": [
    "También está disponible el método `describe()` que en principio resulta útil para variables numéricas pero que para el caso de Series tipo *Object* (o *string*) también arroja información útil:"
   ]
  },
  {
   "cell_type": "code",
   "execution_count": 8,
   "id": "aec69b41",
   "metadata": {},
   "outputs": [
    {
     "data": {
      "text/plain": [
       "count    4.432000e+03\n",
       "mean     3.654749e+07\n",
       "std      1.002427e+08\n",
       "min      2.180000e+02\n",
       "25%      6.000000e+06\n",
       "50%      1.985000e+07\n",
       "75%      4.300000e+07\n",
       "max      4.200000e+09\n",
       "Name: budget, dtype: float64"
      ]
     },
     "execution_count": 8,
     "metadata": {},
     "output_type": "execute_result"
    }
   ],
   "source": [
    "# Describir variable numérica\n",
    "serie_budget.describe()"
   ]
  },
  {
   "cell_type": "code",
   "execution_count": 9,
   "id": "c1a81114",
   "metadata": {},
   "outputs": [
    {
     "data": {
      "text/plain": [
       "count      4897\n",
       "unique        2\n",
       "top       Color\n",
       "freq       4693\n",
       "Name: color, dtype: object"
      ]
     },
     "execution_count": 9,
     "metadata": {},
     "output_type": "execute_result"
    }
   ],
   "source": [
    "# Y si lo aplico a variable tipo \"string\" obtengo una descripción interesante!!!\n",
    "serie_color.describe()"
   ]
  },
  {
   "cell_type": "markdown",
   "id": "95c00180",
   "metadata": {},
   "source": [
    "## 2. Métodos para síntesis de Series\n",
    "\n",
    "Al igual que con los *DataFrames* tenemos a disposición métodos como `sum()`, `min()`, `max()`, `mean()`, `std()` y `median()`, entre otros, que resultan útiles para sintetizar una variable numérica:"
   ]
  },
  {
   "cell_type": "code",
   "execution_count": 12,
   "id": "a3aa7235",
   "metadata": {},
   "outputs": [
    {
     "data": {
      "text/plain": [
       "4200000000.0"
      ]
     },
     "execution_count": 12,
     "metadata": {},
     "output_type": "execute_result"
    }
   ],
   "source": [
    "# Operaciones de síntesis\n",
    "serie_budget.max()  # Probar con min, max, mean, std y median"
   ]
  },
  {
   "cell_type": "markdown",
   "id": "d7ebd327",
   "metadata": {},
   "source": [
    "## 3. Método `apply()`\n",
    "\n",
    "Y también tenemos disponible el método `apply` que nos permite aplicar una función específica a cada elemento de la Serie y que funciona de forma idéntica a la que vimos en el caso de los *DataFrames*:\n",
    "\n",
    "- Podemos aplicar una función proveniente de la librería estándar de Python o de NumPy\n",
    "- Podemos aplicar una función creada con `def` o una función *lambda*\n",
    "\n",
    "Veamos a través de un ejemplo dos maneras diferentes de lograr un mismo resultado: tomemos la columna `language` del *DataFrame* y convirtamos cada *string* a su representación en minúsculas:"
   ]
  },
  {
   "cell_type": "code",
   "execution_count": 13,
   "id": "c2bf9bcb",
   "metadata": {},
   "outputs": [
    {
     "data": {
      "text/plain": [
       "0       English\n",
       "1       English\n",
       "2       English\n",
       "3       English\n",
       "4           NaN\n",
       "         ...   \n",
       "4911    English\n",
       "4912    English\n",
       "4913    English\n",
       "4914    English\n",
       "4915    English\n",
       "Name: language, Length: 4916, dtype: object"
      ]
     },
     "execution_count": 13,
     "metadata": {},
     "output_type": "execute_result"
    }
   ],
   "source": [
    "# Extraigamos primero la serie\n",
    "serie_lang = df['language']\n",
    "serie_lang"
   ]
  },
  {
   "cell_type": "code",
   "execution_count": 14,
   "id": "5ad9de0a",
   "metadata": {},
   "outputs": [
    {
     "data": {
      "text/plain": [
       "0       english\n",
       "1       english\n",
       "2       english\n",
       "3       english\n",
       "4           NaN\n",
       "         ...   \n",
       "4911    english\n",
       "4912    english\n",
       "4913    english\n",
       "4914    english\n",
       "4915    english\n",
       "Name: language, Length: 4916, dtype: object"
      ]
     },
     "execution_count": 14,
     "metadata": {},
     "output_type": "execute_result"
    }
   ],
   "source": [
    "# Método 1: convertir a minúsculas usando el atributo *str* y el método \"lower()\"\n",
    "serie_lang.str.lower()"
   ]
  },
  {
   "cell_type": "code",
   "execution_count": 15,
   "id": "9445bd35",
   "metadata": {},
   "outputs": [
    {
     "ename": "TypeError",
     "evalue": "descriptor 'lower' for 'str' objects doesn't apply to a 'float' object",
     "output_type": "error",
     "traceback": [
      "\u001b[0;31m---------------------------------------------------------------------------\u001b[0m",
      "\u001b[0;31mTypeError\u001b[0m                                 Traceback (most recent call last)",
      "Cell \u001b[0;32mIn[15], line 2\u001b[0m\n\u001b[1;32m      1\u001b[0m \u001b[38;5;66;03m# Método 2: usando \"apply\"\u001b[39;00m\n\u001b[0;32m----> 2\u001b[0m \u001b[43mserie_lang\u001b[49m\u001b[38;5;241;43m.\u001b[39;49m\u001b[43mapply\u001b[49m\u001b[43m(\u001b[49m\u001b[38;5;28;43mstr\u001b[39;49m\u001b[38;5;241;43m.\u001b[39;49m\u001b[43mlower\u001b[49m\u001b[43m)\u001b[49m\n",
      "File \u001b[0;32m~/.pyenv/versions/3.11.2/envs/academy/lib/python3.11/site-packages/pandas/core/series.py:4771\u001b[0m, in \u001b[0;36mSeries.apply\u001b[0;34m(self, func, convert_dtype, args, **kwargs)\u001b[0m\n\u001b[1;32m   4661\u001b[0m \u001b[38;5;28;01mdef\u001b[39;00m \u001b[38;5;21mapply\u001b[39m(\n\u001b[1;32m   4662\u001b[0m     \u001b[38;5;28mself\u001b[39m,\n\u001b[1;32m   4663\u001b[0m     func: AggFuncType,\n\u001b[0;32m   (...)\u001b[0m\n\u001b[1;32m   4666\u001b[0m     \u001b[38;5;241m*\u001b[39m\u001b[38;5;241m*\u001b[39mkwargs,\n\u001b[1;32m   4667\u001b[0m ) \u001b[38;5;241m-\u001b[39m\u001b[38;5;241m>\u001b[39m DataFrame \u001b[38;5;241m|\u001b[39m Series:\n\u001b[1;32m   4668\u001b[0m \u001b[38;5;250m    \u001b[39m\u001b[38;5;124;03m\"\"\"\u001b[39;00m\n\u001b[1;32m   4669\u001b[0m \u001b[38;5;124;03m    Invoke function on values of Series.\u001b[39;00m\n\u001b[1;32m   4670\u001b[0m \n\u001b[0;32m   (...)\u001b[0m\n\u001b[1;32m   4769\u001b[0m \u001b[38;5;124;03m    dtype: float64\u001b[39;00m\n\u001b[1;32m   4770\u001b[0m \u001b[38;5;124;03m    \"\"\"\u001b[39;00m\n\u001b[0;32m-> 4771\u001b[0m     \u001b[38;5;28;01mreturn\u001b[39;00m \u001b[43mSeriesApply\u001b[49m\u001b[43m(\u001b[49m\u001b[38;5;28;43mself\u001b[39;49m\u001b[43m,\u001b[49m\u001b[43m \u001b[49m\u001b[43mfunc\u001b[49m\u001b[43m,\u001b[49m\u001b[43m \u001b[49m\u001b[43mconvert_dtype\u001b[49m\u001b[43m,\u001b[49m\u001b[43m \u001b[49m\u001b[43margs\u001b[49m\u001b[43m,\u001b[49m\u001b[43m \u001b[49m\u001b[43mkwargs\u001b[49m\u001b[43m)\u001b[49m\u001b[38;5;241;43m.\u001b[39;49m\u001b[43mapply\u001b[49m\u001b[43m(\u001b[49m\u001b[43m)\u001b[49m\n",
      "File \u001b[0;32m~/.pyenv/versions/3.11.2/envs/academy/lib/python3.11/site-packages/pandas/core/apply.py:1123\u001b[0m, in \u001b[0;36mSeriesApply.apply\u001b[0;34m(self)\u001b[0m\n\u001b[1;32m   1120\u001b[0m     \u001b[38;5;28;01mreturn\u001b[39;00m \u001b[38;5;28mself\u001b[39m\u001b[38;5;241m.\u001b[39mapply_str()\n\u001b[1;32m   1122\u001b[0m \u001b[38;5;66;03m# self.f is Callable\u001b[39;00m\n\u001b[0;32m-> 1123\u001b[0m \u001b[38;5;28;01mreturn\u001b[39;00m \u001b[38;5;28;43mself\u001b[39;49m\u001b[38;5;241;43m.\u001b[39;49m\u001b[43mapply_standard\u001b[49m\u001b[43m(\u001b[49m\u001b[43m)\u001b[49m\n",
      "File \u001b[0;32m~/.pyenv/versions/3.11.2/envs/academy/lib/python3.11/site-packages/pandas/core/apply.py:1174\u001b[0m, in \u001b[0;36mSeriesApply.apply_standard\u001b[0;34m(self)\u001b[0m\n\u001b[1;32m   1172\u001b[0m     \u001b[38;5;28;01melse\u001b[39;00m:\n\u001b[1;32m   1173\u001b[0m         values \u001b[38;5;241m=\u001b[39m obj\u001b[38;5;241m.\u001b[39mastype(\u001b[38;5;28mobject\u001b[39m)\u001b[38;5;241m.\u001b[39m_values\n\u001b[0;32m-> 1174\u001b[0m         mapped \u001b[38;5;241m=\u001b[39m \u001b[43mlib\u001b[49m\u001b[38;5;241;43m.\u001b[39;49m\u001b[43mmap_infer\u001b[49m\u001b[43m(\u001b[49m\n\u001b[1;32m   1175\u001b[0m \u001b[43m            \u001b[49m\u001b[43mvalues\u001b[49m\u001b[43m,\u001b[49m\n\u001b[1;32m   1176\u001b[0m \u001b[43m            \u001b[49m\u001b[43mf\u001b[49m\u001b[43m,\u001b[49m\n\u001b[1;32m   1177\u001b[0m \u001b[43m            \u001b[49m\u001b[43mconvert\u001b[49m\u001b[38;5;241;43m=\u001b[39;49m\u001b[38;5;28;43mself\u001b[39;49m\u001b[38;5;241;43m.\u001b[39;49m\u001b[43mconvert_dtype\u001b[49m\u001b[43m,\u001b[49m\n\u001b[1;32m   1178\u001b[0m \u001b[43m        \u001b[49m\u001b[43m)\u001b[49m\n\u001b[1;32m   1180\u001b[0m \u001b[38;5;28;01mif\u001b[39;00m \u001b[38;5;28mlen\u001b[39m(mapped) \u001b[38;5;129;01mand\u001b[39;00m \u001b[38;5;28misinstance\u001b[39m(mapped[\u001b[38;5;241m0\u001b[39m], ABCSeries):\n\u001b[1;32m   1181\u001b[0m     \u001b[38;5;66;03m# GH#43986 Need to do list(mapped) in order to get treated as nested\u001b[39;00m\n\u001b[1;32m   1182\u001b[0m     \u001b[38;5;66;03m#  See also GH#25959 regarding EA support\u001b[39;00m\n\u001b[1;32m   1183\u001b[0m     \u001b[38;5;28;01mreturn\u001b[39;00m obj\u001b[38;5;241m.\u001b[39m_constructor_expanddim(\u001b[38;5;28mlist\u001b[39m(mapped), index\u001b[38;5;241m=\u001b[39mobj\u001b[38;5;241m.\u001b[39mindex)\n",
      "File \u001b[0;32m~/.pyenv/versions/3.11.2/envs/academy/lib/python3.11/site-packages/pandas/_libs/lib.pyx:2924\u001b[0m, in \u001b[0;36mpandas._libs.lib.map_infer\u001b[0;34m()\u001b[0m\n",
      "\u001b[0;31mTypeError\u001b[0m: descriptor 'lower' for 'str' objects doesn't apply to a 'float' object"
     ]
    }
   ],
   "source": [
    "# Método 2: usando \"apply\"\n",
    "serie_lang.apply(str.lower)"
   ]
  },
  {
   "cell_type": "markdown",
   "id": "7c7a3b82",
   "metadata": {},
   "source": [
    "En el caso anterior el error nos indica que la Serie contiene valores *NaN* que son interpretados como punto flotante y que no pueden ser convertidos a formato *string*.\n",
    "\n",
    "Para corregir este error debemos eliminar estos datos faltantes (usando el método `dropna()` visto anteriormente):"
   ]
  },
  {
   "cell_type": "code",
   "execution_count": 16,
   "id": "0065872b",
   "metadata": {},
   "outputs": [
    {
     "data": {
      "text/plain": [
       "0       english\n",
       "1       english\n",
       "2       english\n",
       "3       english\n",
       "5       english\n",
       "         ...   \n",
       "4911    english\n",
       "4912    english\n",
       "4913    english\n",
       "4914    english\n",
       "4915    english\n",
       "Name: language, Length: 4904, dtype: object"
      ]
     },
     "execution_count": 16,
     "metadata": {},
     "output_type": "execute_result"
    }
   ],
   "source": [
    "# Versión corregida: remover NaNs -> apply str + lower\n",
    "serie_lang.dropna().apply(str.lower)"
   ]
  },
  {
   "cell_type": "markdown",
   "id": "287c6a3f",
   "metadata": {},
   "source": [
    "## 4. Ejercicio práctico\n",
    "\n",
    "Usemos algunas de las ideas aprendidas hasta el momento, así como otros métodos adicionales, para resolver este pequeño reto: determinar los 10 actores con más papeles protagónicos."
   ]
  },
  {
   "cell_type": "code",
   "execution_count": 17,
   "id": "9fc881fe",
   "metadata": {},
   "outputs": [
    {
     "data": {
      "text/plain": [
       "0           CCH Pounder\n",
       "1           Johnny Depp\n",
       "2       Christoph Waltz\n",
       "3             Tom Hardy\n",
       "4           Doug Walker\n",
       "             ...       \n",
       "4911        Eric Mabius\n",
       "4912        Natalie Zea\n",
       "4913        Eva Boehnke\n",
       "4914          Alan Ruck\n",
       "4915        John August\n",
       "Name: actor_1_name, Length: 4916, dtype: object"
      ]
     },
     "execution_count": 17,
     "metadata": {},
     "output_type": "execute_result"
    }
   ],
   "source": [
    "# Los papeles protagónicos están en la columna \"actor_1_name\".\n",
    "# Extraigamos esta columna y almacenémosla en una serie\n",
    "serie_actors = df['actor_1_name']\n",
    "serie_actors"
   ]
  },
  {
   "cell_type": "markdown",
   "id": "fbdf12b6",
   "metadata": {},
   "source": [
    "Ahora podemos tomar la Serie anterior y usar el método `value_counts()` para crear una nueva Serie que contenga el conteo de veces que aparece cada actor en la Serie original.\n",
    "\n",
    "Este conteo es precisamente el número de películas en las cuales ha sido protagonista cada actor:"
   ]
  },
  {
   "cell_type": "code",
   "execution_count": 18,
   "id": "ce1a9d38",
   "metadata": {},
   "outputs": [
    {
     "data": {
      "text/plain": [
       "Robert De Niro             48\n",
       "Johnny Depp                36\n",
       "Nicolas Cage               32\n",
       "J.K. Simmons               29\n",
       "Matt Damon                 29\n",
       "                           ..\n",
       "Sharon Leal                 1\n",
       "Maximilian Dirr             1\n",
       "Bruce Payne                 1\n",
       "Birgitte Hjort Sørensen     1\n",
       "John August                 1\n",
       "Name: actor_1_name, Length: 2095, dtype: int64"
      ]
     },
     "execution_count": 18,
     "metadata": {},
     "output_type": "execute_result"
    }
   ],
   "source": [
    "serie_conteo = serie_actors.value_counts()\n",
    "serie_conteo"
   ]
  },
  {
   "cell_type": "markdown",
   "id": "5c40ff35",
   "metadata": {},
   "source": [
    "Por defecto `value_counts()` genera una Serie en orden descendente, así que en las primeras posiciones tendremos precisamente los actores que han protagonizado más películas.\n",
    "\n",
    "A partir de esta Serie (`serie_conteo`) podemos extraer los actores en el top-10. Hay varias formas de hacerlo y en este caso veremos dos.\n",
    "\n",
    "La primera es usando indexación:"
   ]
  },
  {
   "cell_type": "code",
   "execution_count": 19,
   "id": "7877d68a",
   "metadata": {},
   "outputs": [
    {
     "data": {
      "text/plain": [
       "Robert De Niro       48\n",
       "Johnny Depp          36\n",
       "Nicolas Cage         32\n",
       "J.K. Simmons         29\n",
       "Matt Damon           29\n",
       "Denzel Washington    29\n",
       "Bruce Willis         28\n",
       "Harrison Ford        27\n",
       "Steve Buscemi        27\n",
       "Robin Williams       27\n",
       "Name: actor_1_name, dtype: int64"
      ]
     },
     "execution_count": 19,
     "metadata": {},
     "output_type": "execute_result"
    }
   ],
   "source": [
    "# Top-10, método 1: indexar serie_conteo\n",
    "serie_conteo[0:10]"
   ]
  },
  {
   "cell_type": "markdown",
   "id": "bff06463",
   "metadata": {},
   "source": [
    "Y la segunda forma es usando el método `nlargest()` que nos permite obtener los \"n\" valores más grandes dentro de la Serie, donde \"n\" es precisamente el argumento de este método.\n",
    "\n",
    "Este método también está disponible en el caso de los *DataFrames*:"
   ]
  },
  {
   "cell_type": "code",
   "execution_count": 20,
   "id": "2bd71b4e",
   "metadata": {},
   "outputs": [
    {
     "data": {
      "text/plain": [
       "Robert De Niro       48\n",
       "Johnny Depp          36\n",
       "Nicolas Cage         32\n",
       "J.K. Simmons         29\n",
       "Matt Damon           29\n",
       "Denzel Washington    29\n",
       "Bruce Willis         28\n",
       "Harrison Ford        27\n",
       "Steve Buscemi        27\n",
       "Robin Williams       27\n",
       "Name: actor_1_name, dtype: int64"
      ]
     },
     "execution_count": 20,
     "metadata": {},
     "output_type": "execute_result"
    }
   ],
   "source": [
    "# Top-10, método 2: nlargest\n",
    "serie_conteo.nlargest(10)"
   ]
  },
  {
   "cell_type": "markdown",
   "id": "cef84e76",
   "metadata": {},
   "source": [
    "Y al igual que con los *DataFrames*, en el caso de las Series también podemos encadenar todas las operaciones realizadas hasta el momento en una sola línea de código:"
   ]
  },
  {
   "cell_type": "code",
   "execution_count": 21,
   "id": "63f01d0f",
   "metadata": {},
   "outputs": [
    {
     "data": {
      "text/plain": [
       "Robert De Niro       48\n",
       "Johnny Depp          36\n",
       "Nicolas Cage         32\n",
       "J.K. Simmons         29\n",
       "Matt Damon           29\n",
       "Denzel Washington    29\n",
       "Bruce Willis         28\n",
       "Harrison Ford        27\n",
       "Steve Buscemi        27\n",
       "Robin Williams       27\n",
       "Name: actor_1_name, dtype: int64"
      ]
     },
     "execution_count": 21,
     "metadata": {},
     "output_type": "execute_result"
    }
   ],
   "source": [
    "# Encadenar operaciones método 1: extraer columna -> value_counts -> Indexación\n",
    "df['actor_1_name'].value_counts()[0:10]"
   ]
  },
  {
   "cell_type": "code",
   "execution_count": 22,
   "id": "4f4d6795",
   "metadata": {},
   "outputs": [
    {
     "data": {
      "text/plain": [
       "Robert De Niro       48\n",
       "Johnny Depp          36\n",
       "Nicolas Cage         32\n",
       "J.K. Simmons         29\n",
       "Matt Damon           29\n",
       "Denzel Washington    29\n",
       "Bruce Willis         28\n",
       "Harrison Ford        27\n",
       "Steve Buscemi        27\n",
       "Robin Williams       27\n",
       "Name: actor_1_name, dtype: int64"
      ]
     },
     "execution_count": 22,
     "metadata": {},
     "output_type": "execute_result"
    }
   ],
   "source": [
    "# O encadenar operaciones método 2: extraer columna -> value_counts -> nlargest\n",
    "df['actor_1_name'].value_counts().nlargest(10)"
   ]
  },
  {
   "cell_type": "code",
   "execution_count": null,
   "id": "91c1a118",
   "metadata": {},
   "outputs": [],
   "source": []
  }
 ],
 "metadata": {
  "kernelspec": {
   "display_name": "Python 3 (ipykernel)",
   "language": "python",
   "name": "python3"
  },
  "language_info": {
   "codemirror_mode": {
    "name": "ipython",
    "version": 3
   },
   "file_extension": ".py",
   "mimetype": "text/x-python",
   "name": "python",
   "nbconvert_exporter": "python",
   "pygments_lexer": "ipython3",
   "version": "3.11.2"
  }
 },
 "nbformat": 4,
 "nbformat_minor": 5
}
