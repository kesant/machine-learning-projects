{
 "cells": [
  {
   "cell_type": "markdown",
   "id": "992627ee-cbb2-4d4a-bc9d-1a2edcb29bdb",
   "metadata": {},
   "source": [
    "# Libraries"
   ]
  },
  {
   "cell_type": "code",
   "execution_count": null,
   "id": "fe5f5389-0d8d-4ba1-a8b1-95b8c7fd89af",
   "metadata": {},
   "outputs": [],
   "source": []
  },
  {
   "cell_type": "markdown",
   "id": "43a1e6f1-fab7-4e80-973a-6feaaa283882",
   "metadata": {},
   "source": [
    "# **Time Series and Machine Learning Primer**"
   ]
  },
  {
   "cell_type": "code",
   "execution_count": null,
   "id": "7de655ae-c1ba-4789-87ac-d980af0f70bb",
   "metadata": {},
   "outputs": [],
   "source": []
  }
 ],
 "metadata": {
  "kernelspec": {
   "display_name": "Python 3 (ipykernel)",
   "language": "python",
   "name": "python3"
  },
  "language_info": {
   "codemirror_mode": {
    "name": "ipython",
    "version": 3
   },
   "file_extension": ".py",
   "mimetype": "text/x-python",
   "name": "python",
   "nbconvert_exporter": "python",
   "pygments_lexer": "ipython3",
   "version": "3.12.3"
  }
 },
 "nbformat": 4,
 "nbformat_minor": 5
}
