{
 "cells": [
  {
   "cell_type": "code",
   "execution_count": null,
   "id": "12cf8476",
   "metadata": {},
   "outputs": [],
   "source": [
    "import pandas as pd\n",
    "import numpy as np\n",
    "from sklearn.preprocessing import StandardScaler\n",
    "from sklearn.cluster import KMeans\n",
    "import seaborn as sns\n",
    "import matplotlib.pyplot as plt "
   ]
  },
  {
   "cell_type": "code",
   "execution_count": null,
   "id": "1e9d85f2",
   "metadata": {},
   "outputs": [],
   "source": [
    "df=pd.read_csv(\".../\")"
   ]
  },
  {
   "cell_type": "code",
   "execution_count": null,
   "id": "dfa85b2a",
   "metadata": {},
   "outputs": [],
   "source": [
    "df.head()"
   ]
  },
  {
   "cell_type": "code",
   "execution_count": null,
   "id": "d5bd3eae",
   "metadata": {},
   "outputs": [],
   "source": [
    "x=df.iloc[:,1:]"
   ]
  },
  {
   "cell_type": "code",
   "execution_count": null,
   "id": "f163cc8b",
   "metadata": {},
   "outputs": [],
   "source": [
    "sc=StandardScaler()#escalador , estandarizador"
   ]
  },
  {
   "cell_type": "code",
   "execution_count": null,
   "id": "13886181",
   "metadata": {},
   "outputs": [],
   "source": [
    "sc.fit(x)#ajusta los parametros de media y desviacion estandar"
   ]
  },
  {
   "cell_type": "code",
   "execution_count": null,
   "id": "722f8708",
   "metadata": {},
   "outputs": [],
   "source": [
    "x_norm=sc.transform(x)#normaliza los datos ,devuelve un dataframe"
   ]
  },
  {
   "cell_type": "markdown",
   "id": "bf753720",
   "metadata": {},
   "source": [
    "procedemos a realizar el metodo del codo para establecer los el valor de agrupamiento \"k\", el valor de semilla  (randon_state) es para poder reproducir el experimento y obtener los mismos resultados"
   ]
  },
  {
   "cell_type": "code",
   "execution_count": null,
   "id": "6252284e",
   "metadata": {},
   "outputs": [],
   "source": [
    "clusters=np.arrange(2,10)"
   ]
  },
  {
   "cell_type": "code",
   "execution_count": null,
   "id": "032024a2",
   "metadata": {},
   "outputs": [],
   "source": [
    "#itero una lista de clusters para poder obtener la inercias de cada uno\n",
    "inercias =[]\n",
    "for k in clusters :\n",
    "    #con el fit aprende los centroides\n",
    "    kmeans = KMeans(n_clusters=2, random_state=0, n_init=\"auto\").fit(X_norm)\n",
    "    inercias.append(kmeans.inertia_)"
   ]
  },
  {
   "cell_type": "code",
   "execution_count": null,
   "id": "ded0a61e",
   "metadata": {},
   "outputs": [],
   "source": [
    "eva=pd.DataFrame({\"k\":clusters,\"inercia\":inercias})"
   ]
  },
  {
   "cell_type": "code",
   "execution_count": null,
   "id": "69dedc02",
   "metadata": {},
   "outputs": [],
   "source": [
    "#plot para ver el metodo del codo y determinar el valor K\n",
    "fig,ax=plt.subplots(figsize=(10,10))\n",
    "sns.lineplot(data=eva,x=\"k\",y=\"inercia\" )"
   ]
  },
  {
   "cell_type": "code",
   "execution_count": null,
   "id": "91718687",
   "metadata": {},
   "outputs": [],
   "source": [
    "kmeans=KMeans(n_clusters=4,randomstate=0) # establece el numero de iteraciones"
   ]
  },
  {
   "cell_type": "code",
   "execution_count": null,
   "id": "7f29e621",
   "metadata": {},
   "outputs": [],
   "source": [
    "kmeans.fit(x_norm)#aprende los centroides"
   ]
  },
  {
   "cell_type": "code",
   "execution_count": null,
   "id": "99fe4721",
   "metadata": {},
   "outputs": [],
   "source": [
    "kmeans.cluster_centers_#muestra los centroides encontrados"
   ]
  },
  {
   "cell_type": "code",
   "execution_count": null,
   "id": "4c229476",
   "metadata": {},
   "outputs": [],
   "source": [
    "kmeans.labels_#muestra los labels, las etiquetas de cada una de nuestras observaciones"
   ]
  },
  {
   "cell_type": "code",
   "execution_count": null,
   "id": "ab47fd88",
   "metadata": {},
   "outputs": [],
   "source": []
  },
  {
   "cell_type": "markdown",
   "id": "415f593b",
   "metadata": {},
   "source": [
    "vamos a agregar los labels a nuestro dataset original para poder observar a que grupo pertenecen cada una de las observaciones, para poder realizar un analisis del data set"
   ]
  },
  {
   "cell_type": "code",
   "execution_count": null,
   "id": "8cf33c29",
   "metadata": {},
   "outputs": [],
   "source": [
    "df[\"cluster\"]=kmeans.labels_"
   ]
  },
  {
   "cell_type": "code",
   "execution_count": null,
   "id": "9f9b32ab",
   "metadata": {},
   "outputs": [],
   "source": [
    "df.head()"
   ]
  },
  {
   "cell_type": "code",
   "execution_count": null,
   "id": "e7758d06",
   "metadata": {},
   "outputs": [],
   "source": [
    "sns.pairplot(df,hue=\"cluster\",palette=\"tab10\")"
   ]
  },
  {
   "cell_type": "code",
   "execution_count": null,
   "id": "0cf03a28",
   "metadata": {},
   "outputs": [],
   "source": [
    "df.loc[df[\"cluster\"]==0]#filtrar por clusters "
   ]
  },
  {
   "cell_type": "code",
   "execution_count": null,
   "id": "9c0cfc94",
   "metadata": {},
   "outputs": [],
   "source": [
    "sns.boxplot(x=\"cluster\",y=\"Murder\",data=df)#analisis por grupos"
   ]
  }
 ],
 "metadata": {
  "kernelspec": {
   "display_name": "Python 3 (ipykernel)",
   "language": "python",
   "name": "python3"
  },
  "language_info": {
   "codemirror_mode": {
    "name": "ipython",
    "version": 3
   },
   "file_extension": ".py",
   "mimetype": "text/x-python",
   "name": "python",
   "nbconvert_exporter": "python",
   "pygments_lexer": "ipython3",
   "version": "3.11.3"
  }
 },
 "nbformat": 4,
 "nbformat_minor": 5
}
